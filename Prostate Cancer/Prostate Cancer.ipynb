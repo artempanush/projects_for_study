{
 "cells": [
  {
   "cell_type": "markdown",
   "id": "6c2df397",
   "metadata": {},
   "source": [
    "# Introduction"
   ]
  },
  {
   "cell_type": "markdown",
   "id": "3e44e3ae",
   "metadata": {},
   "source": [
    "We use a dataset published in Kaggle by user Sajid Saifi and called 'Prostate Cancer'. The data set consists of 100 observations and 10 variables (out of which 8 numeric variables and one categorical variable and is ID). \n",
    "\n",
    "Prostate cancer begins when cells in the prostate gland start to grow out of control. The prostate is a gland found only in males. It makes some of the fluid that is part of semen. The chances of developing prostate cancer increase as you get older. We can look at the occurrence of cancer more deeply and determine its presence by cell in this project.\n",
    "\n",
    "All observations desctribe zone of tumuor in numeric order. The result is a binary system - what is the type of tumour, benign or malignant.\n",
    "\n",
    "We have ten features for each cell nucleus:\n",
    "* radius (mean of distances from center to points on the perimeter)\n",
    "* texture (standard deviation of gray-scale values)\n",
    "* perimeter\n",
    "* area\n",
    "* smoothness (local variation in radius lengths)\n",
    "* compactness (perimeter^2 / area - 1.0)\n",
    "* symmetry \n",
    "* fractal dimension (\"coastline approximation\" - 1)\n",
    "\n",
    "Our purpose is use machine learning algorithms and create the best model with low deviation for next binary predictions. \n",
    "\n",
    "Lets import useful libraries and download the dataset."
   ]
  },
  {
   "cell_type": "code",
   "execution_count": 337,
   "id": "a4d2729b",
   "metadata": {},
   "outputs": [],
   "source": [
    "import pandas as pd\n",
    "import numpy as np\n",
    "import matplotlib.pyplot as plt\n",
    "import seaborn as sns"
   ]
  },
  {
   "cell_type": "code",
   "execution_count": 338,
   "id": "4e061905",
   "metadata": {},
   "outputs": [
    {
     "data": {
      "text/html": [
       "<div>\n",
       "<style scoped>\n",
       "    .dataframe tbody tr th:only-of-type {\n",
       "        vertical-align: middle;\n",
       "    }\n",
       "\n",
       "    .dataframe tbody tr th {\n",
       "        vertical-align: top;\n",
       "    }\n",
       "\n",
       "    .dataframe thead th {\n",
       "        text-align: right;\n",
       "    }\n",
       "</style>\n",
       "<table border=\"1\" class=\"dataframe\">\n",
       "  <thead>\n",
       "    <tr style=\"text-align: right;\">\n",
       "      <th></th>\n",
       "      <th>id</th>\n",
       "      <th>diagnosis_result</th>\n",
       "      <th>radius</th>\n",
       "      <th>texture</th>\n",
       "      <th>perimeter</th>\n",
       "      <th>area</th>\n",
       "      <th>smoothness</th>\n",
       "      <th>compactness</th>\n",
       "      <th>symmetry</th>\n",
       "      <th>fractal_dimension</th>\n",
       "    </tr>\n",
       "  </thead>\n",
       "  <tbody>\n",
       "    <tr>\n",
       "      <th>0</th>\n",
       "      <td>1</td>\n",
       "      <td>M</td>\n",
       "      <td>23</td>\n",
       "      <td>12</td>\n",
       "      <td>151</td>\n",
       "      <td>954</td>\n",
       "      <td>0.143</td>\n",
       "      <td>0.278</td>\n",
       "      <td>0.242</td>\n",
       "      <td>0.079</td>\n",
       "    </tr>\n",
       "    <tr>\n",
       "      <th>1</th>\n",
       "      <td>2</td>\n",
       "      <td>B</td>\n",
       "      <td>9</td>\n",
       "      <td>13</td>\n",
       "      <td>133</td>\n",
       "      <td>1326</td>\n",
       "      <td>0.143</td>\n",
       "      <td>0.079</td>\n",
       "      <td>0.181</td>\n",
       "      <td>0.057</td>\n",
       "    </tr>\n",
       "    <tr>\n",
       "      <th>2</th>\n",
       "      <td>3</td>\n",
       "      <td>M</td>\n",
       "      <td>21</td>\n",
       "      <td>27</td>\n",
       "      <td>130</td>\n",
       "      <td>1203</td>\n",
       "      <td>0.125</td>\n",
       "      <td>0.160</td>\n",
       "      <td>0.207</td>\n",
       "      <td>0.060</td>\n",
       "    </tr>\n",
       "    <tr>\n",
       "      <th>3</th>\n",
       "      <td>4</td>\n",
       "      <td>M</td>\n",
       "      <td>14</td>\n",
       "      <td>16</td>\n",
       "      <td>78</td>\n",
       "      <td>386</td>\n",
       "      <td>0.070</td>\n",
       "      <td>0.284</td>\n",
       "      <td>0.260</td>\n",
       "      <td>0.097</td>\n",
       "    </tr>\n",
       "    <tr>\n",
       "      <th>4</th>\n",
       "      <td>5</td>\n",
       "      <td>M</td>\n",
       "      <td>9</td>\n",
       "      <td>19</td>\n",
       "      <td>135</td>\n",
       "      <td>1297</td>\n",
       "      <td>0.141</td>\n",
       "      <td>0.133</td>\n",
       "      <td>0.181</td>\n",
       "      <td>0.059</td>\n",
       "    </tr>\n",
       "  </tbody>\n",
       "</table>\n",
       "</div>"
      ],
      "text/plain": [
       "   id diagnosis_result  radius  texture  perimeter  area  smoothness  \\\n",
       "0   1                M      23       12        151   954       0.143   \n",
       "1   2                B       9       13        133  1326       0.143   \n",
       "2   3                M      21       27        130  1203       0.125   \n",
       "3   4                M      14       16         78   386       0.070   \n",
       "4   5                M       9       19        135  1297       0.141   \n",
       "\n",
       "   compactness  symmetry  fractal_dimension  \n",
       "0        0.278     0.242              0.079  \n",
       "1        0.079     0.181              0.057  \n",
       "2        0.160     0.207              0.060  \n",
       "3        0.284     0.260              0.097  \n",
       "4        0.133     0.181              0.059  "
      ]
     },
     "execution_count": 338,
     "metadata": {},
     "output_type": "execute_result"
    }
   ],
   "source": [
    "#import dataset\n",
    "\n",
    "cancer = pd.read_csv('Prostate_Cancer.csv')\n",
    "cancer.head()"
   ]
  },
  {
   "cell_type": "code",
   "execution_count": 339,
   "id": "d9a910c0",
   "metadata": {},
   "outputs": [
    {
     "name": "stdout",
     "output_type": "stream",
     "text": [
      "<class 'pandas.core.frame.DataFrame'>\n",
      "RangeIndex: 100 entries, 0 to 99\n",
      "Data columns (total 10 columns):\n",
      " #   Column             Non-Null Count  Dtype  \n",
      "---  ------             --------------  -----  \n",
      " 0   id                 100 non-null    int64  \n",
      " 1   diagnosis_result   100 non-null    object \n",
      " 2   radius             100 non-null    int64  \n",
      " 3   texture            100 non-null    int64  \n",
      " 4   perimeter          100 non-null    int64  \n",
      " 5   area               100 non-null    int64  \n",
      " 6   smoothness         100 non-null    float64\n",
      " 7   compactness        100 non-null    float64\n",
      " 8   symmetry           100 non-null    float64\n",
      " 9   fractal_dimension  100 non-null    float64\n",
      "dtypes: float64(4), int64(5), object(1)\n",
      "memory usage: 7.9+ KB\n"
     ]
    }
   ],
   "source": [
    "cancer.info()"
   ]
  },
  {
   "cell_type": "markdown",
   "id": "559c1263",
   "metadata": {},
   "source": [
    "As we can see dataset haven't null values."
   ]
  },
  {
   "cell_type": "markdown",
   "id": "0cbdc84e",
   "metadata": {},
   "source": [
    "## Preparing the data"
   ]
  },
  {
   "cell_type": "markdown",
   "id": "da9958ec",
   "metadata": {},
   "source": [
    "It is necessary to select features for creating a model by removing unnecessary columns from the dataset. It is also necessary to check the distribution of data in the columns for outliers."
   ]
  },
  {
   "cell_type": "code",
   "execution_count": 340,
   "id": "c0fa605e",
   "metadata": {},
   "outputs": [],
   "source": [
    "# drop the ID column cause it's not required.\n",
    "\n",
    "cancer.drop('id', axis=1, inplace=True)"
   ]
  },
  {
   "cell_type": "code",
   "execution_count": 341,
   "id": "5ed549fd",
   "metadata": {
    "scrolled": true
   },
   "outputs": [
    {
     "data": {
      "text/plain": [
       "1    62\n",
       "0    38\n",
       "Name: diagnosis_result, dtype: int64"
      ]
     },
     "execution_count": 341,
     "metadata": {},
     "output_type": "execute_result"
    }
   ],
   "source": [
    "# turn the object form target column into integer (B - Benign - 0, M - Malignant - 1)\n",
    "\n",
    "cancer['diagnosis_result'] = cancer.diagnosis_result.apply(lambda x: 0 if x =='B' else 1)\n",
    "cancer.diagnosis_result.value_counts()"
   ]
  },
  {
   "cell_type": "code",
   "execution_count": 342,
   "id": "07e93a8a",
   "metadata": {},
   "outputs": [
    {
     "name": "stderr",
     "output_type": "stream",
     "text": [
      "C:\\Users\\810874\\anaconda3\\lib\\site-packages\\seaborn\\_decorators.py:36: FutureWarning: Pass the following variable as a keyword arg: x. From version 0.12, the only valid positional argument will be `data`, and passing other arguments without an explicit keyword will result in an error or misinterpretation.\n",
      "  warnings.warn(\n"
     ]
    },
    {
     "data": {
      "image/png": "[encoded data removed]",
      "text/plain": [
       "<Figure size 432x288 with 1 Axes>"
      ]
     },
     "metadata": {
      "needs_background": "light"
     },
     "output_type": "display_data"
    }
   ],
   "source": [
    "sns.countplot(cancer['diagnosis_result'])\n",
    "plt.show()"
   ]
  },
  {
   "cell_type": "markdown",
   "id": "ce28c59d",
   "metadata": {},
   "source": [
    "Find the correlation, create the heatmap for best visualization."
   ]
  },
  {
   "cell_type": "code",
   "execution_count": 343,
   "id": "df740f41",
   "metadata": {},
   "outputs": [
    {
     "data": {
      "text/plain": [
       "<AxesSubplot:>"
      ]
     },
     "execution_count": 343,
     "metadata": {},
     "output_type": "execute_result"
    },
    {
     "data": {
      "image/png": "[encoded data removed]",
      "text/plain": [
       "<Figure size 432x288 with 2 Axes>"
      ]
     },
     "metadata": {
      "needs_background": "light"
     },
     "output_type": "display_data"
    }
   ],
   "source": [
    "sns.heatmap(cancer.corr(), annot=True, cmap= 'coolwarm')"
   ]
  },
  {
   "cell_type": "markdown",
   "id": "d2ac06a4",
   "metadata": {},
   "source": [
    "* strong correlation is red\n",
    "* weak correlation is blue\n",
    "\n",
    "***perimeter*** and ***area*** columns have strong correlation. Drop one of them. In example, ***perimeter***."
   ]
  },
  {
   "cell_type": "code",
   "execution_count": 344,
   "id": "1832850d",
   "metadata": {},
   "outputs": [],
   "source": [
    "cancer.drop('perimeter', axis=1, inplace=True)"
   ]
  },
  {
   "cell_type": "markdown",
   "id": "ba7a8b9e",
   "metadata": {},
   "source": [
    "drop ***texture*** because that column have a weak correlation with other features."
   ]
  },
  {
   "cell_type": "code",
   "execution_count": 345,
   "id": "37496119",
   "metadata": {},
   "outputs": [],
   "source": [
    "cancer.drop('texture', axis=1, inplace=True)"
   ]
  },
  {
   "cell_type": "code",
   "execution_count": 346,
   "id": "1580f975",
   "metadata": {
    "scrolled": false
   },
   "outputs": [
    {
     "data": {
      "text/html": [
       "<div>\n",
       "<style scoped>\n",
       "    .dataframe tbody tr th:only-of-type {\n",
       "        vertical-align: middle;\n",
       "    }\n",
       "\n",
       "    .dataframe tbody tr th {\n",
       "        vertical-align: top;\n",
       "    }\n",
       "\n",
       "    .dataframe thead th {\n",
       "        text-align: right;\n",
       "    }\n",
       "</style>\n",
       "<table border=\"1\" class=\"dataframe\">\n",
       "  <thead>\n",
       "    <tr style=\"text-align: right;\">\n",
       "      <th></th>\n",
       "      <th>diagnosis_result</th>\n",
       "      <th>radius</th>\n",
       "      <th>area</th>\n",
       "      <th>smoothness</th>\n",
       "      <th>compactness</th>\n",
       "      <th>symmetry</th>\n",
       "      <th>fractal_dimension</th>\n",
       "    </tr>\n",
       "  </thead>\n",
       "  <tbody>\n",
       "    <tr>\n",
       "      <th>count</th>\n",
       "      <td>100.000000</td>\n",
       "      <td>100.000000</td>\n",
       "      <td>100.000000</td>\n",
       "      <td>100.000000</td>\n",
       "      <td>100.000000</td>\n",
       "      <td>100.000000</td>\n",
       "      <td>100.000000</td>\n",
       "    </tr>\n",
       "    <tr>\n",
       "      <th>mean</th>\n",
       "      <td>0.620000</td>\n",
       "      <td>16.850000</td>\n",
       "      <td>702.880000</td>\n",
       "      <td>0.102730</td>\n",
       "      <td>0.126700</td>\n",
       "      <td>0.193170</td>\n",
       "      <td>0.064690</td>\n",
       "    </tr>\n",
       "    <tr>\n",
       "      <th>std</th>\n",
       "      <td>0.487832</td>\n",
       "      <td>4.879094</td>\n",
       "      <td>319.710895</td>\n",
       "      <td>0.014642</td>\n",
       "      <td>0.061144</td>\n",
       "      <td>0.030785</td>\n",
       "      <td>0.008151</td>\n",
       "    </tr>\n",
       "    <tr>\n",
       "      <th>min</th>\n",
       "      <td>0.000000</td>\n",
       "      <td>9.000000</td>\n",
       "      <td>202.000000</td>\n",
       "      <td>0.070000</td>\n",
       "      <td>0.038000</td>\n",
       "      <td>0.135000</td>\n",
       "      <td>0.053000</td>\n",
       "    </tr>\n",
       "    <tr>\n",
       "      <th>25%</th>\n",
       "      <td>0.000000</td>\n",
       "      <td>12.000000</td>\n",
       "      <td>476.750000</td>\n",
       "      <td>0.093500</td>\n",
       "      <td>0.080500</td>\n",
       "      <td>0.172000</td>\n",
       "      <td>0.059000</td>\n",
       "    </tr>\n",
       "    <tr>\n",
       "      <th>50%</th>\n",
       "      <td>1.000000</td>\n",
       "      <td>17.000000</td>\n",
       "      <td>644.000000</td>\n",
       "      <td>0.102000</td>\n",
       "      <td>0.118500</td>\n",
       "      <td>0.190000</td>\n",
       "      <td>0.063000</td>\n",
       "    </tr>\n",
       "    <tr>\n",
       "      <th>75%</th>\n",
       "      <td>1.000000</td>\n",
       "      <td>21.000000</td>\n",
       "      <td>917.000000</td>\n",
       "      <td>0.112000</td>\n",
       "      <td>0.157000</td>\n",
       "      <td>0.209000</td>\n",
       "      <td>0.069000</td>\n",
       "    </tr>\n",
       "    <tr>\n",
       "      <th>max</th>\n",
       "      <td>1.000000</td>\n",
       "      <td>25.000000</td>\n",
       "      <td>1878.000000</td>\n",
       "      <td>0.143000</td>\n",
       "      <td>0.345000</td>\n",
       "      <td>0.304000</td>\n",
       "      <td>0.097000</td>\n",
       "    </tr>\n",
       "  </tbody>\n",
       "</table>\n",
       "</div>"
      ],
      "text/plain": [
       "       diagnosis_result      radius         area  smoothness  compactness  \\\n",
       "count        100.000000  100.000000   100.000000  100.000000   100.000000   \n",
       "mean           0.620000   16.850000   702.880000    0.102730     0.126700   \n",
       "std            0.487832    4.879094   319.710895    0.014642     0.061144   \n",
       "min            0.000000    9.000000   202.000000    0.070000     0.038000   \n",
       "25%            0.000000   12.000000   476.750000    0.093500     0.080500   \n",
       "50%            1.000000   17.000000   644.000000    0.102000     0.118500   \n",
       "75%            1.000000   21.000000   917.000000    0.112000     0.157000   \n",
       "max            1.000000   25.000000  1878.000000    0.143000     0.345000   \n",
       "\n",
       "         symmetry  fractal_dimension  \n",
       "count  100.000000         100.000000  \n",
       "mean     0.193170           0.064690  \n",
       "std      0.030785           0.008151  \n",
       "min      0.135000           0.053000  \n",
       "25%      0.172000           0.059000  \n",
       "50%      0.190000           0.063000  \n",
       "75%      0.209000           0.069000  \n",
       "max      0.304000           0.097000  "
      ]
     },
     "execution_count": 346,
     "metadata": {},
     "output_type": "execute_result"
    }
   ],
   "source": [
    "cancer.describe()"
   ]
  },
  {
   "cell_type": "markdown",
   "id": "38a49c78",
   "metadata": {},
   "source": [
    "### Normalization/vizualization"
   ]
  },
  {
   "cell_type": "code",
   "execution_count": 347,
   "id": "8bd16850",
   "metadata": {},
   "outputs": [
    {
     "data": {
      "text/html": [
       "<div>\n",
       "<style scoped>\n",
       "    .dataframe tbody tr th:only-of-type {\n",
       "        vertical-align: middle;\n",
       "    }\n",
       "\n",
       "    .dataframe tbody tr th {\n",
       "        vertical-align: top;\n",
       "    }\n",
       "\n",
       "    .dataframe thead th {\n",
       "        text-align: right;\n",
       "    }\n",
       "</style>\n",
       "<table border=\"1\" class=\"dataframe\">\n",
       "  <thead>\n",
       "    <tr style=\"text-align: right;\">\n",
       "      <th></th>\n",
       "      <th>radius</th>\n",
       "      <th>area</th>\n",
       "      <th>smoothness</th>\n",
       "      <th>compactness</th>\n",
       "      <th>symmetry</th>\n",
       "      <th>fractal_dimension</th>\n",
       "      <th>diagnosis_result</th>\n",
       "    </tr>\n",
       "  </thead>\n",
       "  <tbody>\n",
       "    <tr>\n",
       "      <th>0</th>\n",
       "      <td>1.260480</td>\n",
       "      <td>0.785460</td>\n",
       "      <td>2.750354</td>\n",
       "      <td>2.474504</td>\n",
       "      <td>1.586160</td>\n",
       "      <td>1.755620</td>\n",
       "      <td>1</td>\n",
       "    </tr>\n",
       "    <tr>\n",
       "      <th>1</th>\n",
       "      <td>-1.608905</td>\n",
       "      <td>1.949011</td>\n",
       "      <td>2.750354</td>\n",
       "      <td>-0.780131</td>\n",
       "      <td>-0.395322</td>\n",
       "      <td>-0.943446</td>\n",
       "      <td>0</td>\n",
       "    </tr>\n",
       "    <tr>\n",
       "      <th>2</th>\n",
       "      <td>0.850568</td>\n",
       "      <td>1.564288</td>\n",
       "      <td>1.520993</td>\n",
       "      <td>0.544620</td>\n",
       "      <td>0.449244</td>\n",
       "      <td>-0.575392</td>\n",
       "      <td>1</td>\n",
       "    </tr>\n",
       "    <tr>\n",
       "      <th>3</th>\n",
       "      <td>-0.584125</td>\n",
       "      <td>-0.991145</td>\n",
       "      <td>-2.235388</td>\n",
       "      <td>2.572634</td>\n",
       "      <td>2.170860</td>\n",
       "      <td>3.963946</td>\n",
       "      <td>1</td>\n",
       "    </tr>\n",
       "    <tr>\n",
       "      <th>4</th>\n",
       "      <td>-1.608905</td>\n",
       "      <td>1.858304</td>\n",
       "      <td>2.613758</td>\n",
       "      <td>0.103036</td>\n",
       "      <td>-0.395322</td>\n",
       "      <td>-0.698077</td>\n",
       "      <td>1</td>\n",
       "    </tr>\n",
       "    <tr>\n",
       "      <th>...</th>\n",
       "      <td>...</td>\n",
       "      <td>...</td>\n",
       "      <td>...</td>\n",
       "      <td>...</td>\n",
       "      <td>...</td>\n",
       "      <td>...</td>\n",
       "      <td>...</td>\n",
       "    </tr>\n",
       "    <tr>\n",
       "      <th>95</th>\n",
       "      <td>1.260480</td>\n",
       "      <td>1.755086</td>\n",
       "      <td>-0.801134</td>\n",
       "      <td>0.070326</td>\n",
       "      <td>0.546694</td>\n",
       "      <td>-1.066131</td>\n",
       "      <td>1</td>\n",
       "    </tr>\n",
       "    <tr>\n",
       "      <th>96</th>\n",
       "      <td>1.055524</td>\n",
       "      <td>-0.787837</td>\n",
       "      <td>0.155036</td>\n",
       "      <td>-0.910971</td>\n",
       "      <td>-0.102972</td>\n",
       "      <td>0.160717</td>\n",
       "      <td>0</td>\n",
       "    </tr>\n",
       "    <tr>\n",
       "      <th>97</th>\n",
       "      <td>0.440656</td>\n",
       "      <td>-1.275778</td>\n",
       "      <td>-0.049857</td>\n",
       "      <td>-1.205360</td>\n",
       "      <td>-1.889555</td>\n",
       "      <td>0.528772</td>\n",
       "      <td>0</td>\n",
       "    </tr>\n",
       "    <tr>\n",
       "      <th>98</th>\n",
       "      <td>0.850568</td>\n",
       "      <td>-0.906694</td>\n",
       "      <td>-0.869431</td>\n",
       "      <td>-0.845551</td>\n",
       "      <td>-1.012505</td>\n",
       "      <td>0.160717</td>\n",
       "      <td>0</td>\n",
       "    </tr>\n",
       "    <tr>\n",
       "      <th>99</th>\n",
       "      <td>-0.174213</td>\n",
       "      <td>-0.187294</td>\n",
       "      <td>-0.323049</td>\n",
       "      <td>-0.207708</td>\n",
       "      <td>-0.167939</td>\n",
       "      <td>-0.084653</td>\n",
       "      <td>1</td>\n",
       "    </tr>\n",
       "  </tbody>\n",
       "</table>\n",
       "<p>100 rows × 7 columns</p>\n",
       "</div>"
      ],
      "text/plain": [
       "      radius      area  smoothness  compactness  symmetry  fractal_dimension  \\\n",
       "0   1.260480  0.785460    2.750354     2.474504  1.586160           1.755620   \n",
       "1  -1.608905  1.949011    2.750354    -0.780131 -0.395322          -0.943446   \n",
       "2   0.850568  1.564288    1.520993     0.544620  0.449244          -0.575392   \n",
       "3  -0.584125 -0.991145   -2.235388     2.572634  2.170860           3.963946   \n",
       "4  -1.608905  1.858304    2.613758     0.103036 -0.395322          -0.698077   \n",
       "..       ...       ...         ...          ...       ...                ...   \n",
       "95  1.260480  1.755086   -0.801134     0.070326  0.546694          -1.066131   \n",
       "96  1.055524 -0.787837    0.155036    -0.910971 -0.102972           0.160717   \n",
       "97  0.440656 -1.275778   -0.049857    -1.205360 -1.889555           0.528772   \n",
       "98  0.850568 -0.906694   -0.869431    -0.845551 -1.012505           0.160717   \n",
       "99 -0.174213 -0.187294   -0.323049    -0.207708 -0.167939          -0.084653   \n",
       "\n",
       "    diagnosis_result  \n",
       "0                  1  \n",
       "1                  0  \n",
       "2                  1  \n",
       "3                  1  \n",
       "4                  1  \n",
       "..               ...  \n",
       "95                 1  \n",
       "96                 0  \n",
       "97                 0  \n",
       "98                 0  \n",
       "99                 1  \n",
       "\n",
       "[100 rows x 7 columns]"
      ]
     },
     "execution_count": 347,
     "metadata": {},
     "output_type": "execute_result"
    }
   ],
   "source": [
    "# normalization\n",
    "cancer_copy = cancer.copy()\n",
    "cancer_norm = (cancer_copy - cancer_copy.mean()) / (cancer_copy.std())\n",
    "cancer_norm.drop('diagnosis_result', axis=1, inplace=True)\n",
    "cancer_norm['diagnosis_result'] = cancer.diagnosis_result\n",
    "cancer_norm"
   ]
  },
  {
   "cell_type": "markdown",
   "id": "82e88ec4",
   "metadata": {},
   "source": [
    "Next we create two plots which can describe distibutions of features and dependence of the diagnosis"
   ]
  },
  {
   "cell_type": "code",
   "execution_count": 348,
   "id": "5ba58656",
   "metadata": {
    "scrolled": true
   },
   "outputs": [
    {
     "data": {
      "image/png": "[encoded data removed]",
      "text/plain": [
       "<Figure size 1728x1008 with 6 Axes>"
      ]
     },
     "metadata": {
      "needs_background": "light"
     },
     "output_type": "display_data"
    }
   ],
   "source": [
    "#create the columns distributions\n",
    "\n",
    "fig, axes = plt.subplots(3,2, figsize=(24, 14))\n",
    "fig.suptitle('Feature distributions')\n",
    "\n",
    "axes = axes.reshape(6,)\n",
    "\n",
    "for i,column in enumerate(cancer_norm.columns[:-1]):\n",
    "    sns.histplot(ax = axes[i],data = cancer_norm, x= column)"
   ]
  },
  {
   "cell_type": "code",
   "execution_count": 349,
   "id": "46c5c866",
   "metadata": {},
   "outputs": [],
   "source": [
    "#create the violin plot\n",
    "\n",
    "def violin(df):\n",
    "    plt.figure(figsize=(12,9))\n",
    "    sns.violinplot(x='variable',y='value',hue='diagnosis_result',data=df,split=True, inner='quart')\n",
    "    plt.xticks(rotation=20)\n",
    "    plt.title('Diagnosis by features')\n",
    "    return plt.show()"
   ]
  },
  {
   "cell_type": "code",
   "execution_count": 350,
   "id": "97a8670d",
   "metadata": {
    "scrolled": true
   },
   "outputs": [
    {
     "data": {
      "image/png": "[encoded data removed]",
      "text/plain": [
       "<Figure size 864x648 with 1 Axes>"
      ]
     },
     "metadata": {
      "needs_background": "light"
     },
     "output_type": "display_data"
    }
   ],
   "source": [
    "melting = cancer_norm.melt(id_vars='diagnosis_result', value_vars=cancer_norm.columns[:-1])\n",
    "violin(melting)"
   ]
  },
  {
   "cell_type": "markdown",
   "id": "87e902c1",
   "metadata": {},
   "source": [
    "We can see similarity between area and compactness on violin plot, which demonstrate strong relations to benign and malignant. Also smoothness and symmtry are resemble each other. \n",
    "\n",
    "Fractal dimension doesn't have a strong correlation with diagnosis and is form is too 'right' to influence the result. Drop them."
   ]
  },
  {
   "cell_type": "code",
   "execution_count": 351,
   "id": "6c389de8",
   "metadata": {},
   "outputs": [],
   "source": [
    "cancer.drop('fractal_dimension', axis=1, inplace=True)\n",
    "cancer_norm.drop('fractal_dimension', axis=1, inplace=True)"
   ]
  },
  {
   "cell_type": "markdown",
   "id": "bc431a65",
   "metadata": {},
   "source": [
    "## Model Selection"
   ]
  },
  {
   "cell_type": "markdown",
   "id": "9ebfd9ce",
   "metadata": {},
   "source": [
    "We will use different types of modelling. For this dataset we chose Decision Tree, Logistic Regression, Random Forest и XGBoost."
   ]
  },
  {
   "cell_type": "markdown",
   "id": "74036fa0",
   "metadata": {},
   "source": [
    "### Imported"
   ]
  },
  {
   "cell_type": "code",
   "execution_count": 352,
   "id": "e846137e",
   "metadata": {},
   "outputs": [],
   "source": [
    "import xgboost\n",
    "from sklearn import linear_model\n",
    "from sklearn.metrics import mean_squared_error\n",
    "from sklearn.metrics import accuracy_score, precision_score, recall_score\n",
    "from sklearn.model_selection import cross_val_score\n",
    "from sklearn.model_selection import train_test_split\n",
    "from sklearn.tree import DecisionTreeClassifier\n",
    "from sklearn.ensemble import RandomForestClassifier\n",
    "from sklearn.linear_model import LogisticRegression\n",
    "from sklearn.model_selection import cross_val_predict"
   ]
  },
  {
   "cell_type": "markdown",
   "id": "96b0fdb0",
   "metadata": {},
   "source": [
    "### Preparing work for the model"
   ]
  },
  {
   "cell_type": "markdown",
   "id": "1cb758b9",
   "metadata": {},
   "source": [
    "Create the variables for features and target values. Make a split the data on test and train by named function from scikit-learn. We use two parameter for this:\n",
    "\n",
    "* test_size = 0.25\n",
    "* random_state = 5"
   ]
  },
  {
   "cell_type": "code",
   "execution_count": 353,
   "id": "e0309e0b",
   "metadata": {},
   "outputs": [
    {
     "data": {
      "text/plain": [
       "'diagnosis_result'"
      ]
     },
     "execution_count": 353,
     "metadata": {},
     "output_type": "execute_result"
    }
   ],
   "source": [
    "target = 'diagnosis_result'\n",
    "features = cancer.columns.to_list()\n",
    "features.pop(0)"
   ]
  },
  {
   "cell_type": "code",
   "execution_count": 354,
   "id": "d6ce5679",
   "metadata": {},
   "outputs": [],
   "source": [
    "X_train, X_test, Y_train, Y_test = train_test_split(cancer_norm[features], cancer_norm[target], test_size=0.25, random_state=44)"
   ]
  },
  {
   "cell_type": "markdown",
   "id": "d43f6a0f",
   "metadata": {},
   "source": [
    "Next using different algorithms to find the best algorithm for this dataset."
   ]
  },
  {
   "cell_type": "code",
   "execution_count": 355,
   "id": "0f043944",
   "metadata": {},
   "outputs": [],
   "source": [
    "metrics = pd.DataFrame(columns=['Model', 'Accuracy', 'Precision', 'Recall'])"
   ]
  },
  {
   "cell_type": "markdown",
   "id": "8507f823",
   "metadata": {},
   "source": [
    "### Decision Tree"
   ]
  },
  {
   "cell_type": "markdown",
   "id": "f16dbe71",
   "metadata": {},
   "source": [
    "Let's start with decision tree and explain all the procedures which we will apply on this and the next models."
   ]
  },
  {
   "cell_type": "code",
   "execution_count": 356,
   "id": "12a3823f",
   "metadata": {},
   "outputs": [
    {
     "name": "stdout",
     "output_type": "stream",
     "text": [
      "accuracy is:  0.88\n"
     ]
    }
   ],
   "source": [
    "#call the model\n",
    "\n",
    "dt = DecisionTreeClassifier()\n",
    "\n",
    "#train the model\n",
    "\n",
    "dt.fit(X_train, Y_train)\n",
    "\n",
    "#predict results\n",
    "\n",
    "dt_predictions = dt.predict(X_test)\n",
    "\n",
    "#calculate accuracy\n",
    "\n",
    "print(\"accuracy is: \", accuracy_score(Y_test, dt_predictions))\n",
    "metrics = metrics.append({\"Model\": \"Decision  Tree\", \"Accuracy\": accuracy_score(Y_test, dt_predictions), \"Precision\":precision_score(Y_test, dt_predictions), \"Recall\":recall_score(Y_test, dt_predictions)}, ignore_index=True)"
   ]
  },
  {
   "cell_type": "markdown",
   "id": "ae3b427a",
   "metadata": {},
   "source": [
    "### Random Forest"
   ]
  },
  {
   "cell_type": "code",
   "execution_count": 357,
   "id": "30fcc323",
   "metadata": {},
   "outputs": [
    {
     "name": "stdout",
     "output_type": "stream",
     "text": [
      "accuracy is:  0.96\n"
     ]
    }
   ],
   "source": [
    "rf = RandomForestClassifier(n_estimators = 100, random_state=32)\n",
    "rf.fit(X_train,Y_train)\n",
    "rf_predictions = rf.predict(X_test)\n",
    "print(\"accuracy is: \", accuracy_score(Y_test, rf_predictions))\n",
    "metrics = metrics.append({\"Model\": \"Random Forest\", \"Accuracy\": accuracy_score(Y_test, rf_predictions), \"Precision\":precision_score(Y_test, rf_predictions), \"Recall\":recall_score(Y_test, rf_predictions)}, ignore_index=True)"
   ]
  },
  {
   "cell_type": "markdown",
   "id": "c636fd7e",
   "metadata": {},
   "source": [
    "### Logistic Regression"
   ]
  },
  {
   "cell_type": "code",
   "execution_count": 358,
   "id": "4f880e02",
   "metadata": {},
   "outputs": [
    {
     "name": "stdout",
     "output_type": "stream",
     "text": [
      "accuracy is:  0.88\n"
     ]
    }
   ],
   "source": [
    "lor = LogisticRegression()\n",
    "lor.fit(X_train, Y_train)\n",
    "lor_predictions = lor.predict(X_test)\n",
    "print(\"accuracy is: \", round(accuracy_score(Y_test, lor_predictions),3))\n",
    "metrics = metrics.append({\"Model\": \"Logistic Regression\", \"Accuracy\": accuracy_score(Y_test, lor_predictions), \"Precision\":precision_score(Y_test, lor_predictions), \"Recall\":recall_score(Y_test, lor_predictions)}, ignore_index=True)"
   ]
  },
  {
   "cell_type": "markdown",
   "id": "66498a27",
   "metadata": {},
   "source": [
    "### Naive Bayes Classificator"
   ]
  },
  {
   "cell_type": "code",
   "execution_count": 359,
   "id": "02b70e65",
   "metadata": {},
   "outputs": [
    {
     "name": "stdout",
     "output_type": "stream",
     "text": [
      "accuracy is:  0.68\n"
     ]
    }
   ],
   "source": [
    "from sklearn.naive_bayes import GaussianNB\n",
    "\n",
    "nb = GaussianNB()\n",
    "nb.fit(X_train, Y_train)\n",
    "nb_predictions = nb.predict(X_test)\n",
    "print(\"accuracy is: \", round(accuracy_score(Y_test, nb_predictions),3))\n",
    "metrics = metrics.append({\"Model\": \"Naive Bayes\", \"Accuracy\": accuracy_score(Y_test, nb_predictions), \"Precision\":precision_score(Y_test, nb_predictions), \"Recall\":recall_score(Y_test, nb_predictions)}, ignore_index=True)"
   ]
  },
  {
   "cell_type": "markdown",
   "id": "d0bc2213",
   "metadata": {},
   "source": [
    "### XG Boost"
   ]
  },
  {
   "cell_type": "code",
   "execution_count": 360,
   "id": "1d369319",
   "metadata": {},
   "outputs": [
    {
     "name": "stdout",
     "output_type": "stream",
     "text": [
      "[22:43:36] WARNING: ..\\src\\learner.cc:1115: Starting in XGBoost 1.3.0, the default evaluation metric used with the objective 'binary:logistic' was changed from 'error' to 'logloss'. Explicitly set eval_metric if you'd like to restore the old behavior.\n",
      "accuracy is:  0.92\n"
     ]
    }
   ],
   "source": [
    "xgb = xgboost.XGBClassifier(objective ='binary:logistic', max_depth = 5, alpha = 3, use_label_encoder=False)\n",
    "xgb.fit(X_train, Y_train)\n",
    "xgb_predictions = xgb.predict(X_test)\n",
    "print(\"accuracy is: \", round(accuracy_score(Y_test, xgb_predictions),3))\n",
    "metrics = metrics.append({\"Model\": \"XG Boost\", \"Accuracy\": accuracy_score(Y_test, xgb_predictions), \"Precision\":precision_score(Y_test, xgb_predictions), \"Recall\":recall_score(Y_test, xgb_predictions)}, ignore_index=True)"
   ]
  },
  {
   "cell_type": "markdown",
   "id": "0ef25949",
   "metadata": {},
   "source": [
    "We use the three most common metrics for the behavior of the model and the assessment of its applicability.\n",
    "\n",
    "* Accuracy is an indicator that describes the overall accuracy of the model prediction across all classes.\n",
    "* Precision measures the accuracy of the model when defining the Positive class.\n",
    "* Recall shows how much of the positive objects were highlighted by the model."
   ]
  },
  {
   "cell_type": "code",
   "execution_count": 361,
   "id": "2fc239a7",
   "metadata": {
    "scrolled": true
   },
   "outputs": [
    {
     "name": "stdout",
     "output_type": "stream",
     "text": [
      "Logistic Regression: \n",
      "               precision    recall  f1-score   support\n",
      "\n",
      "           0       0.83      0.91      0.87        11\n",
      "           1       0.92      0.86      0.89        14\n",
      "\n",
      "    accuracy                           0.88        25\n",
      "   macro avg       0.88      0.88      0.88        25\n",
      "weighted avg       0.88      0.88      0.88        25\n",
      "\n",
      "Forest Classifier: \n",
      "               precision    recall  f1-score   support\n",
      "\n",
      "           0       1.00      0.91      0.95        11\n",
      "           1       0.93      1.00      0.97        14\n",
      "\n",
      "    accuracy                           0.96        25\n",
      "   macro avg       0.97      0.95      0.96        25\n",
      "weighted avg       0.96      0.96      0.96        25\n",
      "\n",
      "Decision Tree: \n",
      "               precision    recall  f1-score   support\n",
      "\n",
      "           0       0.90      0.82      0.86        11\n",
      "           1       0.87      0.93      0.90        14\n",
      "\n",
      "    accuracy                           0.88        25\n",
      "   macro avg       0.88      0.87      0.88        25\n",
      "weighted avg       0.88      0.88      0.88        25\n",
      "\n",
      "Naive Bayes: \n",
      "               precision    recall  f1-score   support\n",
      "\n",
      "           0       0.62      0.73      0.67        11\n",
      "           1       0.75      0.64      0.69        14\n",
      "\n",
      "    accuracy                           0.68        25\n",
      "   macro avg       0.68      0.69      0.68        25\n",
      "weighted avg       0.69      0.68      0.68        25\n",
      "\n",
      "XGBoost: \n",
      "               precision    recall  f1-score   support\n",
      "\n",
      "           0       1.00      0.82      0.90        11\n",
      "           1       0.88      1.00      0.93        14\n",
      "\n",
      "    accuracy                           0.92        25\n",
      "   macro avg       0.94      0.91      0.92        25\n",
      "weighted avg       0.93      0.92      0.92        25\n",
      "\n"
     ]
    }
   ],
   "source": [
    "from sklearn.metrics import classification_report\n",
    "\n",
    "report_dt = classification_report(Y_test, dt_predictions)\n",
    "report_rf = classification_report(Y_test, rf_predictions)\n",
    "report_lor = classification_report(Y_test, lor_predictions)\n",
    "report_nb = classification_report(Y_test, nb_predictions)\n",
    "report_xgb = classification_report(Y_test, xgb_predictions)\n",
    "\n",
    "print(\"Logistic Regression: \\n\", report_lor)\n",
    "print(\"Forest Classifier: \\n\", report_rf)\n",
    "print(\"Decision Tree: \\n\", report_dt)\n",
    "print(\"Naive Bayes: \\n\", report_nb)\n",
    "print(\"XGBoost: \\n\", report_xgb)"
   ]
  },
  {
   "cell_type": "code",
   "execution_count": 362,
   "id": "89b77177",
   "metadata": {},
   "outputs": [
    {
     "data": {
      "text/html": [
       "<div>\n",
       "<style scoped>\n",
       "    .dataframe tbody tr th:only-of-type {\n",
       "        vertical-align: middle;\n",
       "    }\n",
       "\n",
       "    .dataframe tbody tr th {\n",
       "        vertical-align: top;\n",
       "    }\n",
       "\n",
       "    .dataframe thead th {\n",
       "        text-align: right;\n",
       "    }\n",
       "</style>\n",
       "<table border=\"1\" class=\"dataframe\">\n",
       "  <thead>\n",
       "    <tr style=\"text-align: right;\">\n",
       "      <th></th>\n",
       "      <th>Model</th>\n",
       "      <th>Accuracy</th>\n",
       "      <th>Precision</th>\n",
       "      <th>Recall</th>\n",
       "    </tr>\n",
       "  </thead>\n",
       "  <tbody>\n",
       "    <tr>\n",
       "      <th>0</th>\n",
       "      <td>Decision  Tree</td>\n",
       "      <td>0.88</td>\n",
       "      <td>0.87</td>\n",
       "      <td>0.93</td>\n",
       "    </tr>\n",
       "    <tr>\n",
       "      <th>1</th>\n",
       "      <td>Random Forest</td>\n",
       "      <td>0.96</td>\n",
       "      <td>0.93</td>\n",
       "      <td>1.00</td>\n",
       "    </tr>\n",
       "    <tr>\n",
       "      <th>2</th>\n",
       "      <td>Logistic Regression</td>\n",
       "      <td>0.88</td>\n",
       "      <td>0.92</td>\n",
       "      <td>0.86</td>\n",
       "    </tr>\n",
       "    <tr>\n",
       "      <th>3</th>\n",
       "      <td>Naive Bayes</td>\n",
       "      <td>0.68</td>\n",
       "      <td>0.75</td>\n",
       "      <td>0.64</td>\n",
       "    </tr>\n",
       "    <tr>\n",
       "      <th>4</th>\n",
       "      <td>XG Boost</td>\n",
       "      <td>0.92</td>\n",
       "      <td>0.88</td>\n",
       "      <td>1.00</td>\n",
       "    </tr>\n",
       "  </tbody>\n",
       "</table>\n",
       "</div>"
      ],
      "text/plain": [
       "                 Model  Accuracy  Precision  Recall\n",
       "0       Decision  Tree      0.88       0.87    0.93\n",
       "1        Random Forest      0.96       0.93    1.00\n",
       "2  Logistic Regression      0.88       0.92    0.86\n",
       "3          Naive Bayes      0.68       0.75    0.64\n",
       "4             XG Boost      0.92       0.88    1.00"
      ]
     },
     "execution_count": 362,
     "metadata": {},
     "output_type": "execute_result"
    }
   ],
   "source": [
    "metrics[['Precision', 'Recall']] = metrics[['Precision', 'Recall']].apply(lambda x: round(x, 2))\n",
    "metrics"
   ]
  },
  {
   "cell_type": "code",
   "execution_count": 366,
   "id": "9fac5f45",
   "metadata": {},
   "outputs": [
    {
     "data": {
      "image/png": "[encoded data removed]",
      "text/plain": [
       "<Figure size 720x432 with 1 Axes>"
      ]
     },
     "metadata": {
      "needs_background": "light"
     },
     "output_type": "display_data"
    }
   ],
   "source": [
    "x_axis = np.arange(len(metrics))\n",
    "plt.figure(figsize = (10,6))\n",
    "plt.bar(x_axis, metrics.Accuracy, width=0.25)\n",
    "plt.bar(x_axis +0.25, metrics.Precision, width=0.25)\n",
    "plt.bar(x_axis +0.5, metrics.Recall, width=0.25)\n",
    "plt.xticks(x_axis, metrics.Model)\n",
    "plt.legend(metrics[['Accuracy', 'Precision', 'Recall']])\n",
    "plt.title('Metrics Values')\n",
    "plt.show()"
   ]
  },
  {
   "cell_type": "markdown",
   "id": "d4613525",
   "metadata": {},
   "source": [
    "## Conclusion"
   ]
  },
  {
   "cell_type": "markdown",
   "id": "91755fe4",
   "metadata": {},
   "source": [
    "Our model is best defined by the ***Random Forest*** approach. We can see different metrics - Random Forest show the best result by all of them. If you focus on Recall, ***XGBoost*** shows an excellent result.\n",
    "\n",
    "The main problem is the lack of authoritative data sources, as well as the modest composition of the dataset, which contains only 100 records. The big plus was the readiness of the data for direct action."
   ]
  }
 ],
 "metadata": {
  "kernelspec": {
   "display_name": "Python 3",
   "language": "python",
   "name": "python3"
  },
  "language_info": {
   "codemirror_mode": {
    "name": "ipython",
    "version": 3
   },
   "file_extension": ".py",
   "mimetype": "text/x-python",
   "name": "python",
   "nbconvert_exporter": "python",
   "pygments_lexer": "ipython3",
   "version": "3.8.8"
  }
 },
 "nbformat": 4,
 "nbformat_minor": 5
}
