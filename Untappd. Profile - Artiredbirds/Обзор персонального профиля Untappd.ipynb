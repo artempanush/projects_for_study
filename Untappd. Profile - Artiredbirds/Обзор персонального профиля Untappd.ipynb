{
 "cells": [
  {
   "cell_type": "markdown",
   "id": "bad0c0d5",
   "metadata": {},
   "source": [
    "# Анализ и проверка гипотез по данным личного аккаунта сети Untappd"
   ]
  },
  {
   "cell_type": "markdown",
   "id": "236c4933",
   "metadata": {},
   "source": [
    "Данный проект изначально был предназначен для тренировки и отработки навыков работы с python, pandas, jupyter notebook и со всеми теми знаниями, что я получал в процессе учёбы. К тому же было достаточно интересно, даже с обыкновенной описательной точки зрения, получить сводку цифр, связанных с собой, и постараться найти причины их локальных состояний.\n",
    "\n",
    "Впоследствии появилась идея о том, что и этот \"блокнот\" может войти в моё портфолио. К тому же я продолжаю им пользоваться, обновляя данные, поэтому решение привести его в надлежащий вид я нахожу правильным."
   ]
  },
  {
   "cell_type": "markdown",
   "id": "428124e5",
   "metadata": {},
   "source": [
    "### 18+"
   ]
  },
  {
   "cell_type": "markdown",
   "id": "52d1e66a",
   "metadata": {},
   "source": [
    "Немного информации. Untappd - социальная сеть для биргиков. Биргики - слово, легко разбивающееся на два безо всяких специально написанных функций. С развитием пивного бизнеса, его брендированием под \"ремесло\", его упрощением, приобретением навыков низкоалкогольного напитка, доступного, трендового и чуть менее вредного для молодёжи, \"тапок\", как его ласково называют путешественники по барам, оказался как нельзя кстати. Он помогает: напиткам - продаваться, барам - развиваться, людям - коммуницировать, моде - быть самой собой. \n",
    "\n",
    "Минздрав, конечно, будет против, но этот прожект останется без критического взгляда.\n",
    "\n",
    "Потому что для моего интереса к статистическим сводкам, начавшегося с увлечения спортом, \"тапок\" оказался элементом игры в чекины. Иначе говоря, \"набиванием статы\". \n",
    "\n",
    "Так приятно смотреть на таблички."
   ]
  },
  {
   "cell_type": "markdown",
   "id": "be4d3113",
   "metadata": {},
   "source": [
    "Untappd содержит карточки пива и пивоварен, а также имеет профайлы баров и пользователей. С помощью него можно обнаружить пиво, прочитать его характеристики или же узнать, где оно продаётся. Но самое главное - его можно оценить.\n",
    "Внесение оценки состоит из привычных действий: комментарии, фотографии, отметка места, оценки, тегированный вкусовой профиль, друзья, которые пробовали очередной сорт вместе с тобой, лайки, именуемые тостами.\n",
    "В общем, ничего сложного в функционировании приложения нет.\n",
    "\n",
    "Зато сколько после него статистики! \n",
    "\n",
    "Основная статистика доступна в приложении. Всегда можно посмотреть сводную таблицу по стилям или странам, например. Можно платить за небольшую месячную подписку, с которой получать чуть больший функционал, в том числе и аккуратные временные графики. \n",
    "\n",
    "А можно и сделать запрос на всю-всю-всю сборку твоих действий. Он-то и будет нашим датасетом."
   ]
  },
  {
   "cell_type": "markdown",
   "id": "25dc03eb",
   "metadata": {},
   "source": [
    "#### Задачи и направления"
   ]
  },
  {
   "cell_type": "markdown",
   "id": "85f102ce",
   "metadata": {},
   "source": [
    "В данном прожекте основой будет описательная статистика, за которой я продолжаю наблюдать и которая может неким образом охарактеризовать меня. Это и можно назвать целью.\n",
    "\n",
    "Также будут построены графики для наглядности и тренировки с их функционалом. Кроме того, в прожекте блок будет отдан на откуп попытки проверки статистических гипотез.\n",
    "\n",
    "Получится или нет? Очень скоро узнаем.\n",
    "\n",
    "А теперь к делу!"
   ]
  },
  {
   "cell_type": "code",
   "execution_count": 1,
   "id": "e6ccd441",
   "metadata": {},
   "outputs": [],
   "source": [
    "#import\n",
    "\n",
    "import pandas as pd\n",
    "import numpy as np\n",
    "import seaborn as sns\n",
    "import matplotlib.pyplot as plt\n",
    "import matplotlib.style as style\n",
    "from scipy import stats\n",
    "%matplotlib inline"
   ]
  },
  {
   "cell_type": "code",
   "execution_count": 2,
   "id": "1b116f05",
   "metadata": {},
   "outputs": [],
   "source": [
    "#open dataset\n",
    "\n",
    "checkins = pd.read_csv('beer_december_seventh.csv')"
   ]
  },
  {
   "cell_type": "markdown",
   "id": "0df7adc0",
   "metadata": {},
   "source": [
    "## 1. Обзор датасета."
   ]
  },
  {
   "cell_type": "markdown",
   "id": "90cfdf19",
   "metadata": {},
   "source": [
    "\"Откроем\" датасет, посмотрим на данные, которые в нём хранятся, посмотрим на его форму и выведем первые/последние записи."
   ]
  },
  {
   "cell_type": "code",
   "execution_count": 3,
   "id": "6b5b70c9",
   "metadata": {},
   "outputs": [
    {
     "name": "stdout",
     "output_type": "stream",
     "text": [
      "<class 'pandas.core.frame.DataFrame'>\n",
      "RangeIndex: 5469 entries, 0 to 5468\n",
      "Data columns (total 32 columns):\n",
      " #   Column                        Non-Null Count  Dtype  \n",
      "---  ------                        --------------  -----  \n",
      " 0   beer_name                     5469 non-null   object \n",
      " 1   brewery_name                  5469 non-null   object \n",
      " 2   beer_type                     5469 non-null   object \n",
      " 3   beer_abv                      5469 non-null   float64\n",
      " 4   beer_ibu                      5469 non-null   int64  \n",
      " 5   comment                       5360 non-null   object \n",
      " 6   venue_name                    5223 non-null   object \n",
      " 7   venue_city                    4771 non-null   object \n",
      " 8   venue_state                   5153 non-null   object \n",
      " 9   venue_country                 5223 non-null   object \n",
      " 10  venue_lat                     5223 non-null   float64\n",
      " 11  venue_lng                     5223 non-null   float64\n",
      " 12  rating_score                  5411 non-null   float64\n",
      " 13  created_at                    5469 non-null   object \n",
      " 14  checkin_url                   5469 non-null   object \n",
      " 15  beer_url                      5469 non-null   object \n",
      " 16  brewery_url                   5469 non-null   object \n",
      " 17  brewery_country               5469 non-null   object \n",
      " 18  brewery_city                  5383 non-null   object \n",
      " 19  brewery_state                 5333 non-null   object \n",
      " 20  flavor_profiles               8 non-null      object \n",
      " 21  purchase_venue                407 non-null    object \n",
      " 22  serving_type                  4735 non-null   object \n",
      " 23  checkin_id                    5469 non-null   int64  \n",
      " 24  bid                           5469 non-null   int64  \n",
      " 25  brewery_id                    5469 non-null   int64  \n",
      " 26  photo_url                     3208 non-null   object \n",
      " 27  global_rating_score           5469 non-null   float64\n",
      " 28  global_weighted_rating_score  5469 non-null   float64\n",
      " 29  tagged_friends                915 non-null    object \n",
      " 30  total_toasts                  5469 non-null   int64  \n",
      " 31  total_comments                5469 non-null   int64  \n",
      "dtypes: float64(6), int64(6), object(20)\n",
      "memory usage: 1.3+ MB\n"
     ]
    }
   ],
   "source": [
    "checkins.info()"
   ]
  },
  {
   "cell_type": "code",
   "execution_count": 4,
   "id": "327acb47",
   "metadata": {},
   "outputs": [
    {
     "data": {
      "text/plain": [
       "(5469, 32)"
      ]
     },
     "execution_count": 4,
     "metadata": {},
     "output_type": "execute_result"
    }
   ],
   "source": [
    "#многовато сортов даже за шесть лет\n",
    "\n",
    "checkins.shape"
   ]
  },
  {
   "cell_type": "code",
   "execution_count": 5,
   "id": "e950e50a",
   "metadata": {},
   "outputs": [
    {
     "data": {
      "text/html": [
       "<div>\n",
       "<style scoped>\n",
       "    .dataframe tbody tr th:only-of-type {\n",
       "        vertical-align: middle;\n",
       "    }\n",
       "\n",
       "    .dataframe tbody tr th {\n",
       "        vertical-align: top;\n",
       "    }\n",
       "\n",
       "    .dataframe thead th {\n",
       "        text-align: right;\n",
       "    }\n",
       "</style>\n",
       "<table border=\"1\" class=\"dataframe\">\n",
       "  <thead>\n",
       "    <tr style=\"text-align: right;\">\n",
       "      <th></th>\n",
       "      <th>beer_name</th>\n",
       "      <th>brewery_name</th>\n",
       "      <th>beer_type</th>\n",
       "      <th>beer_abv</th>\n",
       "      <th>beer_ibu</th>\n",
       "      <th>comment</th>\n",
       "      <th>venue_name</th>\n",
       "      <th>venue_city</th>\n",
       "      <th>venue_state</th>\n",
       "      <th>venue_country</th>\n",
       "      <th>...</th>\n",
       "      <th>serving_type</th>\n",
       "      <th>checkin_id</th>\n",
       "      <th>bid</th>\n",
       "      <th>brewery_id</th>\n",
       "      <th>photo_url</th>\n",
       "      <th>global_rating_score</th>\n",
       "      <th>global_weighted_rating_score</th>\n",
       "      <th>tagged_friends</th>\n",
       "      <th>total_toasts</th>\n",
       "      <th>total_comments</th>\n",
       "    </tr>\n",
       "  </thead>\n",
       "  <tbody>\n",
       "    <tr>\n",
       "      <th>0</th>\n",
       "      <td>Hentai</td>\n",
       "      <td>AF Brew</td>\n",
       "      <td>IPA - American</td>\n",
       "      <td>5.9</td>\n",
       "      <td>50</td>\n",
       "      <td>NaN</td>\n",
       "      <td>Uchitelskaya Street (Учительская улица)</td>\n",
       "      <td>Санкт-Петербург</td>\n",
       "      <td>Санкт-Петербург</td>\n",
       "      <td>Россия</td>\n",
       "      <td>...</td>\n",
       "      <td>Bottle</td>\n",
       "      <td>194363403</td>\n",
       "      <td>678907</td>\n",
       "      <td>38368</td>\n",
       "      <td>NaN</td>\n",
       "      <td>3.72</td>\n",
       "      <td>3.72</td>\n",
       "      <td>NaN</td>\n",
       "      <td>0</td>\n",
       "      <td>0</td>\n",
       "    </tr>\n",
       "    <tr>\n",
       "      <th>1</th>\n",
       "      <td>HopHead Double IPA</td>\n",
       "      <td>AF Brew</td>\n",
       "      <td>IPA - Imperial / Double</td>\n",
       "      <td>8.5</td>\n",
       "      <td>140</td>\n",
       "      <td>NaN</td>\n",
       "      <td>NaN</td>\n",
       "      <td>NaN</td>\n",
       "      <td>NaN</td>\n",
       "      <td>NaN</td>\n",
       "      <td>...</td>\n",
       "      <td>NaN</td>\n",
       "      <td>194363542</td>\n",
       "      <td>836456</td>\n",
       "      <td>38368</td>\n",
       "      <td>NaN</td>\n",
       "      <td>4.22</td>\n",
       "      <td>3.96</td>\n",
       "      <td>NaN</td>\n",
       "      <td>0</td>\n",
       "      <td>0</td>\n",
       "    </tr>\n",
       "    <tr>\n",
       "      <th>2</th>\n",
       "      <td>Chimay Grande Réserve (Blue)</td>\n",
       "      <td>Bières de Chimay</td>\n",
       "      <td>Belgian Strong Dark Ale</td>\n",
       "      <td>9.0</td>\n",
       "      <td>35</td>\n",
       "      <td>NaN</td>\n",
       "      <td>NaN</td>\n",
       "      <td>NaN</td>\n",
       "      <td>NaN</td>\n",
       "      <td>NaN</td>\n",
       "      <td>...</td>\n",
       "      <td>NaN</td>\n",
       "      <td>194363634</td>\n",
       "      <td>34039</td>\n",
       "      <td>378</td>\n",
       "      <td>NaN</td>\n",
       "      <td>3.92</td>\n",
       "      <td>3.92</td>\n",
       "      <td>NaN</td>\n",
       "      <td>1</td>\n",
       "      <td>0</td>\n",
       "    </tr>\n",
       "    <tr>\n",
       "      <th>3</th>\n",
       "      <td>Chocolate Stout</td>\n",
       "      <td>Knightberg</td>\n",
       "      <td>Stout - Other</td>\n",
       "      <td>5.0</td>\n",
       "      <td>17</td>\n",
       "      <td>NaN</td>\n",
       "      <td>NaN</td>\n",
       "      <td>NaN</td>\n",
       "      <td>NaN</td>\n",
       "      <td>NaN</td>\n",
       "      <td>...</td>\n",
       "      <td>NaN</td>\n",
       "      <td>194363695</td>\n",
       "      <td>1105285</td>\n",
       "      <td>12920</td>\n",
       "      <td>NaN</td>\n",
       "      <td>3.77</td>\n",
       "      <td>3.76</td>\n",
       "      <td>NaN</td>\n",
       "      <td>0</td>\n",
       "      <td>0</td>\n",
       "    </tr>\n",
       "    <tr>\n",
       "      <th>4</th>\n",
       "      <td>Urizen</td>\n",
       "      <td>Victory Art Brew</td>\n",
       "      <td>Belgian Tripel</td>\n",
       "      <td>10.5</td>\n",
       "      <td>28</td>\n",
       "      <td>NaN</td>\n",
       "      <td>Uchitelskaya Street (Учительская улица)</td>\n",
       "      <td>Санкт-Петербург</td>\n",
       "      <td>Санкт-Петербург</td>\n",
       "      <td>Россия</td>\n",
       "      <td>...</td>\n",
       "      <td>Bottle</td>\n",
       "      <td>194363744</td>\n",
       "      <td>983516</td>\n",
       "      <td>82343</td>\n",
       "      <td>NaN</td>\n",
       "      <td>3.99</td>\n",
       "      <td>3.85</td>\n",
       "      <td>NaN</td>\n",
       "      <td>1</td>\n",
       "      <td>0</td>\n",
       "    </tr>\n",
       "  </tbody>\n",
       "</table>\n",
       "<p>5 rows × 32 columns</p>\n",
       "</div>"
      ],
      "text/plain": [
       "                      beer_name      brewery_name                beer_type  \\\n",
       "0                        Hentai           AF Brew           IPA - American   \n",
       "1            HopHead Double IPA           AF Brew  IPA - Imperial / Double   \n",
       "2  Chimay Grande Réserve (Blue)  Bières de Chimay  Belgian Strong Dark Ale   \n",
       "3               Chocolate Stout        Knightberg            Stout - Other   \n",
       "4                        Urizen  Victory Art Brew           Belgian Tripel   \n",
       "\n",
       "   beer_abv  beer_ibu comment                               venue_name  \\\n",
       "0       5.9        50     NaN  Uchitelskaya Street (Учительская улица)   \n",
       "1       8.5       140     NaN                                      NaN   \n",
       "2       9.0        35     NaN                                      NaN   \n",
       "3       5.0        17     NaN                                      NaN   \n",
       "4      10.5        28     NaN  Uchitelskaya Street (Учительская улица)   \n",
       "\n",
       "        venue_city      venue_state venue_country  ...  serving_type  \\\n",
       "0  Санкт-Петербург  Санкт-Петербург        Россия  ...        Bottle   \n",
       "1              NaN              NaN           NaN  ...           NaN   \n",
       "2              NaN              NaN           NaN  ...           NaN   \n",
       "3              NaN              NaN           NaN  ...           NaN   \n",
       "4  Санкт-Петербург  Санкт-Петербург        Россия  ...        Bottle   \n",
       "\n",
       "   checkin_id      bid brewery_id photo_url global_rating_score  \\\n",
       "0   194363403   678907      38368       NaN                3.72   \n",
       "1   194363542   836456      38368       NaN                4.22   \n",
       "2   194363634    34039        378       NaN                3.92   \n",
       "3   194363695  1105285      12920       NaN                3.77   \n",
       "4   194363744   983516      82343       NaN                3.99   \n",
       "\n",
       "  global_weighted_rating_score tagged_friends total_toasts total_comments  \n",
       "0                         3.72            NaN            0              0  \n",
       "1                         3.96            NaN            0              0  \n",
       "2                         3.92            NaN            1              0  \n",
       "3                         3.76            NaN            0              0  \n",
       "4                         3.85            NaN            1              0  \n",
       "\n",
       "[5 rows x 32 columns]"
      ]
     },
     "execution_count": 5,
     "metadata": {},
     "output_type": "execute_result"
    }
   ],
   "source": [
    "checkins.head()"
   ]
  },
  {
   "cell_type": "code",
   "execution_count": 6,
   "id": "5dd960ee",
   "metadata": {
    "scrolled": false
   },
   "outputs": [
    {
     "data": {
      "text/html": [
       "<div>\n",
       "<style scoped>\n",
       "    .dataframe tbody tr th:only-of-type {\n",
       "        vertical-align: middle;\n",
       "    }\n",
       "\n",
       "    .dataframe tbody tr th {\n",
       "        vertical-align: top;\n",
       "    }\n",
       "\n",
       "    .dataframe thead th {\n",
       "        text-align: right;\n",
       "    }\n",
       "</style>\n",
       "<table border=\"1\" class=\"dataframe\">\n",
       "  <thead>\n",
       "    <tr style=\"text-align: right;\">\n",
       "      <th></th>\n",
       "      <th>beer_name</th>\n",
       "      <th>brewery_name</th>\n",
       "      <th>beer_type</th>\n",
       "      <th>beer_abv</th>\n",
       "      <th>beer_ibu</th>\n",
       "      <th>comment</th>\n",
       "      <th>venue_name</th>\n",
       "      <th>venue_city</th>\n",
       "      <th>venue_state</th>\n",
       "      <th>venue_country</th>\n",
       "      <th>...</th>\n",
       "      <th>serving_type</th>\n",
       "      <th>checkin_id</th>\n",
       "      <th>bid</th>\n",
       "      <th>brewery_id</th>\n",
       "      <th>photo_url</th>\n",
       "      <th>global_rating_score</th>\n",
       "      <th>global_weighted_rating_score</th>\n",
       "      <th>tagged_friends</th>\n",
       "      <th>total_toasts</th>\n",
       "      <th>total_comments</th>\n",
       "    </tr>\n",
       "  </thead>\n",
       "  <tbody>\n",
       "    <tr>\n",
       "      <th>5464</th>\n",
       "      <td>Green Devil IPA</td>\n",
       "      <td>Oakham Ales</td>\n",
       "      <td>IPA - American</td>\n",
       "      <td>6.0</td>\n",
       "      <td>60</td>\n",
       "      <td>Как сексуально активный лепрекон - подмял под ...</td>\n",
       "      <td>Craft Beer Shop</td>\n",
       "      <td>Санкт-Петербург</td>\n",
       "      <td>Санкт-Петербург</td>\n",
       "      <td>Россия</td>\n",
       "      <td>...</td>\n",
       "      <td>Bottle</td>\n",
       "      <td>1114556681</td>\n",
       "      <td>127729</td>\n",
       "      <td>931</td>\n",
       "      <td>https://untappd.s3.amazonaws.com/photos/2021_1...</td>\n",
       "      <td>3.71</td>\n",
       "      <td>3.71</td>\n",
       "      <td>NaN</td>\n",
       "      <td>12</td>\n",
       "      <td>0</td>\n",
       "    </tr>\n",
       "    <tr>\n",
       "      <th>5465</th>\n",
       "      <td>MaCheTe In BUKHara Ver 2 (МаЧеТе в БУХаре)</td>\n",
       "      <td>Rising Moon Brewery</td>\n",
       "      <td>Sour - Other Gose</td>\n",
       "      <td>6.2</td>\n",
       "      <td>0</td>\n",
       "      <td>Клинок в животе - признак успокоения. Раз, два...</td>\n",
       "      <td>Craft Beer Shop</td>\n",
       "      <td>Санкт-Петербург</td>\n",
       "      <td>Санкт-Петербург</td>\n",
       "      <td>Россия</td>\n",
       "      <td>...</td>\n",
       "      <td>Can</td>\n",
       "      <td>1114592308</td>\n",
       "      <td>4598762</td>\n",
       "      <td>337614</td>\n",
       "      <td>https://untappd.s3.amazonaws.com/photos/2021_1...</td>\n",
       "      <td>4.15</td>\n",
       "      <td>3.75</td>\n",
       "      <td>Дядя Вася</td>\n",
       "      <td>12</td>\n",
       "      <td>0</td>\n",
       "    </tr>\n",
       "    <tr>\n",
       "      <th>5466</th>\n",
       "      <td>TURN [Pineapple+Mint]</td>\n",
       "      <td>4BREWERS</td>\n",
       "      <td>Sour - Fruited Berliner Weisse</td>\n",
       "      <td>4.5</td>\n",
       "      <td>0</td>\n",
       "      <td>Тестерок - это белые лошадки.</td>\n",
       "      <td>Craft Beer Shop</td>\n",
       "      <td>Санкт-Петербург</td>\n",
       "      <td>Санкт-Петербург</td>\n",
       "      <td>Россия</td>\n",
       "      <td>...</td>\n",
       "      <td>Taster</td>\n",
       "      <td>1114595800</td>\n",
       "      <td>4287071</td>\n",
       "      <td>188442</td>\n",
       "      <td>NaN</td>\n",
       "      <td>4.12</td>\n",
       "      <td>4.07</td>\n",
       "      <td>NaN</td>\n",
       "      <td>10</td>\n",
       "      <td>0</td>\n",
       "    </tr>\n",
       "    <tr>\n",
       "      <th>5467</th>\n",
       "      <td>Евпатий / Квас для окрошки</td>\n",
       "      <td>Hmeleff (Хмелефф)</td>\n",
       "      <td>Kvass</td>\n",
       "      <td>1.2</td>\n",
       "      <td>0</td>\n",
       "      <td>Вышел ночью в поле с конём. Конь под утро верн...</td>\n",
       "      <td>Untappd at Home</td>\n",
       "      <td>NaN</td>\n",
       "      <td>Everywhere</td>\n",
       "      <td>United States</td>\n",
       "      <td>...</td>\n",
       "      <td>Bottle</td>\n",
       "      <td>1114619487</td>\n",
       "      <td>4381731</td>\n",
       "      <td>32554</td>\n",
       "      <td>NaN</td>\n",
       "      <td>0.00</td>\n",
       "      <td>3.56</td>\n",
       "      <td>NaN</td>\n",
       "      <td>9</td>\n",
       "      <td>0</td>\n",
       "    </tr>\n",
       "    <tr>\n",
       "      <th>5468</th>\n",
       "      <td>Goldstar Dark Lager (גולדסטאר)</td>\n",
       "      <td>Tempo Beer Industries Ltd (טמפו)</td>\n",
       "      <td>Lager - Vienna</td>\n",
       "      <td>4.9</td>\n",
       "      <td>0</td>\n",
       "      <td>Мамка Хесуса была такая толстая, что в реально...</td>\n",
       "      <td>Untappd at Home</td>\n",
       "      <td>NaN</td>\n",
       "      <td>Everywhere</td>\n",
       "      <td>United States</td>\n",
       "      <td>...</td>\n",
       "      <td>Can</td>\n",
       "      <td>1114816564</td>\n",
       "      <td>20744</td>\n",
       "      <td>5830</td>\n",
       "      <td>https://untappd.s3.amazonaws.com/photos/2021_1...</td>\n",
       "      <td>3.14</td>\n",
       "      <td>3.15</td>\n",
       "      <td>NaN</td>\n",
       "      <td>0</td>\n",
       "      <td>0</td>\n",
       "    </tr>\n",
       "  </tbody>\n",
       "</table>\n",
       "<p>5 rows × 32 columns</p>\n",
       "</div>"
      ],
      "text/plain": [
       "                                       beer_name  \\\n",
       "5464                             Green Devil IPA   \n",
       "5465  MaCheTe In BUKHara Ver 2 (МаЧеТе в БУХаре)   \n",
       "5466                       TURN [Pineapple+Mint]   \n",
       "5467                  Евпатий / Квас для окрошки   \n",
       "5468              Goldstar Dark Lager (גולדסטאר)   \n",
       "\n",
       "                          brewery_name                       beer_type  \\\n",
       "5464                       Oakham Ales                  IPA - American   \n",
       "5465               Rising Moon Brewery               Sour - Other Gose   \n",
       "5466                          4BREWERS  Sour - Fruited Berliner Weisse   \n",
       "5467                 Hmeleff (Хмелефф)                           Kvass   \n",
       "5468  Tempo Beer Industries Ltd (טמפו)                  Lager - Vienna   \n",
       "\n",
       "      beer_abv  beer_ibu                                            comment  \\\n",
       "5464       6.0        60  Как сексуально активный лепрекон - подмял под ...   \n",
       "5465       6.2         0  Клинок в животе - признак успокоения. Раз, два...   \n",
       "5466       4.5         0                      Тестерок - это белые лошадки.   \n",
       "5467       1.2         0  Вышел ночью в поле с конём. Конь под утро верн...   \n",
       "5468       4.9         0  Мамка Хесуса была такая толстая, что в реально...   \n",
       "\n",
       "           venue_name       venue_city      venue_state  venue_country  ...  \\\n",
       "5464  Craft Beer Shop  Санкт-Петербург  Санкт-Петербург         Россия  ...   \n",
       "5465  Craft Beer Shop  Санкт-Петербург  Санкт-Петербург         Россия  ...   \n",
       "5466  Craft Beer Shop  Санкт-Петербург  Санкт-Петербург         Россия  ...   \n",
       "5467  Untappd at Home              NaN       Everywhere  United States  ...   \n",
       "5468  Untappd at Home              NaN       Everywhere  United States  ...   \n",
       "\n",
       "      serving_type  checkin_id      bid brewery_id  \\\n",
       "5464        Bottle  1114556681   127729        931   \n",
       "5465           Can  1114592308  4598762     337614   \n",
       "5466        Taster  1114595800  4287071     188442   \n",
       "5467        Bottle  1114619487  4381731      32554   \n",
       "5468           Can  1114816564    20744       5830   \n",
       "\n",
       "                                              photo_url global_rating_score  \\\n",
       "5464  https://untappd.s3.amazonaws.com/photos/2021_1...                3.71   \n",
       "5465  https://untappd.s3.amazonaws.com/photos/2021_1...                4.15   \n",
       "5466                                                NaN                4.12   \n",
       "5467                                                NaN                0.00   \n",
       "5468  https://untappd.s3.amazonaws.com/photos/2021_1...                3.14   \n",
       "\n",
       "     global_weighted_rating_score tagged_friends total_toasts total_comments  \n",
       "5464                         3.71            NaN           12              0  \n",
       "5465                         3.75      Дядя Вася           12              0  \n",
       "5466                         4.07            NaN           10              0  \n",
       "5467                         3.56            NaN            9              0  \n",
       "5468                         3.15            NaN            0              0  \n",
       "\n",
       "[5 rows x 32 columns]"
      ]
     },
     "execution_count": 6,
     "metadata": {},
     "output_type": "execute_result"
    }
   ],
   "source": [
    "checkins.tail()"
   ]
  },
  {
   "cell_type": "markdown",
   "id": "58119538",
   "metadata": {},
   "source": [
    "## 2. Форматирование некоторых данных, которое потребуется в работе"
   ]
  },
  {
   "cell_type": "markdown",
   "id": "eec308b8",
   "metadata": {},
   "source": [
    "В этом разделе \"складируются\" некоторые фазы клининга, которые требуются для работы. В частности:\n",
    "\n",
    "- форматируется время;\n",
    "- удаляются дубликаты (неуникальное пиво и случайные повторы в таблице);\n",
    "- удаляются строки с отсуствующей выставленной оценкой;\n",
    "- переименовываются длинные названия в чекинах."
   ]
  },
  {
   "cell_type": "code",
   "execution_count": 7,
   "id": "bccf6ac0",
   "metadata": {},
   "outputs": [],
   "source": [
    "#перевод столбца в тип datetime\n",
    "\n",
    "checkins['created_at'] = pd.to_datetime(checkins['created_at'])"
   ]
  },
  {
   "cell_type": "code",
   "execution_count": 8,
   "id": "97320304",
   "metadata": {
    "scrolled": true
   },
   "outputs": [
    {
     "data": {
      "text/plain": [
       "4    1197\n",
       "5     931\n",
       "3     748\n",
       "2     687\n",
       "0     682\n",
       "6     616\n",
       "1     608\n",
       "Name: weekdays, dtype: int64"
      ]
     },
     "execution_count": 8,
     "metadata": {},
     "output_type": "execute_result"
    }
   ],
   "source": [
    "#определение дней недели\n",
    "\n",
    "checkins['weekdays'] = checkins['created_at'].dt.dayofweek\n",
    "checkins['weekdays'].value_counts()"
   ]
  },
  {
   "cell_type": "code",
   "execution_count": 9,
   "id": "572aa9c6",
   "metadata": {},
   "outputs": [],
   "source": [
    "#переименование длинных наименований\n",
    "\n",
    "checkins = checkins.replace({'Остановка «Светлановский просп. / просп. Тореза»':'Ост. «Светлановский/Тореза»'})"
   ]
  },
  {
   "cell_type": "code",
   "execution_count": 10,
   "id": "02566c41",
   "metadata": {},
   "outputs": [
    {
     "data": {
      "text/html": [
       "<div>\n",
       "<style scoped>\n",
       "    .dataframe tbody tr th:only-of-type {\n",
       "        vertical-align: middle;\n",
       "    }\n",
       "\n",
       "    .dataframe tbody tr th {\n",
       "        vertical-align: top;\n",
       "    }\n",
       "\n",
       "    .dataframe thead th {\n",
       "        text-align: right;\n",
       "    }\n",
       "</style>\n",
       "<table border=\"1\" class=\"dataframe\">\n",
       "  <thead>\n",
       "    <tr style=\"text-align: right;\">\n",
       "      <th></th>\n",
       "      <th>beer_name</th>\n",
       "      <th>brewery_name</th>\n",
       "      <th>beer_type</th>\n",
       "      <th>beer_abv</th>\n",
       "      <th>beer_ibu</th>\n",
       "      <th>comment</th>\n",
       "      <th>venue_name</th>\n",
       "      <th>venue_city</th>\n",
       "      <th>venue_state</th>\n",
       "      <th>venue_country</th>\n",
       "      <th>...</th>\n",
       "      <th>checkin_id</th>\n",
       "      <th>bid</th>\n",
       "      <th>brewery_id</th>\n",
       "      <th>photo_url</th>\n",
       "      <th>global_rating_score</th>\n",
       "      <th>global_weighted_rating_score</th>\n",
       "      <th>tagged_friends</th>\n",
       "      <th>total_toasts</th>\n",
       "      <th>total_comments</th>\n",
       "      <th>weekdays</th>\n",
       "    </tr>\n",
       "  </thead>\n",
       "  <tbody>\n",
       "    <tr>\n",
       "      <th>4</th>\n",
       "      <td>Urizen</td>\n",
       "      <td>Victory Art Brew</td>\n",
       "      <td>Belgian Tripel</td>\n",
       "      <td>10.5</td>\n",
       "      <td>28</td>\n",
       "      <td>NaN</td>\n",
       "      <td>Uchitelskaya Street (Учительская улица)</td>\n",
       "      <td>Санкт-Петербург</td>\n",
       "      <td>Санкт-Петербург</td>\n",
       "      <td>Россия</td>\n",
       "      <td>...</td>\n",
       "      <td>194363744</td>\n",
       "      <td>983516</td>\n",
       "      <td>82343</td>\n",
       "      <td>NaN</td>\n",
       "      <td>3.99</td>\n",
       "      <td>3.85</td>\n",
       "      <td>NaN</td>\n",
       "      <td>1</td>\n",
       "      <td>0</td>\n",
       "      <td>4</td>\n",
       "    </tr>\n",
       "    <tr>\n",
       "      <th>72</th>\n",
       "      <td>Urizen</td>\n",
       "      <td>Victory Art Brew</td>\n",
       "      <td>Belgian Tripel</td>\n",
       "      <td>10.5</td>\n",
       "      <td>28</td>\n",
       "      <td>Разлив в марте пятняшки. Теперь полностью из х...</td>\n",
       "      <td>Uchitelskaya Street (Учительская улица)</td>\n",
       "      <td>Санкт-Петербург</td>\n",
       "      <td>Санкт-Петербург</td>\n",
       "      <td>Россия</td>\n",
       "      <td>...</td>\n",
       "      <td>264434131</td>\n",
       "      <td>983516</td>\n",
       "      <td>82343</td>\n",
       "      <td>https://untappd.s3.amazonaws.com/photo/2016_01...</td>\n",
       "      <td>3.99</td>\n",
       "      <td>3.85</td>\n",
       "      <td>NaN</td>\n",
       "      <td>1</td>\n",
       "      <td>0</td>\n",
       "      <td>3</td>\n",
       "    </tr>\n",
       "    <tr>\n",
       "      <th>2672</th>\n",
       "      <td>Urizen</td>\n",
       "      <td>Victory Art Brew</td>\n",
       "      <td>Belgian Tripel</td>\n",
       "      <td>10.5</td>\n",
       "      <td>28</td>\n",
       "      <td>Бутылка от марта 2015. На этот раз от хрена ни...</td>\n",
       "      <td>Uchitelskaya Street (Учительская улица)</td>\n",
       "      <td>Санкт-Петербург</td>\n",
       "      <td>Санкт-Петербург</td>\n",
       "      <td>Россия</td>\n",
       "      <td>...</td>\n",
       "      <td>829473732</td>\n",
       "      <td>983516</td>\n",
       "      <td>82343</td>\n",
       "      <td>NaN</td>\n",
       "      <td>3.99</td>\n",
       "      <td>3.85</td>\n",
       "      <td>NaN</td>\n",
       "      <td>13</td>\n",
       "      <td>0</td>\n",
       "      <td>4</td>\n",
       "    </tr>\n",
       "  </tbody>\n",
       "</table>\n",
       "<p>3 rows × 33 columns</p>\n",
       "</div>"
      ],
      "text/plain": [
       "     beer_name      brewery_name       beer_type  beer_abv  beer_ibu  \\\n",
       "4       Urizen  Victory Art Brew  Belgian Tripel      10.5        28   \n",
       "72      Urizen  Victory Art Brew  Belgian Tripel      10.5        28   \n",
       "2672    Urizen  Victory Art Brew  Belgian Tripel      10.5        28   \n",
       "\n",
       "                                                comment  \\\n",
       "4                                                   NaN   \n",
       "72    Разлив в марте пятняшки. Теперь полностью из х...   \n",
       "2672  Бутылка от марта 2015. На этот раз от хрена ни...   \n",
       "\n",
       "                                   venue_name       venue_city  \\\n",
       "4     Uchitelskaya Street (Учительская улица)  Санкт-Петербург   \n",
       "72    Uchitelskaya Street (Учительская улица)  Санкт-Петербург   \n",
       "2672  Uchitelskaya Street (Учительская улица)  Санкт-Петербург   \n",
       "\n",
       "          venue_state venue_country  ...  checkin_id     bid  brewery_id  \\\n",
       "4     Санкт-Петербург        Россия  ...   194363744  983516       82343   \n",
       "72    Санкт-Петербург        Россия  ...   264434131  983516       82343   \n",
       "2672  Санкт-Петербург        Россия  ...   829473732  983516       82343   \n",
       "\n",
       "                                              photo_url global_rating_score  \\\n",
       "4                                                   NaN                3.99   \n",
       "72    https://untappd.s3.amazonaws.com/photo/2016_01...                3.99   \n",
       "2672                                                NaN                3.99   \n",
       "\n",
       "     global_weighted_rating_score tagged_friends total_toasts total_comments  \\\n",
       "4                            3.85            NaN            1              0   \n",
       "72                           3.85            NaN            1              0   \n",
       "2672                         3.85            NaN           13              0   \n",
       "\n",
       "     weekdays  \n",
       "4           4  \n",
       "72          3  \n",
       "2672        4  \n",
       "\n",
       "[3 rows x 33 columns]"
      ]
     },
     "execution_count": 10,
     "metadata": {},
     "output_type": "execute_result"
    }
   ],
   "source": [
    "#удаление дублированных чекинов (сорта, которые я пробовал несколько раз)\n",
    "che = checkins.copy()\n",
    "che[che.duplicated(subset = ['beer_name', 'brewery_name', 'beer_abv'])]\n",
    "\n",
    "che[che['beer_name'] == 'Urizen']"
   ]
  },
  {
   "cell_type": "code",
   "execution_count": 11,
   "id": "02bc0628",
   "metadata": {
    "scrolled": true
   },
   "outputs": [
    {
     "data": {
      "text/html": [
       "<div>\n",
       "<style scoped>\n",
       "    .dataframe tbody tr th:only-of-type {\n",
       "        vertical-align: middle;\n",
       "    }\n",
       "\n",
       "    .dataframe tbody tr th {\n",
       "        vertical-align: top;\n",
       "    }\n",
       "\n",
       "    .dataframe thead th {\n",
       "        text-align: right;\n",
       "    }\n",
       "</style>\n",
       "<table border=\"1\" class=\"dataframe\">\n",
       "  <thead>\n",
       "    <tr style=\"text-align: right;\">\n",
       "      <th></th>\n",
       "      <th>beer_name</th>\n",
       "      <th>brewery_name</th>\n",
       "      <th>beer_type</th>\n",
       "      <th>beer_abv</th>\n",
       "      <th>beer_ibu</th>\n",
       "      <th>comment</th>\n",
       "      <th>venue_name</th>\n",
       "      <th>venue_city</th>\n",
       "      <th>venue_state</th>\n",
       "      <th>venue_country</th>\n",
       "      <th>...</th>\n",
       "      <th>checkin_id</th>\n",
       "      <th>bid</th>\n",
       "      <th>brewery_id</th>\n",
       "      <th>photo_url</th>\n",
       "      <th>global_rating_score</th>\n",
       "      <th>global_weighted_rating_score</th>\n",
       "      <th>tagged_friends</th>\n",
       "      <th>total_toasts</th>\n",
       "      <th>total_comments</th>\n",
       "      <th>weekdays</th>\n",
       "    </tr>\n",
       "  </thead>\n",
       "  <tbody>\n",
       "    <tr>\n",
       "      <th>4</th>\n",
       "      <td>Urizen</td>\n",
       "      <td>Victory Art Brew</td>\n",
       "      <td>Belgian Tripel</td>\n",
       "      <td>10.5</td>\n",
       "      <td>28</td>\n",
       "      <td>NaN</td>\n",
       "      <td>Uchitelskaya Street (Учительская улица)</td>\n",
       "      <td>Санкт-Петербург</td>\n",
       "      <td>Санкт-Петербург</td>\n",
       "      <td>Россия</td>\n",
       "      <td>...</td>\n",
       "      <td>194363744</td>\n",
       "      <td>983516</td>\n",
       "      <td>82343</td>\n",
       "      <td>NaN</td>\n",
       "      <td>3.99</td>\n",
       "      <td>3.85</td>\n",
       "      <td>NaN</td>\n",
       "      <td>1</td>\n",
       "      <td>0</td>\n",
       "      <td>4</td>\n",
       "    </tr>\n",
       "  </tbody>\n",
       "</table>\n",
       "<p>1 rows × 33 columns</p>\n",
       "</div>"
      ],
      "text/plain": [
       "  beer_name      brewery_name       beer_type  beer_abv  beer_ibu comment  \\\n",
       "4    Urizen  Victory Art Brew  Belgian Tripel      10.5        28     NaN   \n",
       "\n",
       "                                venue_name       venue_city      venue_state  \\\n",
       "4  Uchitelskaya Street (Учительская улица)  Санкт-Петербург  Санкт-Петербург   \n",
       "\n",
       "  venue_country  ...  checkin_id     bid  brewery_id photo_url  \\\n",
       "4        Россия  ...   194363744  983516       82343       NaN   \n",
       "\n",
       "  global_rating_score global_weighted_rating_score tagged_friends  \\\n",
       "4                3.99                         3.85            NaN   \n",
       "\n",
       "  total_toasts total_comments weekdays  \n",
       "4            1              0        4  \n",
       "\n",
       "[1 rows x 33 columns]"
      ]
     },
     "execution_count": 11,
     "metadata": {},
     "output_type": "execute_result"
    }
   ],
   "source": [
    "checkins_drop = che.drop_duplicates(subset = ['beer_name', 'brewery_name', 'beer_abv'])\n",
    "checkins_drop[checkins_drop['beer_name'] == 'Urizen']"
   ]
  },
  {
   "cell_type": "code",
   "execution_count": 12,
   "id": "c656064a",
   "metadata": {},
   "outputs": [],
   "source": [
    "#копия датасета с удалёнными строками, в которых отсутствовала оценка\n",
    "\n",
    "checkins_drop_notnan = checkins_drop.copy()\n",
    "checkins_drop_notnan = checkins_drop_notnan.dropna(subset = ['rating_score'])"
   ]
  },
  {
   "cell_type": "markdown",
   "id": "44342548",
   "metadata": {},
   "source": [
    "## 3. Описательная статистика"
   ]
  },
  {
   "cell_type": "markdown",
   "id": "9419dc4f",
   "metadata": {},
   "source": [
    "Раздел, ради которого всё затевалось. В нём будут синтезированы некоторые интересующие меня показатели, которые раскрывают палитру интересов к пивному напитку."
   ]
  },
  {
   "cell_type": "markdown",
   "id": "08b0c2af",
   "metadata": {},
   "source": [
    "Будут описаны следующие показетели (колонки датасета):\n",
    "\n",
    "- **rating_score** - персональные оценки\n",
    "- **global_weighted_rating_score** - взвешенные средние оценки пользователей для попробованного сорта\n",
    "- **beer_type** - стили пива\n",
    "- **brewery_name** - наименование пивоварни\n",
    "- **brewery_country** - страна, которой пивоварня принадлежит\n",
    "- **total_toasts** - количество лайков за чекин пива\n",
    "- **venue_name** - название места, где пиво было попробовано\n",
    "- **tagged_friends** - люди, которые пробовали сорт вместе со мной\n",
    "- **comments** - персональный текст, которым был описан сорт"
   ]
  },
  {
   "cell_type": "markdown",
   "id": "b7b85be8",
   "metadata": {},
   "source": [
    "#### #Ключевые показатели распределения оценок"
   ]
  },
  {
   "cell_type": "code",
   "execution_count": 13,
   "id": "f778d268",
   "metadata": {},
   "outputs": [
    {
     "data": {
      "text/plain": [
       "count    5411.000000\n",
       "mean        3.640436\n",
       "std         0.424163\n",
       "min         0.500000\n",
       "25%         3.500000\n",
       "50%         3.750000\n",
       "75%         3.900000\n",
       "max         5.000000\n",
       "Name: rating_score, dtype: float64"
      ]
     },
     "execution_count": 13,
     "metadata": {},
     "output_type": "execute_result"
    }
   ],
   "source": [
    "#ключевые показатели персональных оценок \n",
    "\n",
    "checkins['rating_score'].describe()"
   ]
  },
  {
   "cell_type": "code",
   "execution_count": 14,
   "id": "3f7266ba",
   "metadata": {},
   "outputs": [
    {
     "data": {
      "text/plain": [
       "count    5469.000000\n",
       "mean        3.710823\n",
       "std         0.286895\n",
       "min         0.840000\n",
       "25%         3.600000\n",
       "50%         3.750000\n",
       "75%         3.880000\n",
       "max         4.570000\n",
       "Name: global_weighted_rating_score, dtype: float64"
      ]
     },
     "execution_count": 14,
     "metadata": {},
     "output_type": "execute_result"
    }
   ],
   "source": [
    "#ключевые показатели взвешенных средних оценок пользователей\n",
    "\n",
    "checkins['global_weighted_rating_score'].describe()"
   ]
  },
  {
   "cell_type": "markdown",
   "id": "8ef51758",
   "metadata": {},
   "source": [
    "#### #Гайд по стилям пива"
   ]
  },
  {
   "cell_type": "markdown",
   "id": "46256bb2",
   "metadata": {},
   "source": [
    "Для меня основным статистическим и дегустационным параметром являются стили пива. Безусловно, стиль - глава \"большого крафтового города\", ответственный за разнообразие. В этот же момент, разнообразие - глава \"большого крафтового государства\", ответственный за интерес к потреблению. \n",
    "\n",
    "Отсутствие разницы между стилями убило бы весь интерес. А так как пивной продукт, как и всё в жизни, подвержен эволюции, то убийства не происходит. "
   ]
  },
  {
   "cell_type": "code",
   "execution_count": 15,
   "id": "36388a7e",
   "metadata": {},
   "outputs": [
    {
     "data": {
      "text/plain": [
       "IPA - American                      286\n",
       "Sour - Other Gose                   273\n",
       "Sour - Fruited                      223\n",
       "IPA - New England / Hazy            219\n",
       "Sour - Fruited Gose                 193\n",
       "                                   ... \n",
       "Farmhouse Ale - Bière de Coupage      1\n",
       "Mumme                                 1\n",
       "Pilsner - Italian                     1\n",
       "Farmhouse Ale - Bière de Mars         1\n",
       "Kentucky Common                       1\n",
       "Name: beer_type, Length: 223, dtype: int64"
      ]
     },
     "execution_count": 15,
     "metadata": {},
     "output_type": "execute_result"
    }
   ],
   "source": [
    "#стили пива, их распределение по количеству и средним персональным/взвешенным средним общим оценкам (не менее 10 чекинов на стиль)\n",
    "\n",
    "checkins['beer_type'].value_counts()"
   ]
  },
  {
   "cell_type": "code",
   "execution_count": 16,
   "id": "fced5d10",
   "metadata": {},
   "outputs": [
    {
     "data": {
      "text/plain": [
       "Stout - English                     9\n",
       "Red Ale - Irish                     9\n",
       "Cider - Graff                       9\n",
       "Brown Ale - American                9\n",
       "Farmhouse Ale - Sahti               9\n",
       "                                   ..\n",
       "Farmhouse Ale - Bière de Coupage    1\n",
       "Mumme                               1\n",
       "Pilsner - Italian                   1\n",
       "Mild - Dark                         1\n",
       "Kentucky Common                     1\n",
       "Name: beer_type, Length: 92, dtype: int64"
      ]
     },
     "execution_count": 16,
     "metadata": {},
     "output_type": "execute_result"
    }
   ],
   "source": [
    "#стили пива, в которых у меня попробовано менее 10 сортов\n",
    "\n",
    "checkins_drop['beer_type'].value_counts()[checkins_drop['beer_type'].value_counts() < 10]"
   ]
  },
  {
   "cell_type": "code",
   "execution_count": 17,
   "id": "6a221642",
   "metadata": {},
   "outputs": [
    {
     "data": {
      "text/plain": [
       "beer_type\n",
       "Lambic - Gueuze                     4.084091\n",
       "Freeze-Distilled Beer               4.075000\n",
       "Stout - Imperial / Double Coffee    4.028571\n",
       "Lambic - Fruit                      4.018182\n",
       "Chilli / Chile Beer                 3.914583\n",
       "                                      ...   \n",
       "Pilsner - Other                     3.030000\n",
       "Lager - Amber                       3.018182\n",
       "Non-Alcoholic Beer                  2.935294\n",
       "Lager - Pale                        2.877451\n",
       "Lager - Strong                      2.855000\n",
       "Name: rating_score, Length: 131, dtype: float64"
      ]
     },
     "execution_count": 17,
     "metadata": {},
     "output_type": "execute_result"
    }
   ],
   "source": [
    "#лучшие стили пива по моей оценке (попробовано не менее 10 сортов)\n",
    "\n",
    "avg_beer_type = checkins_drop.groupby('beer_type')['rating_score']\n",
    "avg_beer_type.mean()[(avg_beer_type.size() >= 10)].sort_values(axis=0, ascending=False)"
   ]
  },
  {
   "cell_type": "code",
   "execution_count": 18,
   "id": "b2144f8a",
   "metadata": {},
   "outputs": [
    {
     "data": {
      "text/plain": [
       "beer_type\n",
       "Stout - Imperial / Double Coffee    4.140000\n",
       "Stout - Imperial / Double Pastry    4.022453\n",
       "Lambic - Framboise                  4.016364\n",
       "Sour - Smoothie / Pastry            3.997534\n",
       "IPA - Triple New England / Hazy     3.995000\n",
       "                                      ...   \n",
       "Lager - American Light              3.194545\n",
       "Lager - Pale                        3.148529\n",
       "Lager - American                    3.118571\n",
       "Lager - Strong                      3.000000\n",
       "Non-Alcoholic Beer                  2.961714\n",
       "Name: global_weighted_rating_score, Length: 131, dtype: float64"
      ]
     },
     "execution_count": 18,
     "metadata": {},
     "output_type": "execute_result"
    }
   ],
   "source": [
    "#лучшие стили пива, присутвующие в датасете, по средне взвещанной мировой оценке (попробовано не менее 10 сортов)\n",
    "\n",
    "global_avg_beer_type = checkins_drop.groupby('beer_type')['global_weighted_rating_score']\n",
    "global_avg_beer_type.mean()[(global_avg_beer_type.size() >= 10)].sort_values(axis=0, ascending=False)"
   ]
  },
  {
   "cell_type": "markdown",
   "id": "752d5280",
   "metadata": {},
   "source": [
    "#### #Гайд по странам"
   ]
  },
  {
   "cell_type": "markdown",
   "id": "c9b79097",
   "metadata": {},
   "source": [
    "Как мы узнавали географию по футболу и иным видам спорта, так сейчас в сознании созданы слоты для географии пивной. В настоящем подразделе, аналогично предыдущему, содержатся наиболее часто зачекиненные государства-производители со средней оценкой."
   ]
  },
  {
   "cell_type": "code",
   "execution_count": 19,
   "id": "bcda2d9b",
   "metadata": {
    "scrolled": false
   },
   "outputs": [
    {
     "data": {
      "text/plain": [
       "Russia            3238\n",
       "United States      357\n",
       "Belgium            293\n",
       "Germany            233\n",
       "England            152\n",
       "Netherlands        125\n",
       "Estonia            105\n",
       "Denmark             95\n",
       "Scotland            92\n",
       "Spain               92\n",
       "Sweden              89\n",
       "Norway              81\n",
       "Belarus             64\n",
       "Italy               59\n",
       "Czech Republic      52\n",
       "Finland             47\n",
       "Latvia              36\n",
       "Lithuania           36\n",
       "Moldova             30\n",
       "Poland              27\n",
       "Name: brewery_country, dtype: int64"
      ]
     },
     "execution_count": 19,
     "metadata": {},
     "output_type": "execute_result"
    }
   ],
   "source": [
    "#страны, чьё производство я пробовал\n",
    "\n",
    "checkins['brewery_country'].value_counts().head(20)"
   ]
  },
  {
   "cell_type": "code",
   "execution_count": 73,
   "id": "848c5c18",
   "metadata": {},
   "outputs": [
    {
     "data": {
      "text/plain": [
       "array(['Russia', 'Belgium', 'Scotland', 'Netherlands', 'United States',\n",
       "       'Norway', 'Poland', 'Latvia', 'Denmark', 'Spain', 'Estonia',\n",
       "       'Italy', 'England', 'Finland', 'Germany', 'Moldova', 'Serbia',\n",
       "       'Japan', 'Sweden', 'Ireland', 'Wales', 'Armenia', 'Belarus',\n",
       "       'Czech Republic', 'Georgia', 'Mexico', 'Aland Islands', 'France',\n",
       "       'Iceland', 'Austria', 'Singapore', 'Lithuania', 'Ukraine',\n",
       "       'Azerbaijan', 'Turkey', 'Hungary', 'Canada', 'Argentina',\n",
       "       'Costa Rica', 'Greece', 'Switzerland', 'Romania', 'Portugal',\n",
       "       \"China / People's Republic of China\", 'New Zealand', 'South Korea',\n",
       "       'Philippines', 'Thailand', 'Australia', 'Jamaica', 'Vietnam',\n",
       "       'Indonesia', 'Kazakhstan', 'Northern Ireland', 'Kyrgyzstan',\n",
       "       'Slovakia', 'Israel'], dtype=object)"
      ]
     },
     "execution_count": 73,
     "metadata": {},
     "output_type": "execute_result"
    }
   ],
   "source": [
    "checkins['brewery_country'].unique()"
   ]
  },
  {
   "cell_type": "code",
   "execution_count": 20,
   "id": "ac052d15",
   "metadata": {},
   "outputs": [
    {
     "data": {
      "text/plain": [
       "brewery_country\n",
       "Norway            3.810625\n",
       "United States     3.798286\n",
       "Belgium           3.774727\n",
       "Sweden            3.752874\n",
       "Italy             3.743966\n",
       "Denmark           3.727473\n",
       "Netherlands       3.674390\n",
       "Russia            3.649606\n",
       "Spain             3.646739\n",
       "Scotland          3.644828\n",
       "Estonia           3.635204\n",
       "Belarus           3.612500\n",
       "France            3.556250\n",
       "England           3.538000\n",
       "Finland           3.504444\n",
       "Germany           3.369595\n",
       "Ireland           3.330952\n",
       "Poland            3.314583\n",
       "Czech Republic    3.283000\n",
       "Moldova           3.267241\n",
       "Lithuania         3.165278\n",
       "Latvia            3.129412\n",
       "Name: rating_score, dtype: float64"
      ]
     },
     "execution_count": 20,
     "metadata": {},
     "output_type": "execute_result"
    }
   ],
   "source": [
    "#лучшие государства-производители пива по моей оценке (попробовано не менее 20 сортов)\n",
    "\n",
    "avg_country_score = checkins_drop.groupby('brewery_country')['rating_score']\n",
    "avg_country_score.mean()[(avg_country_score.size() >= 20)].sort_values(axis=0, ascending=False)"
   ]
  },
  {
   "cell_type": "code",
   "execution_count": 21,
   "id": "ede5799c",
   "metadata": {},
   "outputs": [
    {
     "data": {
      "text/plain": [
       "brewery_country\n",
       "United States     3.808725\n",
       "Belarus           3.796250\n",
       "Russia            3.776801\n",
       "Norway            3.756420\n",
       "Sweden            3.727955\n",
       "Spain             3.692717\n",
       "Belgium           3.689565\n",
       "Italy             3.662373\n",
       "Denmark           3.656702\n",
       "France            3.622917\n",
       "Netherlands       3.621920\n",
       "Scotland          3.610444\n",
       "Estonia           3.603173\n",
       "Moldova           3.587000\n",
       "England           3.585563\n",
       "Ireland           3.567826\n",
       "Poland            3.398148\n",
       "Germany           3.393393\n",
       "Czech Republic    3.368800\n",
       "Finland           3.322667\n",
       "Latvia            3.308235\n",
       "Lithuania         3.225556\n",
       "Name: global_weighted_rating_score, dtype: float64"
      ]
     },
     "execution_count": 21,
     "metadata": {},
     "output_type": "execute_result"
    }
   ],
   "source": [
    "#лучшие государства-производители пива из присутствующих в датасете, по средней взвешенной мировой оценке (попробовано не менее 20 сортов)\n",
    "\n",
    "avg_country_global_score = checkins_drop.groupby('brewery_country')['global_weighted_rating_score']\n",
    "avg_country_global_score.mean()[(avg_country_global_score.size() >= 20)].sort_values(axis=0, ascending=False)"
   ]
  },
  {
   "cell_type": "code",
   "execution_count": 22,
   "id": "96fc7362",
   "metadata": {},
   "outputs": [],
   "source": [
    "#соединим таблицы в один датасет\n",
    "\n",
    "countries_mine = avg_country_score.mean()[(avg_country_score.size() >= 20)]\n",
    "countries_global = avg_country_global_score.mean()[(avg_country_global_score.size() >= 20)]\n",
    "avg_countries_scores = pd.merge(left=countries_mine, right=countries_global, on='brewery_country')"
   ]
  },
  {
   "cell_type": "code",
   "execution_count": 23,
   "id": "c8faa9fd",
   "metadata": {
    "scrolled": true
   },
   "outputs": [
    {
     "data": {
      "text/html": [
       "<div>\n",
       "<style scoped>\n",
       "    .dataframe tbody tr th:only-of-type {\n",
       "        vertical-align: middle;\n",
       "    }\n",
       "\n",
       "    .dataframe tbody tr th {\n",
       "        vertical-align: top;\n",
       "    }\n",
       "\n",
       "    .dataframe thead th {\n",
       "        text-align: right;\n",
       "    }\n",
       "</style>\n",
       "<table border=\"1\" class=\"dataframe\">\n",
       "  <thead>\n",
       "    <tr style=\"text-align: right;\">\n",
       "      <th></th>\n",
       "      <th>rating_score</th>\n",
       "      <th>global_weighted_rating_score</th>\n",
       "      <th>difference</th>\n",
       "    </tr>\n",
       "    <tr>\n",
       "      <th>brewery_country</th>\n",
       "      <th></th>\n",
       "      <th></th>\n",
       "      <th></th>\n",
       "    </tr>\n",
       "  </thead>\n",
       "  <tbody>\n",
       "    <tr>\n",
       "      <th>Belarus</th>\n",
       "      <td>3.612500</td>\n",
       "      <td>3.796250</td>\n",
       "      <td>-0.183750</td>\n",
       "    </tr>\n",
       "    <tr>\n",
       "      <th>Belgium</th>\n",
       "      <td>3.774727</td>\n",
       "      <td>3.689565</td>\n",
       "      <td>0.085162</td>\n",
       "    </tr>\n",
       "    <tr>\n",
       "      <th>Czech Republic</th>\n",
       "      <td>3.283000</td>\n",
       "      <td>3.368800</td>\n",
       "      <td>-0.085800</td>\n",
       "    </tr>\n",
       "    <tr>\n",
       "      <th>Denmark</th>\n",
       "      <td>3.727473</td>\n",
       "      <td>3.656702</td>\n",
       "      <td>0.070770</td>\n",
       "    </tr>\n",
       "    <tr>\n",
       "      <th>England</th>\n",
       "      <td>3.538000</td>\n",
       "      <td>3.585563</td>\n",
       "      <td>-0.047563</td>\n",
       "    </tr>\n",
       "  </tbody>\n",
       "</table>\n",
       "</div>"
      ],
      "text/plain": [
       "                 rating_score  global_weighted_rating_score  difference\n",
       "brewery_country                                                        \n",
       "Belarus              3.612500                      3.796250   -0.183750\n",
       "Belgium              3.774727                      3.689565    0.085162\n",
       "Czech Republic       3.283000                      3.368800   -0.085800\n",
       "Denmark              3.727473                      3.656702    0.070770\n",
       "England              3.538000                      3.585563   -0.047563"
      ]
     },
     "execution_count": 23,
     "metadata": {},
     "output_type": "execute_result"
    }
   ],
   "source": [
    "# найдём разницу между выставляемыми мной оценками и между оценками, которые ставят в целом\n",
    "\n",
    "avg_countries_scores['difference'] = avg_countries_scores.rating_score - avg_countries_scores.global_weighted_rating_score\n",
    "avg_countries_scores.head()"
   ]
  },
  {
   "cell_type": "code",
   "execution_count": 24,
   "id": "f5d6c1e4",
   "metadata": {},
   "outputs": [
    {
     "data": {
      "text/plain": [
       "brewery_country\n",
       "Finland           0.181778\n",
       "Belgium           0.085162\n",
       "Italy             0.081593\n",
       "Denmark           0.070770\n",
       "Norway            0.054205\n",
       "Netherlands       0.052470\n",
       "Scotland          0.034383\n",
       "Estonia           0.032031\n",
       "Sweden            0.024919\n",
       "United States    -0.010439\n",
       "Germany          -0.023798\n",
       "Spain            -0.045978\n",
       "England          -0.047563\n",
       "Lithuania        -0.060278\n",
       "France           -0.066667\n",
       "Poland           -0.083565\n",
       "Czech Republic   -0.085800\n",
       "Russia           -0.127195\n",
       "Latvia           -0.178824\n",
       "Belarus          -0.183750\n",
       "Ireland          -0.236874\n",
       "Moldova          -0.319759\n",
       "Name: difference, dtype: float64"
      ]
     },
     "execution_count": 24,
     "metadata": {},
     "output_type": "execute_result"
    }
   ],
   "source": [
    "#отсортируем и посмотрим за восхвалением и предвзятостью\n",
    "\n",
    "avg_countries_scores.difference.sort_values(ascending=False)"
   ]
  },
  {
   "cell_type": "markdown",
   "id": "34542610",
   "metadata": {},
   "source": [
    "Я считаю лучшими ***Норвегию, Соединённые Штаты и Бельгию*** по части варки пива. По тем же сортам мировой консенсус сходится на ***США, Белоруссии и России***. К сожалению, мой профиль, как выборка, слишком географически субъективен.\n",
    "\n",
    "Что же касается выставления оценок, то куда лучшие котировки для меня имеют ***Финские*** производители. Суровее всего, по сравнению с остальными, я отношусь к ***Латвии, Белоруссии, Ирландии и Молдове***."
   ]
  },
  {
   "cell_type": "markdown",
   "id": "171036d6",
   "metadata": {},
   "source": [
    "#### #Гайд по пивоварням"
   ]
  },
  {
   "cell_type": "markdown",
   "id": "0eb549e9",
   "metadata": {},
   "source": [
    "Конечно же нельзя обойти стороной и пивоварни - напрямую ответственные за результат и за восприятие. Углубляться не будем, посмотрим только количество потреблённых сортов и средние оценки. \n",
    "\n",
    "Используем дасасет только с уникальными чекинами."
   ]
  },
  {
   "cell_type": "code",
   "execution_count": 25,
   "id": "ffeded2b",
   "metadata": {},
   "outputs": [
    {
     "data": {
      "text/plain": [
       "AF Brew                189\n",
       "Salden's Brewery       177\n",
       "Zagovor Brewery        148\n",
       "Bakunin Brewing Co.    147\n",
       "Big Village Brewery    146\n",
       "Stamm Brewing          102\n",
       "Red Button Brewery      75\n",
       "DIETA / ДИЕТА           73\n",
       "Wild Lab                68\n",
       "Hophead Brewery         62\n",
       "Jaws Brewery            61\n",
       "BrewDog                 61\n",
       "OSTROVICA               57\n",
       "Selfmade Brewery        57\n",
       "4BREWERS                53\n",
       "Name: brewery_name, dtype: int64"
      ]
     },
     "execution_count": 25,
     "metadata": {},
     "output_type": "execute_result"
    }
   ],
   "source": [
    "#пивоварни, чьё производство я пробовал\n",
    "\n",
    "checkins_drop['brewery_name'].value_counts().head(15)"
   ]
  },
  {
   "cell_type": "code",
   "execution_count": 26,
   "id": "939da3de",
   "metadata": {
    "scrolled": true
   },
   "outputs": [
    {
     "data": {
      "text/plain": [
       "brewery_name\n",
       "Brouwerij Alvinne                  4.001923\n",
       "Evil Twin Brewing                  3.942593\n",
       "DIETA / ДИЕТА                      3.939041\n",
       "Plague Brew                        3.855405\n",
       "Stamm Brewing                      3.824510\n",
       "Founders Brewing Co.               3.821875\n",
       "Red Rocket Brewery                 3.811538\n",
       "To Øl                              3.801724\n",
       "Big Village Brewery                3.801027\n",
       "Wild Lab                           3.792647\n",
       "Zagovor Brewery                    3.792568\n",
       "Brewlok Brewery                    3.783333\n",
       "Brouwerij de Molen                 3.782927\n",
       "Anderson Valley Brewing Company    3.780357\n",
       "Omnipollo                          3.767241\n",
       "Name: rating_score, dtype: float64"
      ]
     },
     "execution_count": 26,
     "metadata": {},
     "output_type": "execute_result"
    }
   ],
   "source": [
    "#лучшие пивоварни по моим оценкам (зачекинено не менее 25 сортов)\n",
    "\n",
    "avg_brewery_score = checkins_drop_notnan.groupby('brewery_name')['rating_score']\n",
    "avg_brewery_score.mean()[(avg_brewery_score.size() >= 25)].sort_values(axis=0, ascending=False).head(15)"
   ]
  },
  {
   "cell_type": "code",
   "execution_count": 27,
   "id": "b0055e74",
   "metadata": {},
   "outputs": [
    {
     "data": {
      "text/plain": [
       "brewery_name\n",
       "Founders Brewing Co.    3.975938\n",
       "DIETA / ДИЕТА           3.973014\n",
       "Zagovor Brewery         3.971824\n",
       "Stamm Brewing           3.956863\n",
       "Wild Lab                3.906765\n",
       "Brewlok Brewery         3.901042\n",
       "Big Village Brewery     3.893425\n",
       "Brouwerij Alvinne       3.889615\n",
       "Selfmade Brewery        3.882982\n",
       "Red Rocket Brewery      3.866923\n",
       "AF Brew                 3.865798\n",
       "Rewort Brewery          3.855641\n",
       "4BREWERS                3.853077\n",
       "Hophead Brewery         3.843548\n",
       "Plan B Brewery          3.835000\n",
       "Name: global_weighted_rating_score, dtype: float64"
      ]
     },
     "execution_count": 27,
     "metadata": {},
     "output_type": "execute_result"
    }
   ],
   "source": [
    "#лучшие пивоварни по средне взвешенным оценкам (зачекинено не менее 25 сортов)\n",
    "\n",
    "avg_brewery_global_score = checkins_drop_notnan.groupby('brewery_name')['global_weighted_rating_score']\n",
    "avg_brewery_global_score.mean()[(avg_brewery_score.size() >= 25)].sort_values(axis=0, ascending=False).head(15)"
   ]
  },
  {
   "cell_type": "markdown",
   "id": "b3685f8d",
   "metadata": {},
   "source": [
    "Кроме непосредственной оценки продукта пивоварни, можно посмотреть, насколько эти пивоварни оцениваются тостами моих друзей. Для этого потренируем ***pivot_table*** и ***merge***."
   ]
  },
  {
   "cell_type": "code",
   "execution_count": 28,
   "id": "147256e3",
   "metadata": {},
   "outputs": [
    {
     "data": {
      "text/html": [
       "<div>\n",
       "<style scoped>\n",
       "    .dataframe tbody tr th:only-of-type {\n",
       "        vertical-align: middle;\n",
       "    }\n",
       "\n",
       "    .dataframe tbody tr th {\n",
       "        vertical-align: top;\n",
       "    }\n",
       "\n",
       "    .dataframe thead th {\n",
       "        text-align: right;\n",
       "    }\n",
       "</style>\n",
       "<table border=\"1\" class=\"dataframe\">\n",
       "  <thead>\n",
       "    <tr style=\"text-align: right;\">\n",
       "      <th></th>\n",
       "      <th>total_toasts</th>\n",
       "      <th>counts</th>\n",
       "    </tr>\n",
       "    <tr>\n",
       "      <th>brewery_name</th>\n",
       "      <th></th>\n",
       "      <th></th>\n",
       "    </tr>\n",
       "  </thead>\n",
       "  <tbody>\n",
       "    <tr>\n",
       "      <th>Pub 102</th>\n",
       "      <td>8</td>\n",
       "      <td>1</td>\n",
       "    </tr>\n",
       "    <tr>\n",
       "      <th>0,5 Pub</th>\n",
       "      <td>8</td>\n",
       "      <td>1</td>\n",
       "    </tr>\n",
       "    <tr>\n",
       "      <th>084Brewery</th>\n",
       "      <td>42</td>\n",
       "      <td>3</td>\n",
       "    </tr>\n",
       "    <tr>\n",
       "      <th>12 Acres Brewing Company</th>\n",
       "      <td>15</td>\n",
       "      <td>1</td>\n",
       "    </tr>\n",
       "    <tr>\n",
       "      <th>13 Litar</th>\n",
       "      <td>12</td>\n",
       "      <td>1</td>\n",
       "    </tr>\n",
       "    <tr>\n",
       "      <th>...</th>\n",
       "      <td>...</td>\n",
       "      <td>...</td>\n",
       "    </tr>\n",
       "    <tr>\n",
       "      <th>Хадыженский Пивзавод</th>\n",
       "      <td>14</td>\n",
       "      <td>1</td>\n",
       "    </tr>\n",
       "    <tr>\n",
       "      <th>Царскосельская Сидрерия</th>\n",
       "      <td>18</td>\n",
       "      <td>1</td>\n",
       "    </tr>\n",
       "    <tr>\n",
       "      <th>Частная Пивоварня Дорошенко</th>\n",
       "      <td>33</td>\n",
       "      <td>4</td>\n",
       "    </tr>\n",
       "    <tr>\n",
       "      <th>Чешка</th>\n",
       "      <td>42</td>\n",
       "      <td>3</td>\n",
       "    </tr>\n",
       "    <tr>\n",
       "      <th>All</th>\n",
       "      <td>58496</td>\n",
       "      <td>5469</td>\n",
       "    </tr>\n",
       "  </tbody>\n",
       "</table>\n",
       "<p>913 rows × 2 columns</p>\n",
       "</div>"
      ],
      "text/plain": [
       "                             total_toasts  counts\n",
       "brewery_name                                     \n",
       " Pub 102                                8       1\n",
       "0,5 Pub                                 8       1\n",
       "084Brewery                             42       3\n",
       "12 Acres Brewing Company               15       1\n",
       "13 Litar                               12       1\n",
       "...                                   ...     ...\n",
       "Хадыженский Пивзавод                   14       1\n",
       "Царскосельская Сидрерия                18       1\n",
       "Частная Пивоварня Дорошенко            33       4\n",
       "Чешка                                  42       3\n",
       "All                                 58496    5469\n",
       "\n",
       "[913 rows x 2 columns]"
      ]
     },
     "execution_count": 28,
     "metadata": {},
     "output_type": "execute_result"
    }
   ],
   "source": [
    "#получаем сводные таблицы по пивоварням в сочетании с количеством тостов и количеством попровобованных сортов\n",
    "\n",
    "brewery_toasts_pivot1 = checkins.pivot_table(aggfunc='sum', index='brewery_name', values='total_toasts', margins=True)\n",
    "brewery_toasts_pivot2 = checkins.pivot_table(aggfunc='count', index='brewery_name', values='beer_abv', margins=True)\n",
    "brewery_toasts = brewery_toasts_pivot1.merge(brewery_toasts_pivot2, on='brewery_name', how='inner')\n",
    "brewery_toasts.rename(columns={'beer_abv':'counts'}, inplace=True)\n",
    "brewery_toasts"
   ]
  },
  {
   "cell_type": "code",
   "execution_count": 29,
   "id": "03bbf93b",
   "metadata": {
    "scrolled": true
   },
   "outputs": [
    {
     "data": {
      "text/plain": [
       "brewery_name\n",
       "Cosmic City                 17.866667\n",
       "Privatbrauerei Eichbaum     16.684211\n",
       "Rising Moon Brewery         16.478261\n",
       "Пивная Диета (Beer Diet)    16.055556\n",
       "Brew Fiction                16.000000\n",
       "DIETA / ДИЕТА               15.671233\n",
       "COVEN BREWERY               15.461538\n",
       "BrewT!                      15.416667\n",
       "Courage Brewery             15.307692\n",
       "Hophead Brewery             15.236842\n",
       "Name: toast_per_brewery, dtype: float64"
      ]
     },
     "execution_count": 29,
     "metadata": {},
     "output_type": "execute_result"
    }
   ],
   "source": [
    "#вычисляем среднее количество тостов на пивоварню\n",
    "\n",
    "brewery_toasts['toast_per_brewery'] = brewery_toasts.total_toasts/brewery_toasts.counts\n",
    "brewery_toasts[brewery_toasts['counts'] > 10].toast_per_brewery.sort_values(ascending=False).head(10)"
   ]
  },
  {
   "cell_type": "markdown",
   "id": "0239fbe1",
   "metadata": {},
   "source": [
    "***Cosmic City*** в этом плане определённо на самой пиковой точке."
   ]
  },
  {
   "cell_type": "markdown",
   "id": "336418c0",
   "metadata": {},
   "source": [
    " #### #Немного о лагерах и пилзнерах"
   ]
  },
  {
   "cell_type": "markdown",
   "id": "092c1d53",
   "metadata": {},
   "source": [
    "Для интереса приведём ещё некоторую описательную статистику, которая могла бы порадовать любого биргика. Затронем лагера, пилзнеры и пшеничку, как элемент \"чистоты\" среди многочисленных экспериментов.\n",
    "\n",
    "Определим страны и пивоварни, кто лучше всех может почувствовать \"классику\". Опять же, всё на взгляд автора."
   ]
  },
  {
   "cell_type": "code",
   "execution_count": 30,
   "id": "f2b75aa3",
   "metadata": {},
   "outputs": [
    {
     "data": {
      "text/plain": [
       "(3.188, 3.625]    33.760684\n",
       "(2.75, 3.188]     24.358974\n",
       "(3.625, 4.062]    17.735043\n",
       "(2.312, 2.75]     13.675214\n",
       "(1.875, 2.312]     5.982906\n",
       "(4.062, 4.5]       2.136752\n",
       "(1.438, 1.875]     0.854701\n",
       "(0.995, 1.438]     0.641026\n",
       "Name: rating_score, dtype: float64"
      ]
     },
     "execution_count": 30,
     "metadata": {},
     "output_type": "execute_result"
    }
   ],
   "source": [
    "#распределение оценок для \"классики\"\n",
    "lag_pils = checkins_drop[checkins_drop['beer_type'].str.contains('Lager|Pilsner|Hefeweizen')]\n",
    "lag_pils['rating_score'].value_counts(bins=8, normalize=True)*100"
   ]
  },
  {
   "cell_type": "code",
   "execution_count": 31,
   "id": "4d7d491d",
   "metadata": {},
   "outputs": [
    {
     "data": {
      "text/plain": [
       "brewery_name\n",
       "Пивоварня Одна тонна / Odna Tonna Brewery                    4.070000\n",
       "Пивная Диета (Beer Diet)                                     3.940000\n",
       "Velka Morava                                                 3.804545\n",
       "Stamm Brewing                                                3.692857\n",
       "AF Brew                                                      3.675000\n",
       "Ayinger Privatbrauerei                                       3.600000\n",
       "Salden's Brewery                                             3.585714\n",
       "OSTROVICA                                                    3.575000\n",
       "Jaws Brewery                                                 3.510000\n",
       "Kulmbacher Brauerei                                          3.260000\n",
       "Tradiční pivovar v Rakovníku                                 3.187500\n",
       "Buket Chuvashii (Букет Чувашии)                              3.183333\n",
       "Spaten-Franziskaner-Löwenbräu-Gruppe                         3.150000\n",
       "Privatbrauerei Eichbaum                                      3.033333\n",
       "Moscow Brewing Company (Московская Пивоваренная Компания)    3.016667\n",
       "Cēsu Alus                                                    3.000000\n",
       "Volfas Engelman                                              2.970000\n",
       "Oettinger Brauerei                                           2.828571\n",
       "Van Pur                                                      2.583333\n",
       "Baltika Breweries (Балтика)                                  2.575000\n",
       "Zavod Trehsosensky (Завод Трехсосенский)                     2.187500\n",
       "Name: rating_score, dtype: float64"
      ]
     },
     "execution_count": 31,
     "metadata": {},
     "output_type": "execute_result"
    }
   ],
   "source": [
    "#лучшие пивоварни, способные варить \"классику\" (не менее 4 чекинов на пивоварню)\n",
    "\n",
    "brewery_lager_score = lag_pils.groupby('brewery_name')['rating_score']\n",
    "brewery_lager_score.mean(True)[(brewery_lager_score.size() >= 4)].sort_values(axis=0, ascending=False)"
   ]
  },
  {
   "cell_type": "code",
   "execution_count": 32,
   "id": "80ab1795",
   "metadata": {},
   "outputs": [
    {
     "data": {
      "text/plain": [
       "brewery_country\n",
       "United States     3.452632\n",
       "Russia            3.305523\n",
       "Germany           3.210526\n",
       "Czech Republic    3.146296\n",
       "Netherlands       3.122727\n",
       "Moldova           3.083333\n",
       "Lithuania         3.046429\n",
       "Latvia            2.833333\n",
       "Name: rating_score, dtype: float64"
      ]
     },
     "execution_count": 32,
     "metadata": {},
     "output_type": "execute_result"
    }
   ],
   "source": [
    "#лучшие страны, чьи пивоварни способны варить \"классику\" (не менее 10 чекинов на пивоварню)\n",
    "\n",
    "country_lager_score = lag_pils.groupby('brewery_country')['rating_score']\n",
    "country_lager_score.mean()[(country_lager_score.size() >= 10)].sort_values(axis=0, ascending=False)"
   ]
  },
  {
   "cell_type": "markdown",
   "id": "e61fc4c7",
   "metadata": {},
   "source": [
    "#### #Пройдёмся по заведениям"
   ]
  },
  {
   "cell_type": "markdown",
   "id": "bb19b955",
   "metadata": {},
   "source": [
    "Безусловно, интерес могут представлять и заведения. Конечно, статистика оценок в заведении не может являться фактором, определяющим решение о посещении. Тем не менее, в некоторых из них оценки выставляются лучше. \n",
    "\n",
    "Оговоримся, что описательная статистика не выявляет причины. И можно лишь догадываться, был ли бармен настолько хорош, что мне понравилось всё, что мы с ним попробовали. \n",
    "\n",
    "Посмотрим на средние персональные, средние взвешенные общие, а также дополнительно выясним, в каком баре я оставляю самые длинные комментарии в чекинах. Здесь причина более очевидна - при бармене и друзьях написать длинный комментарий невозможно."
   ]
  },
  {
   "cell_type": "code",
   "execution_count": 33,
   "id": "a421d9e8",
   "metadata": {
    "scrolled": false
   },
   "outputs": [
    {
     "data": {
      "text/plain": [
       "venue_name\n",
       "AF Brew Taproom                    3.893333\n",
       "Avrora Bar                         3.881818\n",
       "TOP HOPS                           3.845946\n",
       "Лободэй 2021                       3.820000\n",
       "Beer Diet (Пивная Диета)           3.819159\n",
       "Old Skull Fest                     3.811957\n",
       "Share House                        3.797222\n",
       "RULE taproom                       3.791892\n",
       "Spontan                            3.791690\n",
       "Beergeek Craft Beer Bar & Store    3.790190\n",
       "Redrum Bar                         3.787705\n",
       "Баланс белого                      3.787209\n",
       "St.Petersburg Craft Event          3.762121\n",
       "Fillin'Good                        3.757172\n",
       "Big Craft Day 2019 у моря          3.750538\n",
       "Jawsspot                           3.733333\n",
       "Breaking Bad Beer Cafe             3.728261\n",
       "Bottle Expert                      3.716071\n",
       "Beer Addicts                       3.714815\n",
       "Ward N. 6                          3.705093\n",
       "Craft Beer Shop                    3.700562\n",
       "Viderzhka                          3.692308\n",
       "Пивной бутик 1516                  3.682632\n",
       "KIOSK                              3.665237\n",
       "Пивная Библиотека                  3.628125\n",
       "Name: rating_score, dtype: float64"
      ]
     },
     "execution_count": 33,
     "metadata": {},
     "output_type": "execute_result"
    }
   ],
   "source": [
    "#средние персональные оценки пиву в заведениях (не менее 20 чекинов в заведении)\n",
    "\n",
    "avg_venue_score = checkins_drop.groupby('venue_name')['rating_score']\n",
    "avg_venue_score.mean()[(avg_venue_score.size() >= 20)].sort_values(axis=0, ascending=False).head(25)"
   ]
  },
  {
   "cell_type": "code",
   "execution_count": 34,
   "id": "33442a81",
   "metadata": {},
   "outputs": [
    {
     "data": {
      "text/plain": [
       "venue_name\n",
       "Avrora Bar                         3.945227\n",
       "AF Brew Taproom                    3.927778\n",
       "Beer Diet (Пивная Диета)           3.877710\n",
       "TOP HOPS                           3.872162\n",
       "Big Craft Day 2019 у моря          3.859677\n",
       "Лободэй 2021                       3.856308\n",
       "Beer Addicts                       3.842195\n",
       "Spontan                            3.835912\n",
       "Viderzhka                          3.816154\n",
       "Redrum Bar                         3.812377\n",
       "RULE taproom                       3.807297\n",
       "Share House                        3.802778\n",
       "Fillin'Good                        3.802245\n",
       "Beergeek Craft Beer Bar & Store    3.799815\n",
       "Jawsspot                           3.794834\n",
       "St.Petersburg Craft Event          3.788529\n",
       "Bottle Expert                      3.783214\n",
       "Breaking Bad Beer Cafe             3.775000\n",
       "KIOSK                              3.760356\n",
       "Craft Republic                     3.752813\n",
       "Баланс белого                      3.738161\n",
       "Craft Beer Shop                    3.732735\n",
       "Ward N. 6                          3.729167\n",
       "Old Skull Fest                     3.724783\n",
       "old skull fest                     3.723636\n",
       "Name: global_weighted_rating_score, dtype: float64"
      ]
     },
     "execution_count": 34,
     "metadata": {},
     "output_type": "execute_result"
    }
   ],
   "source": [
    "#средние взвешенные общие оценки пиву в заведениях (не менее 20 чекинов в заведении)\n",
    "\n",
    "avg_venue_score = checkins_drop.groupby('venue_name')['global_weighted_rating_score']\n",
    "avg_venue_score.mean()[(avg_venue_score.size() >= 20)].sort_values(axis=0, ascending=False).head(25)"
   ]
  },
  {
   "cell_type": "code",
   "execution_count": 35,
   "id": "3a5c1e02",
   "metadata": {},
   "outputs": [
    {
     "data": {
      "image/png": "[encoded data removed]",
      "text/plain": [
       "<Figure size 720x432 with 1 Axes>"
      ]
     },
     "metadata": {
      "needs_background": "light"
     },
     "output_type": "display_data"
    }
   ],
   "source": [
    "#места, в которых пишу самые длинные комментарии (учитываются все чекины; количество чекинов на бар больше 15)\n",
    "\n",
    "checkins['comment_lenght'] = checkins['comment'].str.len()\n",
    "\n",
    "avg_venue_ch_len = checkins.groupby('venue_name')['comment_lenght']\n",
    "comment_hist = avg_venue_ch_len.mean()[(avg_venue_ch_len.size() >= 15)].sort_values(axis=0, ascending=False).head(10)\n",
    "\n",
    "comment_hist.plot(kind = 'barh', figsize=[10,6], color = 'green')\n",
    "plt.xlabel('Length of Comments')\n",
    "plt.ylabel('Venues')\n",
    "plt.text(x = -2, y= 10, s=\"Comment's length depending on the venue(Top 10)\", size = 16, weight='bold')\n",
    "plt.show()"
   ]
  },
  {
   "cell_type": "markdown",
   "id": "1ec60475",
   "metadata": {},
   "source": [
    "#### #Сколько мне ещё хочется зачекинить"
   ]
  },
  {
   "cell_type": "markdown",
   "id": "8f231c3f",
   "metadata": {},
   "source": [
    "Этот счётчик добавлен вне системы. При помощи него я вижу, сколько чекинов ещё хотел бы сделать.\n",
    "\n",
    "Последним и главным интересом для меня обладает желание попробовать не менее десяти сортов для каждого стиля. Желание граничит на границе искусственного и знакового. С одной стороны, это просто вымысел, последняя привязка для того, чтобы закончить с хобби \"набивания статистики на вредных привычках\", с другой - возможность увереннее себя чувствовать в спорах, обладая \"знанием\", ориентированным на кругозор. В общем-то, все интересы существуют только для того, чтобы кругозор был необъятен."
   ]
  },
  {
   "cell_type": "code",
   "execution_count": 36,
   "id": "bbf5208d",
   "metadata": {},
   "outputs": [
    {
     "name": "stdout",
     "output_type": "stream",
     "text": [
      "I need to check 512 beers\n"
     ]
    }
   ],
   "source": [
    "#сколько не хватает сортов для того, чтобы каждый стиль был попробован не менее 10 раз (quan = 2 отсутствующих стиля, умноженные на 10 проб)\n",
    "\n",
    "style_dict = checkins_drop['beer_type'].value_counts().to_dict()\n",
    "quan = 20\n",
    "\n",
    "for each in style_dict:\n",
    "    if style_dict[each] < 10:\n",
    "        d = 10 - style_dict[each]\n",
    "        quan += d\n",
    "\n",
    "print('I need to check ' + str(quan) + ' beers')"
   ]
  },
  {
   "cell_type": "markdown",
   "id": "634352da",
   "metadata": {},
   "source": [
    "#### #Гайд по временным промежуткам"
   ]
  },
  {
   "cell_type": "markdown",
   "id": "024ffcc9",
   "metadata": {},
   "source": [
    "Конечно же, как можно обойти стороной зависимость чекинов от времени! Эти закономерности - одни из самых востребованных в анализе любого процесса. \n",
    "\n",
    "Очень легко понять, где на графике пятница, а где отпуск. Если бы фестивали не проводились так часто и были бы строго по графику, заметили бы и их.\n",
    "\n",
    "Вычислим самые активные года, месяца, дни, а также посмотрим, есть ли среди графиков зарождение параболы. В этом блоке учитываются все чекины, с учётом дублирующихся."
   ]
  },
  {
   "cell_type": "code",
   "execution_count": 38,
   "id": "524e0a02",
   "metadata": {},
   "outputs": [
    {
     "data": {
      "image/png": "[encoded data removed]",
      "text/plain": [
       "<Figure size 864x432 with 1 Axes>"
      ]
     },
     "metadata": {},
     "output_type": "display_data"
    }
   ],
   "source": [
    "#количество чекинов за всё время, разбитое по месяцам\n",
    "\n",
    "checkins['check_month'] = checkins['created_at'].dt.month\n",
    "style.use('fivethirtyeight')\n",
    "checkins['check_month'].value_counts().sort_index().plot(kind='bar', figsize=[12,6], width=0.9, color = 'green', edgecolor='black', linewidth=1)\n",
    "plt.xlabel('Months')\n",
    "plt.ylabel('Amount of cheсkins')\n",
    "plt.xticks(rotation=360)\n",
    "plt.text(x = 2, y= 720, s=\"Number of checkins by month\", size = 20, weight='bold', color='red')\n",
    "plt.show()"
   ]
  },
  {
   "cell_type": "code",
   "execution_count": 39,
   "id": "d6cd8e7c",
   "metadata": {},
   "outputs": [
    {
     "data": {
      "text/plain": [
       "2020    1470\n",
       "2019    1397\n",
       "2021    1146\n",
       "2017     584\n",
       "2018     457\n",
       "2016     349\n",
       "2015      66\n",
       "Name: check_year, dtype: int64"
      ]
     },
     "execution_count": 39,
     "metadata": {},
     "output_type": "execute_result"
    }
   ],
   "source": [
    "#количество чекинов, разбитое по годам\n",
    "checkins['check_year'] = checkins['created_at'].dt.year\n",
    "checkins['check_year'].value_counts()"
   ]
  },
  {
   "cell_type": "code",
   "execution_count": 40,
   "id": "c8fa98e8",
   "metadata": {},
   "outputs": [
    {
     "data": {
      "image/png": "[encoded data removed]",
      "text/plain": [
       "<Figure size 864x504 with 1 Axes>"
      ]
     },
     "metadata": {},
     "output_type": "display_data"
    }
   ],
   "source": [
    "checkins['check_year'].value_counts().plot(kind='pie', figsize=[12,7], rotatelabels=True)\n",
    "\n",
    "plt.show()"
   ]
  },
  {
   "cell_type": "code",
   "execution_count": 41,
   "id": "8bcc27f5",
   "metadata": {},
   "outputs": [
    {
     "data": {
      "text/plain": [
       "6     137\n",
       "1     133\n",
       "4     120\n",
       "7     117\n",
       "2     112\n",
       "8     100\n",
       "11    100\n",
       "5      93\n",
       "12     75\n",
       "3      64\n",
       "10     61\n",
       "9      34\n",
       "Name: check_month, dtype: int64"
      ]
     },
     "execution_count": 41,
     "metadata": {},
     "output_type": "execute_result"
    }
   ],
   "source": [
    "#распределение чекинов по месяцам за 2021 год\n",
    "\n",
    "checkins[checkins['check_year'] == 2021]['check_month'].value_counts()"
   ]
  },
  {
   "cell_type": "code",
   "execution_count": 42,
   "id": "74da88e1",
   "metadata": {},
   "outputs": [
    {
     "data": {
      "text/plain": [
       "4    352\n",
       "5    241\n",
       "6    118\n",
       "0    117\n",
       "2    107\n",
       "1    106\n",
       "3    105\n",
       "Name: weekdays, dtype: int64"
      ]
     },
     "execution_count": 42,
     "metadata": {},
     "output_type": "execute_result"
    }
   ],
   "source": [
    "#распределение чекинов по дням за 2021 год\n",
    "\n",
    "checkins[checkins['check_year'] == 2021]['weekdays'].value_counts()"
   ]
  },
  {
   "cell_type": "code",
   "execution_count": 43,
   "id": "ebdde906",
   "metadata": {
    "scrolled": false
   },
   "outputs": [
    {
     "data": {
      "text/plain": [
       "<AxesSubplot:xlabel='weekdays', ylabel='rating_score'>"
      ]
     },
     "execution_count": 43,
     "metadata": {},
     "output_type": "execute_result"
    },
    {
     "data": {
      "image/png": "[encoded data removed]",
      "text/plain": [
       "<Figure size 792x504 with 1 Axes>"
      ]
     },
     "metadata": {},
     "output_type": "display_data"
    }
   ],
   "source": [
    "#оценки чекинов по дням за 2021 год\n",
    "\n",
    "plt.figure(figsize=(11, 7)), \n",
    "sns.stripplot(x='weekdays', y='rating_score',data=checkins, palette='rainbow')"
   ]
  },
  {
   "cell_type": "code",
   "execution_count": 44,
   "id": "ae00daff",
   "metadata": {},
   "outputs": [
    {
     "data": {
      "text/plain": [
       "<AxesSubplot:xlabel='check_year', ylabel='serving_type'>"
      ]
     },
     "execution_count": 44,
     "metadata": {},
     "output_type": "execute_result"
    },
    {
     "data": {
      "image/png": "[encoded data removed]",
      "text/plain": [
       "<Figure size 432x288 with 2 Axes>"
      ]
     },
     "metadata": {},
     "output_type": "display_data"
    }
   ],
   "source": [
    "#тепловая карта для разных типов потребления\n",
    "\n",
    "heatdata_serving = pd.pivot_table(checkins, values='beer_name', index='serving_type', columns='check_year', aggfunc='count')\n",
    "sns.heatmap(heatdata_serving)"
   ]
  },
  {
   "cell_type": "code",
   "execution_count": 45,
   "id": "7797790e",
   "metadata": {
    "scrolled": true
   },
   "outputs": [
    {
     "data": {
      "text/plain": [
       "<AxesSubplot:xlabel='check_month', ylabel='check_year'>"
      ]
     },
     "execution_count": 45,
     "metadata": {},
     "output_type": "execute_result"
    },
    {
     "data": {
      "image/png": "[encoded data removed]",
      "text/plain": [
       "<Figure size 432x288 with 2 Axes>"
      ]
     },
     "metadata": {},
     "output_type": "display_data"
    }
   ],
   "source": [
    "#тепловая карта для чекинов по годам и месяцам (отлично видны фестивали)\n",
    "\n",
    "heatdata_serving = pd.pivot_table(checkins, values='beer_name', index='check_year', columns='check_month', aggfunc='count')\n",
    "sns.heatmap(heatdata_serving, cmap='Greens')"
   ]
  },
  {
   "cell_type": "code",
   "execution_count": 46,
   "id": "63b6b42c",
   "metadata": {},
   "outputs": [
    {
     "data": {
      "text/html": [
       "<div>\n",
       "<style scoped>\n",
       "    .dataframe tbody tr th:only-of-type {\n",
       "        vertical-align: middle;\n",
       "    }\n",
       "\n",
       "    .dataframe tbody tr th {\n",
       "        vertical-align: top;\n",
       "    }\n",
       "\n",
       "    .dataframe thead th {\n",
       "        text-align: right;\n",
       "    }\n",
       "</style>\n",
       "<table border=\"1\" class=\"dataframe\">\n",
       "  <thead>\n",
       "    <tr style=\"text-align: right;\">\n",
       "      <th>check_hour</th>\n",
       "      <th>0</th>\n",
       "      <th>1</th>\n",
       "      <th>2</th>\n",
       "      <th>3</th>\n",
       "      <th>4</th>\n",
       "      <th>5</th>\n",
       "      <th>6</th>\n",
       "      <th>7</th>\n",
       "      <th>8</th>\n",
       "      <th>9</th>\n",
       "      <th>...</th>\n",
       "      <th>14</th>\n",
       "      <th>15</th>\n",
       "      <th>16</th>\n",
       "      <th>17</th>\n",
       "      <th>18</th>\n",
       "      <th>19</th>\n",
       "      <th>20</th>\n",
       "      <th>21</th>\n",
       "      <th>22</th>\n",
       "      <th>23</th>\n",
       "    </tr>\n",
       "    <tr>\n",
       "      <th>weekdays</th>\n",
       "      <th></th>\n",
       "      <th></th>\n",
       "      <th></th>\n",
       "      <th></th>\n",
       "      <th></th>\n",
       "      <th></th>\n",
       "      <th></th>\n",
       "      <th></th>\n",
       "      <th></th>\n",
       "      <th></th>\n",
       "      <th></th>\n",
       "      <th></th>\n",
       "      <th></th>\n",
       "      <th></th>\n",
       "      <th></th>\n",
       "      <th></th>\n",
       "      <th></th>\n",
       "      <th></th>\n",
       "      <th></th>\n",
       "      <th></th>\n",
       "      <th></th>\n",
       "    </tr>\n",
       "  </thead>\n",
       "  <tbody>\n",
       "    <tr>\n",
       "      <th>0</th>\n",
       "      <td>11.0</td>\n",
       "      <td>2.0</td>\n",
       "      <td>1.0</td>\n",
       "      <td>NaN</td>\n",
       "      <td>1.0</td>\n",
       "      <td>NaN</td>\n",
       "      <td>NaN</td>\n",
       "      <td>4.0</td>\n",
       "      <td>21.0</td>\n",
       "      <td>1.0</td>\n",
       "      <td>...</td>\n",
       "      <td>16.0</td>\n",
       "      <td>38.0</td>\n",
       "      <td>59.0</td>\n",
       "      <td>114.0</td>\n",
       "      <td>135.0</td>\n",
       "      <td>79.0</td>\n",
       "      <td>68.0</td>\n",
       "      <td>40.0</td>\n",
       "      <td>40.0</td>\n",
       "      <td>13.0</td>\n",
       "    </tr>\n",
       "    <tr>\n",
       "      <th>1</th>\n",
       "      <td>10.0</td>\n",
       "      <td>5.0</td>\n",
       "      <td>6.0</td>\n",
       "      <td>2.0</td>\n",
       "      <td>6.0</td>\n",
       "      <td>1.0</td>\n",
       "      <td>NaN</td>\n",
       "      <td>9.0</td>\n",
       "      <td>4.0</td>\n",
       "      <td>4.0</td>\n",
       "      <td>...</td>\n",
       "      <td>4.0</td>\n",
       "      <td>17.0</td>\n",
       "      <td>53.0</td>\n",
       "      <td>84.0</td>\n",
       "      <td>104.0</td>\n",
       "      <td>84.0</td>\n",
       "      <td>72.0</td>\n",
       "      <td>65.0</td>\n",
       "      <td>41.0</td>\n",
       "      <td>23.0</td>\n",
       "    </tr>\n",
       "    <tr>\n",
       "      <th>2</th>\n",
       "      <td>23.0</td>\n",
       "      <td>11.0</td>\n",
       "      <td>1.0</td>\n",
       "      <td>11.0</td>\n",
       "      <td>5.0</td>\n",
       "      <td>NaN</td>\n",
       "      <td>NaN</td>\n",
       "      <td>4.0</td>\n",
       "      <td>4.0</td>\n",
       "      <td>13.0</td>\n",
       "      <td>...</td>\n",
       "      <td>11.0</td>\n",
       "      <td>24.0</td>\n",
       "      <td>56.0</td>\n",
       "      <td>87.0</td>\n",
       "      <td>99.0</td>\n",
       "      <td>93.0</td>\n",
       "      <td>61.0</td>\n",
       "      <td>49.0</td>\n",
       "      <td>57.0</td>\n",
       "      <td>37.0</td>\n",
       "    </tr>\n",
       "    <tr>\n",
       "      <th>3</th>\n",
       "      <td>19.0</td>\n",
       "      <td>2.0</td>\n",
       "      <td>2.0</td>\n",
       "      <td>5.0</td>\n",
       "      <td>NaN</td>\n",
       "      <td>NaN</td>\n",
       "      <td>NaN</td>\n",
       "      <td>5.0</td>\n",
       "      <td>10.0</td>\n",
       "      <td>8.0</td>\n",
       "      <td>...</td>\n",
       "      <td>23.0</td>\n",
       "      <td>46.0</td>\n",
       "      <td>55.0</td>\n",
       "      <td>99.0</td>\n",
       "      <td>130.0</td>\n",
       "      <td>109.0</td>\n",
       "      <td>71.0</td>\n",
       "      <td>48.0</td>\n",
       "      <td>43.0</td>\n",
       "      <td>45.0</td>\n",
       "    </tr>\n",
       "    <tr>\n",
       "      <th>4</th>\n",
       "      <td>22.0</td>\n",
       "      <td>4.0</td>\n",
       "      <td>NaN</td>\n",
       "      <td>1.0</td>\n",
       "      <td>1.0</td>\n",
       "      <td>NaN</td>\n",
       "      <td>1.0</td>\n",
       "      <td>18.0</td>\n",
       "      <td>11.0</td>\n",
       "      <td>3.0</td>\n",
       "      <td>...</td>\n",
       "      <td>18.0</td>\n",
       "      <td>48.0</td>\n",
       "      <td>139.0</td>\n",
       "      <td>163.0</td>\n",
       "      <td>144.0</td>\n",
       "      <td>154.0</td>\n",
       "      <td>155.0</td>\n",
       "      <td>132.0</td>\n",
       "      <td>85.0</td>\n",
       "      <td>70.0</td>\n",
       "    </tr>\n",
       "    <tr>\n",
       "      <th>5</th>\n",
       "      <td>58.0</td>\n",
       "      <td>26.0</td>\n",
       "      <td>18.0</td>\n",
       "      <td>2.0</td>\n",
       "      <td>1.0</td>\n",
       "      <td>NaN</td>\n",
       "      <td>1.0</td>\n",
       "      <td>5.0</td>\n",
       "      <td>2.0</td>\n",
       "      <td>23.0</td>\n",
       "      <td>...</td>\n",
       "      <td>48.0</td>\n",
       "      <td>66.0</td>\n",
       "      <td>76.0</td>\n",
       "      <td>100.0</td>\n",
       "      <td>80.0</td>\n",
       "      <td>71.0</td>\n",
       "      <td>81.0</td>\n",
       "      <td>60.0</td>\n",
       "      <td>70.0</td>\n",
       "      <td>45.0</td>\n",
       "    </tr>\n",
       "    <tr>\n",
       "      <th>6</th>\n",
       "      <td>35.0</td>\n",
       "      <td>29.0</td>\n",
       "      <td>10.0</td>\n",
       "      <td>10.0</td>\n",
       "      <td>10.0</td>\n",
       "      <td>NaN</td>\n",
       "      <td>NaN</td>\n",
       "      <td>3.0</td>\n",
       "      <td>21.0</td>\n",
       "      <td>35.0</td>\n",
       "      <td>...</td>\n",
       "      <td>29.0</td>\n",
       "      <td>26.0</td>\n",
       "      <td>34.0</td>\n",
       "      <td>47.0</td>\n",
       "      <td>53.0</td>\n",
       "      <td>48.0</td>\n",
       "      <td>45.0</td>\n",
       "      <td>28.0</td>\n",
       "      <td>21.0</td>\n",
       "      <td>18.0</td>\n",
       "    </tr>\n",
       "  </tbody>\n",
       "</table>\n",
       "<p>7 rows × 24 columns</p>\n",
       "</div>"
      ],
      "text/plain": [
       "check_hour    0     1     2     3     4    5    6     7     8     9   ...  \\\n",
       "weekdays                                                              ...   \n",
       "0           11.0   2.0   1.0   NaN   1.0  NaN  NaN   4.0  21.0   1.0  ...   \n",
       "1           10.0   5.0   6.0   2.0   6.0  1.0  NaN   9.0   4.0   4.0  ...   \n",
       "2           23.0  11.0   1.0  11.0   5.0  NaN  NaN   4.0   4.0  13.0  ...   \n",
       "3           19.0   2.0   2.0   5.0   NaN  NaN  NaN   5.0  10.0   8.0  ...   \n",
       "4           22.0   4.0   NaN   1.0   1.0  NaN  1.0  18.0  11.0   3.0  ...   \n",
       "5           58.0  26.0  18.0   2.0   1.0  NaN  1.0   5.0   2.0  23.0  ...   \n",
       "6           35.0  29.0  10.0  10.0  10.0  NaN  NaN   3.0  21.0  35.0  ...   \n",
       "\n",
       "check_hour    14    15     16     17     18     19     20     21    22    23  \n",
       "weekdays                                                                      \n",
       "0           16.0  38.0   59.0  114.0  135.0   79.0   68.0   40.0  40.0  13.0  \n",
       "1            4.0  17.0   53.0   84.0  104.0   84.0   72.0   65.0  41.0  23.0  \n",
       "2           11.0  24.0   56.0   87.0   99.0   93.0   61.0   49.0  57.0  37.0  \n",
       "3           23.0  46.0   55.0   99.0  130.0  109.0   71.0   48.0  43.0  45.0  \n",
       "4           18.0  48.0  139.0  163.0  144.0  154.0  155.0  132.0  85.0  70.0  \n",
       "5           48.0  66.0   76.0  100.0   80.0   71.0   81.0   60.0  70.0  45.0  \n",
       "6           29.0  26.0   34.0   47.0   53.0   48.0   45.0   28.0  21.0  18.0  \n",
       "\n",
       "[7 rows x 24 columns]"
      ]
     },
     "execution_count": 46,
     "metadata": {},
     "output_type": "execute_result"
    }
   ],
   "source": [
    "#создаём сводную табличку количества чекинов по времени в зависимости от дня недели\n",
    "\n",
    "checkins['check_hour'] = checkins['created_at'].dt.hour\n",
    "ppop = pd.pivot_table(checkins, values='beer_name', index='weekdays', columns='check_hour', aggfunc='count')\n",
    "ppop"
   ]
  },
  {
   "cell_type": "code",
   "execution_count": 47,
   "id": "54b3b45e",
   "metadata": {},
   "outputs": [],
   "source": [
    "# импортируем код со stackoverflow.com (нужно в нём когда-нибудь разобраться)\n",
    "\n",
    "import matplotlib.cm as cm\n",
    "import matplotlib as mpl\n",
    "\n",
    "def pie_heatmap(table, cmap=cm.gnuplot, vmin=None, vmax=None,inner_r=0.25, pie_args={}):\n",
    "    n, m = table.shape\n",
    "    vmin= table.min().min() if vmin is None else vmin\n",
    "    vmax= table.max().max() if vmax is None else vmax\n",
    "\n",
    "    centre_circle = plt.Circle((0,0),inner_r,edgecolor='black',facecolor='white',fill=True,linewidth=0.25)\n",
    "    plt.gcf().gca().add_artist(centre_circle)\n",
    "    norm = mpl.colors.Normalize(vmin=vmin, vmax=vmax)\n",
    "    cmapper = cm.ScalarMappable(norm=norm, cmap=cmap)\n",
    "    for i, (row_name, row) in enumerate(table.iterrows()):\n",
    "        labels = None if i > 0 else table.columns\n",
    "        wedges = plt.pie([1] * m,radius=inner_r+float(n-i)/n, colors=[cmapper.to_rgba(x) for x in row.values], \n",
    "            labels=labels, startangle=90, counterclock=False, wedgeprops={'linewidth':-1}, **pie_args)\n",
    "        plt.setp(wedges[0], edgecolor='white',linewidth=1.5)\n",
    "        wedges = plt.pie([1], radius=inner_r+float(n-i-1)/n, colors=['w'], labels=[row_name], startangle=-90, wedgeprops={'linewidth':0})\n",
    "        plt.setp(wedges[0], edgecolor='white',linewidth=1.5)"
   ]
  },
  {
   "cell_type": "code",
   "execution_count": 48,
   "id": "5e4b6453",
   "metadata": {},
   "outputs": [
    {
     "data": {
      "image/png": "[encoded data removed]",
      "text/plain": [
       "<Figure size 576x576 with 1 Axes>"
      ]
     },
     "metadata": {},
     "output_type": "display_data"
    }
   ],
   "source": [
    "#строим тепловую карту в завимисости от времени потребления \n",
    "\n",
    "plt.figure(figsize=(8,8))\n",
    "pie_heatmap(ppop, vmin=-20,vmax=80,inner_r=0.2)\n",
    "\n",
    "plt.show()"
   ]
  },
  {
   "cell_type": "code",
   "execution_count": 49,
   "id": "75094607",
   "metadata": {
    "scrolled": true
   },
   "outputs": [
    {
     "name": "stdout",
     "output_type": "stream",
     "text": [
      "[957, 510, 263, 241, 289]\n"
     ]
    }
   ],
   "source": [
    "#сколько дней требовалось на каждую тысячу чекинов\n",
    "\n",
    "check = [0, 999, 1999, 2999, 3999, 4999]\n",
    "days = []\n",
    "for i in range(1,len(check)):\n",
    "    x = check[i] - check[i-1]\n",
    "    sum = checkins_drop.iloc[check[i]]['created_at'] - checkins_drop.iloc[check[i-1]]['created_at']\n",
    "    sum = sum.days\n",
    "    days.append(sum)\n",
    "\n",
    "print(days)"
   ]
  },
  {
   "cell_type": "code",
   "execution_count": 50,
   "id": "56c88a6f",
   "metadata": {
    "scrolled": true
   },
   "outputs": [
    {
     "data": {
      "image/png": "[encoded data removed]",
      "text/plain": [
       "<Figure size 504x288 with 1 Axes>"
      ]
     },
     "metadata": {},
     "output_type": "display_data"
    }
   ],
   "source": [
    "a = [\"Тысяча\", \"Две\", \"Три\", \"Четыре\", \"Пять\"]\n",
    "\n",
    "plt.figure(figsize=[7,4])\n",
    "plt.plot(a, days, color='green', linewidth = 5)\n",
    "style.use('fivethirtyeight')\n",
    "plt.xlabel(\"Количество тысяч чекинов\")\n",
    "plt.ylabel(\"Количество дней\")\n",
    "plt.text(x = 1.3, y= 1020, s=\"Дней на тысячу\", size = 22, weight='bold', color='red')\n",
    "plt.show()"
   ]
  },
  {
   "cell_type": "markdown",
   "id": "36010fc9",
   "metadata": {},
   "source": [
    "Исходя из вышерасположенных графиков заметно, что за последние три года количество попробованных сортов выросло примерно в два раза. \n",
    "Пик пришёлся на ***2020 год***, в котором количество чекинов стремительно пересекло отметки в 3000 и 4000 тысячи, где был проведён фестивально-отпускной ***август*** с более чем 200 чекинами за месяц. \n",
    "\n",
    "Кроме того, ***август*** является самым активным месяцем по количеству чекинов. Причины всё те же - период отпусков, долгих прогулок по городу, встреч и фестивалей."
   ]
  },
  {
   "cell_type": "markdown",
   "id": "d79b921a",
   "metadata": {},
   "source": [
    "#### #Немного о социализации"
   ]
  },
  {
   "cell_type": "markdown",
   "id": "e5613e00",
   "metadata": {},
   "source": [
    "Или о тех, без кого этой статистики бы не было. Друзья, с которыми чаще всего разделяются чекины. Люди, из-за которых зачастую их так много.\n",
    "\n",
    "Найдём только один показатель - количество вместе попробованного пива."
   ]
  },
  {
   "cell_type": "code",
   "execution_count": 51,
   "id": "24c8d09f",
   "metadata": {},
   "outputs": [
    {
     "data": {
      "text/plain": [
       "Jesse Gray                                                                                       185\n",
       "Petr M2FIVE                                                                                       94\n",
       "Дядя Вася                                                                                         57\n",
       "Jesse Gray,reijii Sakurai                                                                         52\n",
       "Viktor Shrek                                                                                      35\n",
       "                                                                                                ... \n",
       "July K,Petr M2FIVE,Eugene Acid                                                                     1\n",
       "SULYA,Darth Vader,Beer Addicts,Super Man,Eugene Acid,Aleksey Shitikov,Alexandr O'Lenin,Мухтар      1\n",
       "Jesse Gray,July K,Егор Ющенко                                                                      1\n",
       "Darth Vader,SULYA,Eugene Acid                                                                      1\n",
       "Jesse Gray,Nikita Zheleznov,Hans Jerkov,Violletta P,July K,Ksenia                                  1\n",
       "Name: tagged_friends, Length: 185, dtype: int64"
      ]
     },
     "execution_count": 51,
     "metadata": {},
     "output_type": "execute_result"
    }
   ],
   "source": [
    "#люди, с которыми я попробовал больше всего сортов\n",
    "\n",
    "notnull = checkins.copy()['tagged_friends'].dropna()\n",
    "notnull.value_counts(dropna=False)"
   ]
  },
  {
   "cell_type": "code",
   "execution_count": 52,
   "id": "65d9a09c",
   "metadata": {
    "scrolled": true
   },
   "outputs": [
    {
     "name": "stdout",
     "output_type": "stream",
     "text": [
      "{'Tatiana Karmanova': 4, 'Beer Addicts': 29, 'Darth Vader': 45, 'Eugene Acid': 61, 'Super Man': 5, 'SULYA': 46, 'July K': 95, 'Jesse Gray': 455, 'Дядя Вася': 73, 'Petr M2FIVE': 127, 'Aleksey Shitikov': 3, \"Alexandr O'Lenin\": 6, 'Мухтар': 2, 'Nof Nof': 2, 'Jeki Admiral  Foweq': 11, 'Anna R': 19, 'Dima Solntsev': 7, 'Nikita Zheleznov': 62, 'Violletta P': 70, 'Hans Jerkov': 10, 'Егор Ющенко': 48, 'Pavel Lebowski': 12, 'Daniil Korolkov': 2, 'Ksenia': 33, 'rOPbIHbI4': 27, 'Alexander Kolchin': 5, 'Golovin Pavel': 3, 'Erkki Ammalainen': 20, 'Вениамин Вкуснямба': 1, 'reijii Sakurai': 121, 'Andrey Andreev': 52, 'Viktor Shrek': 43, 'Roman K': 5, 'Marat Settarov': 3, 'Kirill Tychuk': 8, 'Evgeny Kataev': 35, 'Kirill Burgardt': 14, 'Daniel Pertsovsky': 4, 'White Dwarf': 13, 'Sergey Solovyev': 2, 'O Sh': 2, 'Tony White': 1, 'Max Dmitriev': 3, 'Niki Shmiki': 13, 'Jura Khil': 6, 'Любава Ефремова': 11, 'Kirill Polyak': 2, 'Aleksey Fadeenko': 1, 'Ivan Komarov': 3, 'Нина': 1, 'Karina Gorskova': 1, 'Viktor Sasunov': 1}\n"
     ]
    }
   ],
   "source": [
    "#оформляем всех друзей из чекинов в словарь, считаем количество уникальных значений\n",
    "\n",
    "friends = notnull.apply(lambda x: x.split(',')).to_dict()\n",
    "friends_count={}\n",
    "\n",
    "for k,item in friends.items():\n",
    "    for i in item:\n",
    "        if i in friends_count:\n",
    "            friends_count[i] += 1\n",
    "        else:\n",
    "            friends_count[i] = 1\n",
    "print(friends_count)"
   ]
  },
  {
   "cell_type": "code",
   "execution_count": 53,
   "id": "fa0c7f7f",
   "metadata": {
    "scrolled": true
   },
   "outputs": [
    {
     "name": "stdout",
     "output_type": "stream",
     "text": [
      "{'Eugene Acid': 61, 'July K': 95, 'Jesse Gray': 455, 'Дядя Вася': 73, 'Petr M2FIVE': 127, 'Nikita Zheleznov': 62, 'Violletta P': 70, 'reijii Sakurai': 121, 'Andrey Andreev': 52}\n"
     ]
    }
   ],
   "source": [
    "#выбираем друзей, с которыми количество совместных чекинов превышает 50\n",
    "\n",
    "friends_count_50 = {}\n",
    "\n",
    "for k,i in friends_count.items():\n",
    "    if i > 50:\n",
    "        friends_count_50[k] = i\n",
    "    \n",
    "print(friends_count_50)"
   ]
  },
  {
   "cell_type": "code",
   "execution_count": 54,
   "id": "95775fdc",
   "metadata": {},
   "outputs": [
    {
     "data": {
      "image/png": "[encoded data removed]",
      "text/plain": [
       "<Figure size 1080x576 with 1 Axes>"
      ]
     },
     "metadata": {},
     "output_type": "display_data"
    }
   ],
   "source": [
    "#строим график \"социализации\"\n",
    "\n",
    "plt.figure(figsize=[15,8])\n",
    "plt.bar(friends_count_50.keys(), friends_count_50.values(), width=0.5, color='green', edgecolor='black', linewidth=1)\n",
    "style.use('fivethirtyeight')\n",
    "plt.xlabel(\"Друзья\")\n",
    "plt.ylabel(\"Количество совместных чекинов\")\n",
    "plt.text(x = 1.5, y= 480, s=\"Социализация в Untappd\", size = 22, weight='bold', color='red')\n",
    "plt.show()"
   ]
  },
  {
   "cell_type": "markdown",
   "id": "bd795120",
   "metadata": {},
   "source": [
    "## 4.Заключение"
   ]
  },
  {
   "cell_type": "markdown",
   "id": "780c845d",
   "metadata": {},
   "source": [
    "Что можно вычленить из данного проекта?\n",
    "\n",
    "Если рассматривать его серьёзно и для \"потомков\", то ничего.\n",
    "Если смотреть на него \"невооружённым глазом\", то можно найти тренажёр, развлечение и попытку самоанализа. \n",
    "\n",
    "Можем ли мы оперировать имеющимися данными? Почему нет?\n",
    "\n",
    "Например, увидеть куда движется крафтовая индустрия на примере большого количества \"саур\" и \"смузи\" сортов. Или же посмотреть, как ведёт себя человек увлечённый, как его втягивает в себя социальная сеть и очередной пример \"маленького мира\" в мире большом. \n",
    "И вообще, как и чем может быть инетересна такая наука, как статистика, и как красиво выглядят числа.\n",
    "\n",
    "Особенно, когда их силуэт расплывается в отблеске пустого стекла."
   ]
  },
  {
   "cell_type": "markdown",
   "id": "e0d8fdb2",
   "metadata": {},
   "source": [
    "## 5. Проверка статистических гипотез (в процессе)"
   ]
  },
  {
   "cell_type": "markdown",
   "id": "b2faf373",
   "metadata": {},
   "source": [
    "В данном разделе проводится постепенная проверка собственных знаний и испытание действий по проверке статистических гипотез. На данный момент проведены: \n",
    "\n",
    "- ти-тест, в котором проверена гипотеза об однородности выставления оценок российским и американским сортам;\n",
    "- anova, в котором рассмотрено влияние производителя на выставление оценки сорту пива.\n",
    "\n",
    "Однако данные результаты являются лишь мгновенным применением имеющихся формул. В дальнейшем будет необходимо попробовать такие процессы, как проверка на нормальность, изменение объёма выборок, поправки Бонфирони и Тьюки, непараметрику для т-распределений."
   ]
  },
  {
   "cell_type": "code",
   "execution_count": 55,
   "id": "de14ec79",
   "metadata": {},
   "outputs": [],
   "source": [
    "#импорт\n",
    "\n",
    "from scipy.stats import ttest_ind\n",
    "from scipy.stats import f_oneway\n",
    "from scipy.stats import kruskal"
   ]
  },
  {
   "cell_type": "markdown",
   "id": "ec35385e",
   "metadata": {},
   "source": [
    "### Критерий Стьюдента"
   ]
  },
  {
   "cell_type": "markdown",
   "id": "a3f2bf4e",
   "metadata": {},
   "source": [
    "Различаются ли между собой средние выборок генеральной совокупности всех оценок чекинов, если они сделаны для пива из разных (с некоторых точек зрения - \"конкурирующих\") стран.\n",
    "\n",
    "H0 - средние значения для сортов из России и США не различаются;\n",
    "\n",
    "alpha - уровень значимости - 0.05"
   ]
  },
  {
   "cell_type": "code",
   "execution_count": 56,
   "id": "c03b366e",
   "metadata": {},
   "outputs": [
    {
     "data": {
      "text/plain": [
       "<function RandomState.seed>"
      ]
     },
     "execution_count": 56,
     "metadata": {},
     "output_type": "execute_result"
    }
   ],
   "source": [
    "#создаём выборки по 25 чекинов для российского и американского пива\n",
    "\n",
    "data_usa = checkins_drop_notnan[checkins_drop_notnan['brewery_country'] == 'United States'].sample(30)\n",
    "data_rus = checkins_drop_notnan[checkins_drop_notnan['brewery_country'] == 'Russia'].sample(30)\n",
    "np.random.seed"
   ]
  },
  {
   "cell_type": "code",
   "execution_count": 57,
   "id": "f609b972",
   "metadata": {
    "scrolled": false
   },
   "outputs": [
    {
     "data": {
      "text/plain": [
       "4.00    9\n",
       "4.25    5\n",
       "3.75    5\n",
       "3.50    3\n",
       "3.90    2\n",
       "3.25    1\n",
       "4.50    1\n",
       "2.75    1\n",
       "3.80    1\n",
       "4.30    1\n",
       "3.00    1\n",
       "Name: rating_score, dtype: int64"
      ]
     },
     "execution_count": 57,
     "metadata": {},
     "output_type": "execute_result"
    }
   ],
   "source": [
    "#проверяем значения, попавшие в выборки\n",
    "\n",
    "data_usa['rating_score'].value_counts(dropna=False)"
   ]
  },
  {
   "cell_type": "code",
   "execution_count": 58,
   "id": "3bec6510",
   "metadata": {},
   "outputs": [
    {
     "data": {
      "text/plain": [
       "3.70    6\n",
       "3.75    5\n",
       "4.00    5\n",
       "3.50    3\n",
       "3.80    3\n",
       "3.60    2\n",
       "2.50    1\n",
       "3.90    1\n",
       "3.00    1\n",
       "4.25    1\n",
       "3.40    1\n",
       "2.75    1\n",
       "Name: rating_score, dtype: int64"
      ]
     },
     "execution_count": 58,
     "metadata": {},
     "output_type": "execute_result"
    }
   ],
   "source": [
    "data_rus['rating_score'].value_counts(dropna=False)"
   ]
  },
  {
   "cell_type": "code",
   "execution_count": 59,
   "id": "30c5a4a2",
   "metadata": {},
   "outputs": [
    {
     "name": "stdout",
     "output_type": "stream",
     "text": [
      "Statistics=2.078, p=0.042\n"
     ]
    }
   ],
   "source": [
    "#используем scipy.stats для вывода значения статистики и уровня значимости\n",
    "\n",
    "stat, p = ttest_ind(data_usa['rating_score'], data_rus['rating_score'])\n",
    "print('Statistics=%.3f, p=%.3f' % (stat, p))"
   ]
  },
  {
   "cell_type": "code",
   "execution_count": 60,
   "id": "5aafdc1a",
   "metadata": {},
   "outputs": [
    {
     "name": "stdout",
     "output_type": "stream",
     "text": [
      "Распределения различаются (отклоняем H0)\n"
     ]
    }
   ],
   "source": [
    "#решаем, принять или отклонить нулевую гипотезу\n",
    "\n",
    "alpha = 0.05\n",
    "if p > alpha:\n",
    "\tprint('Распределения одинаковы (мы не можем отклонить H0)')\n",
    "else:\n",
    "\tprint('Распределения различаются (отклоняем H0)')"
   ]
  },
  {
   "cell_type": "markdown",
   "id": "64b3ed57",
   "metadata": {},
   "source": [
    "Для последующего анализа необходимо провести проверку на нормальность распределений."
   ]
  },
  {
   "cell_type": "markdown",
   "id": "8d82ef33",
   "metadata": {},
   "source": [
    "### Дисперсионный анализ "
   ]
  },
  {
   "cell_type": "markdown",
   "id": "eac388e1",
   "metadata": {},
   "source": [
    "Очередь для дисперсионного анализа. Для него сделаем выборки из чекинов, отсортированных по пивоварням. В анализе будут участовать пять наиболее известных российских крафтовых пивоварен. \n",
    "\n",
    "Задание: Используя анализ однофакторной модели, проверим гипотезу о влиянии производителя на оценку качества продукции.\n",
    "\n",
    "Н0 - средние каждой выборки не отличаются\n",
    "\n",
    "alpha - уровень значимости - 0.05"
   ]
  },
  {
   "cell_type": "code",
   "execution_count": 61,
   "id": "080a5987",
   "metadata": {},
   "outputs": [
    {
     "data": {
      "text/plain": [
       "<function RandomState.seed>"
      ]
     },
     "execution_count": 61,
     "metadata": {},
     "output_type": "execute_result"
    }
   ],
   "source": [
    "#создаём выборки оценок для различных пивоварен (по 30 чекинов) \n",
    "\n",
    "data_af = checkins_drop_notnan[checkins_drop_notnan['brewery_name'] == 'AF Brew'].sample(25)\n",
    "data_stamm = checkins_drop_notnan[checkins_drop_notnan['brewery_name'] == 'Stamm Brewing'].sample(25)\n",
    "data_zagovor = checkins_drop_notnan[checkins_drop_notnan['brewery_name'] == 'Zagovor Brewery'].sample(25)\n",
    "data_village = checkins_drop_notnan[checkins_drop_notnan['brewery_name'] == 'Big Village Brewery'].sample(25)\n",
    "data_dieta = checkins_drop_notnan[checkins_drop_notnan['brewery_name'] == 'DIETA / ДИЕТА'].sample(25)\n",
    "np.random.seed"
   ]
  },
  {
   "cell_type": "code",
   "execution_count": 62,
   "id": "c979ee88",
   "metadata": {},
   "outputs": [
    {
     "name": "stdout",
     "output_type": "stream",
     "text": [
      "Statistics=1.549, p=0.193\n"
     ]
    }
   ],
   "source": [
    "#считаем статистику и p_value\n",
    "\n",
    "stats, p2 = f_oneway(data_af['global_weighted_rating_score'], data_stamm['global_weighted_rating_score'], data_zagovor['global_weighted_rating_score'], data_village['global_weighted_rating_score'], data_dieta['global_weighted_rating_score'])\n",
    "print('Statistics=%.3f, p=%.3f' % (stats, p2))"
   ]
  },
  {
   "cell_type": "code",
   "execution_count": 63,
   "id": "459f30b7",
   "metadata": {},
   "outputs": [
    {
     "name": "stdout",
     "output_type": "stream",
     "text": [
      "Распределения одинаковы (мы не можем отклонить H0)\n"
     ]
    }
   ],
   "source": [
    "#решаем, принять или отклонить нулевую гипотезу\n",
    "\n",
    "alpha = 0.05\n",
    "if p2 > alpha:\n",
    "\tprint('Распределения одинаковы (мы не можем отклонить H0)')\n",
    "else:\n",
    "\tprint('Распределения различаются (отклоняем H0)')"
   ]
  },
  {
   "cell_type": "markdown",
   "id": "79579923",
   "metadata": {},
   "source": [
    "Проверяем те же выборки при помощи непараметрического подхода - Критерия Краскелла-Уоллеса"
   ]
  },
  {
   "cell_type": "code",
   "execution_count": 64,
   "id": "e9b0e817",
   "metadata": {},
   "outputs": [
    {
     "name": "stdout",
     "output_type": "stream",
     "text": [
      "Statistics=6.164, p=0.187\n"
     ]
    }
   ],
   "source": [
    "stat, p = kruskal(data_af['global_weighted_rating_score'], data_stamm['global_weighted_rating_score'], data_zagovor['global_weighted_rating_score'], data_village['global_weighted_rating_score'], data_dieta['global_weighted_rating_score'])\n",
    "print('Statistics=%.3f, p=%.3f' % (stat, p))"
   ]
  },
  {
   "cell_type": "code",
   "execution_count": 65,
   "id": "002e19b1",
   "metadata": {},
   "outputs": [
    {
     "name": "stdout",
     "output_type": "stream",
     "text": [
      "Распределения одинаковы (мы не можем отклонить H0)\n"
     ]
    }
   ],
   "source": [
    "#решаем, принять или отклонить нулевую гипотезу\n",
    "\n",
    "alpha = 0.05\n",
    "if p > alpha:\n",
    "\tprint('Распределения одинаковы (мы не можем отклонить H0)')\n",
    "else:\n",
    "\tprint('Распределения различаются (отклоняем H0)')"
   ]
  },
  {
   "cell_type": "markdown",
   "id": "f3e3fc44",
   "metadata": {},
   "source": [
    "Результаты однофакторного ANOVA и критерия Краскелла-Уоллеса совпадают.\n",
    "\n",
    "Однако достоверность эксперимента следует проверить на разных количествах оценок, попадающих в выборку, а также на различных выборках. Также следует использовать такие инструменты, как поправка Бонфирони или критерий Тьюки."
   ]
  },
  {
   "cell_type": "markdown",
   "id": "7f175093",
   "metadata": {},
   "source": [
    "### Корреляция и линейная регрессия"
   ]
  },
  {
   "cell_type": "code",
   "execution_count": 66,
   "id": "dbd3b336",
   "metadata": {},
   "outputs": [
    {
     "data": {
      "text/plain": [
       "0.6153916703980722"
      ]
     },
     "execution_count": 66,
     "metadata": {},
     "output_type": "execute_result"
    }
   ],
   "source": [
    "#проверяем наличие корреляции между двумя величинами - собственной оценкой сортов и оценкой сообщества\n",
    "\n",
    "checkins_drop_notnan['rating_score'].corr(checkins_drop_notnan['global_weighted_rating_score'])"
   ]
  },
  {
   "cell_type": "markdown",
   "id": "209a8432",
   "metadata": {},
   "source": [
    "#      Продолжение следует..."
   ]
  }
 ],
 "metadata": {
  "kernelspec": {
   "display_name": "Python 3",
   "language": "python",
   "name": "python3"
  },
  "language_info": {
   "codemirror_mode": {
    "name": "ipython",
    "version": 3
   },
   "file_extension": ".py",
   "mimetype": "text/x-python",
   "name": "python",
   "nbconvert_exporter": "python",
   "pygments_lexer": "ipython3",
   "version": "3.8.8"
  }
 },
 "nbformat": 4,
 "nbformat_minor": 5
}
