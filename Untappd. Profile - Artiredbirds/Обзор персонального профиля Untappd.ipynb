{
 "cells": [
  {
   "cell_type": "markdown",
   "id": "bad0c0d5",
   "metadata": {},
   "source": [
    "# Анализ и проверка гипотез по данным личного аккаунта сети Untappd"
   ]
  },
  {
   "cell_type": "markdown",
   "id": "236c4933",
   "metadata": {},
   "source": [
    "Данный проект изначально был предназначен для тренировки и отработки навыков работы с python, pandas, jupyter notebook и со всеми теми знаниями, что я получал в процессе учёбы. К тому же было достаточно интересно, даже с обыкновенной описательной точки зрения, получить сводку цифр, связанных с собой, и постараться найти причины их локальных состояний.\n",
    "\n",
    "Впоследствии появилась идея о том, что и этот \"блокнот\" может войти в моё портфолио. К тому же я продолжаю им пользоваться, обновляя данные, поэтому решение привести его в надлежащий вид я нахожу правильным."
   ]
  },
  {
   "cell_type": "markdown",
   "id": "428124e5",
   "metadata": {},
   "source": [
    "### 18+"
   ]
  },
  {
   "cell_type": "markdown",
   "id": "52d1e66a",
   "metadata": {},
   "source": [
    "Немного информации. Untappd - социальная сеть для биргиков. Биргики - слово, легко разбивающееся на два безо всяких специально написанных функций. С развитием пивного бизнеса, его брендированием под \"ремесло\", его упрощением, приобретением навыков низкоалкогольного напитка, доступного, трендового и чуть менее вредного для молодёжи, \"тапок\", как его ласково называют путешественники по барам, оказался как нельзя кстати. Он помогает: напиткам - продаваться, барам - развиваться, людям - коммуницировать, моде - быть самой собой. \n",
    "\n",
    "Минздрав, конечно, будет против, но этот прожект останется без критического взгляда.\n",
    "\n",
    "Потому что для моего интереса к статистическим сводкам, начавшегося с увлечения спортом, \"тапок\" оказался элементом игры в чекины. Иначе говоря, \"набиванием статы\". \n",
    "\n",
    "Так приятно смотреть на таблички."
   ]
  },
  {
   "cell_type": "markdown",
   "id": "be4d3113",
   "metadata": {},
   "source": [
    "Untappd содержит карточки пива и пивоварен, а также имеет профайлы баров и пользователей. С помощью него можно обнаружить пиво, прочитать его характеристики или же узнать, где оно продаётся. Но самое главное - его можно оценить.\n",
    "Внесение оценки состоит из привычных действий: комментарии, фотографии, отметка места, оценки, тегированный вкусовой профиль, друзья, которые пробовали очередной сорт вместе с тобой, лайки, именуемые тостами.\n",
    "В общем, ничего сложного в функционировании приложения нет.\n",
    "\n",
    "Зато сколько после него статистики! \n",
    "\n",
    "Основная статистика доступна в приложении. Всегда можно посмотреть сводную таблицу по стилям или странам, например. Можно платить за небольшую месячную подписку, с которой получать чуть больший функционал, в том числе и аккуратные временные графики. \n",
    "\n",
    "А можно и сделать запрос на всю-всю-всю сборку твоих действий. Он-то и будет нашим датасетом."
   ]
  },
  {
   "cell_type": "markdown",
   "id": "25dc03eb",
   "metadata": {},
   "source": [
    "#### Задачи и направления"
   ]
  },
  {
   "cell_type": "markdown",
   "id": "85f102ce",
   "metadata": {},
   "source": [
    "В данном прожекте основой будет описательная статистика, за которой я продолжаю наблюдать и которая может неким образом охарактеризовать меня. Это и можно назвать целью.\n",
    "\n",
    "Также будут построены графики для наглядности и тренировки с их функционалом. Кроме того, в прожекте блок будет отдан на откуп попытки проверки статистических гипотез.\n",
    "\n",
    "Получится или нет? Очень скоро узнаем.\n",
    "\n",
    "А теперь к делу!"
   ]
  },
  {
   "cell_type": "code",
   "execution_count": 1,
   "id": "e6ccd441",
   "metadata": {},
   "outputs": [],
   "source": [
    "#import\n",
    "\n",
    "import pandas as pd\n",
    "import numpy as np\n",
    "import seaborn as sns\n",
    "import matplotlib.pyplot as plt\n",
    "import matplotlib.style as style\n",
    "from scipy import stats\n",
    "%matplotlib inline"
   ]
  },
  {
   "cell_type": "code",
   "execution_count": 2,
   "id": "1b116f05",
   "metadata": {},
   "outputs": [],
   "source": [
    "#open dataset\n",
    "\n",
    "checkins = pd.read_csv('beer_march_first.csv')"
   ]
  },
  {
   "cell_type": "markdown",
   "id": "0df7adc0",
   "metadata": {},
   "source": [
    "## 1. Обзор датасета."
   ]
  },
  {
   "cell_type": "markdown",
   "id": "90cfdf19",
   "metadata": {},
   "source": [
    "\"Откроем\" датасет, посмотрим на данные, которые в нём хранятся, посмотрим на его форму и выведем первые/последние записи."
   ]
  },
  {
   "cell_type": "code",
   "execution_count": 3,
   "id": "6b5b70c9",
   "metadata": {},
   "outputs": [
    {
     "name": "stdout",
     "output_type": "stream",
     "text": [
      "<class 'pandas.core.frame.DataFrame'>\n",
      "RangeIndex: 5664 entries, 0 to 5663\n",
      "Data columns (total 32 columns):\n",
      " #   Column                        Non-Null Count  Dtype  \n",
      "---  ------                        --------------  -----  \n",
      " 0   beer_name                     5664 non-null   object \n",
      " 1   brewery_name                  5664 non-null   object \n",
      " 2   beer_type                     5664 non-null   object \n",
      " 3   beer_abv                      5664 non-null   float64\n",
      " 4   beer_ibu                      5664 non-null   int64  \n",
      " 5   comment                       5556 non-null   object \n",
      " 6   venue_name                    5418 non-null   object \n",
      " 7   venue_city                    4913 non-null   object \n",
      " 8   venue_state                   5350 non-null   object \n",
      " 9   venue_country                 5418 non-null   object \n",
      " 10  venue_lat                     5418 non-null   float64\n",
      " 11  venue_lng                     5418 non-null   float64\n",
      " 12  rating_score                  5616 non-null   float64\n",
      " 13  created_at                    5664 non-null   object \n",
      " 14  checkin_url                   5664 non-null   object \n",
      " 15  beer_url                      5664 non-null   object \n",
      " 16  brewery_url                   5664 non-null   object \n",
      " 17  brewery_country               5664 non-null   object \n",
      " 18  brewery_city                  5591 non-null   object \n",
      " 19  brewery_state                 5548 non-null   object \n",
      " 20  flavor_profiles               8 non-null      object \n",
      " 21  purchase_venue                430 non-null    object \n",
      " 22  serving_type                  4965 non-null   object \n",
      " 23  checkin_id                    5664 non-null   int64  \n",
      " 24  bid                           5664 non-null   int64  \n",
      " 25  brewery_id                    5664 non-null   int64  \n",
      " 26  photo_url                     3385 non-null   object \n",
      " 27  global_rating_score           5664 non-null   float64\n",
      " 28  global_weighted_rating_score  5664 non-null   float64\n",
      " 29  tagged_friends                929 non-null    object \n",
      " 30  total_toasts                  5664 non-null   int64  \n",
      " 31  total_comments                5664 non-null   int64  \n",
      "dtypes: float64(6), int64(6), object(20)\n",
      "memory usage: 1.4+ MB\n"
     ]
    }
   ],
   "source": [
    "checkins.info()"
   ]
  },
  {
   "cell_type": "code",
   "execution_count": 4,
   "id": "327acb47",
   "metadata": {},
   "outputs": [
    {
     "data": {
      "text/plain": [
       "(5664, 32)"
      ]
     },
     "execution_count": 4,
     "metadata": {},
     "output_type": "execute_result"
    }
   ],
   "source": [
    "#многовато сортов даже за семь лет\n",
    "\n",
    "checkins.shape"
   ]
  },
  {
   "cell_type": "code",
   "execution_count": 5,
   "id": "e950e50a",
   "metadata": {},
   "outputs": [
    {
     "data": {
      "text/html": [
       "<div>\n",
       "<style scoped>\n",
       "    .dataframe tbody tr th:only-of-type {\n",
       "        vertical-align: middle;\n",
       "    }\n",
       "\n",
       "    .dataframe tbody tr th {\n",
       "        vertical-align: top;\n",
       "    }\n",
       "\n",
       "    .dataframe thead th {\n",
       "        text-align: right;\n",
       "    }\n",
       "</style>\n",
       "<table border=\"1\" class=\"dataframe\">\n",
       "  <thead>\n",
       "    <tr style=\"text-align: right;\">\n",
       "      <th></th>\n",
       "      <th>beer_name</th>\n",
       "      <th>brewery_name</th>\n",
       "      <th>beer_type</th>\n",
       "      <th>beer_abv</th>\n",
       "      <th>beer_ibu</th>\n",
       "      <th>comment</th>\n",
       "      <th>venue_name</th>\n",
       "      <th>venue_city</th>\n",
       "      <th>venue_state</th>\n",
       "      <th>venue_country</th>\n",
       "      <th>...</th>\n",
       "      <th>serving_type</th>\n",
       "      <th>checkin_id</th>\n",
       "      <th>bid</th>\n",
       "      <th>brewery_id</th>\n",
       "      <th>photo_url</th>\n",
       "      <th>global_rating_score</th>\n",
       "      <th>global_weighted_rating_score</th>\n",
       "      <th>tagged_friends</th>\n",
       "      <th>total_toasts</th>\n",
       "      <th>total_comments</th>\n",
       "    </tr>\n",
       "  </thead>\n",
       "  <tbody>\n",
       "    <tr>\n",
       "      <th>0</th>\n",
       "      <td>Hentai</td>\n",
       "      <td>AF Brew</td>\n",
       "      <td>IPA - American</td>\n",
       "      <td>5.9</td>\n",
       "      <td>50</td>\n",
       "      <td>NaN</td>\n",
       "      <td>Uchitelskaya Street (Учительская улица)</td>\n",
       "      <td>Санкт-Петербург</td>\n",
       "      <td>Санкт-Петербург</td>\n",
       "      <td>Россия</td>\n",
       "      <td>...</td>\n",
       "      <td>Bottle</td>\n",
       "      <td>194363403</td>\n",
       "      <td>678907</td>\n",
       "      <td>38368</td>\n",
       "      <td>NaN</td>\n",
       "      <td>3.72</td>\n",
       "      <td>3.72</td>\n",
       "      <td>NaN</td>\n",
       "      <td>0</td>\n",
       "      <td>0</td>\n",
       "    </tr>\n",
       "    <tr>\n",
       "      <th>1</th>\n",
       "      <td>HopHead Double IPA</td>\n",
       "      <td>AF Brew</td>\n",
       "      <td>IPA - Imperial / Double</td>\n",
       "      <td>8.5</td>\n",
       "      <td>140</td>\n",
       "      <td>NaN</td>\n",
       "      <td>NaN</td>\n",
       "      <td>NaN</td>\n",
       "      <td>NaN</td>\n",
       "      <td>NaN</td>\n",
       "      <td>...</td>\n",
       "      <td>NaN</td>\n",
       "      <td>194363542</td>\n",
       "      <td>836456</td>\n",
       "      <td>38368</td>\n",
       "      <td>NaN</td>\n",
       "      <td>4.22</td>\n",
       "      <td>3.96</td>\n",
       "      <td>NaN</td>\n",
       "      <td>0</td>\n",
       "      <td>0</td>\n",
       "    </tr>\n",
       "    <tr>\n",
       "      <th>2</th>\n",
       "      <td>Chimay Grande Réserve (Blue)</td>\n",
       "      <td>Bières de Chimay</td>\n",
       "      <td>Belgian Strong Dark Ale</td>\n",
       "      <td>9.0</td>\n",
       "      <td>35</td>\n",
       "      <td>NaN</td>\n",
       "      <td>NaN</td>\n",
       "      <td>NaN</td>\n",
       "      <td>NaN</td>\n",
       "      <td>NaN</td>\n",
       "      <td>...</td>\n",
       "      <td>NaN</td>\n",
       "      <td>194363634</td>\n",
       "      <td>34039</td>\n",
       "      <td>378</td>\n",
       "      <td>NaN</td>\n",
       "      <td>3.92</td>\n",
       "      <td>3.92</td>\n",
       "      <td>NaN</td>\n",
       "      <td>1</td>\n",
       "      <td>0</td>\n",
       "    </tr>\n",
       "    <tr>\n",
       "      <th>3</th>\n",
       "      <td>Chocolate Stout</td>\n",
       "      <td>Knightberg</td>\n",
       "      <td>Stout - Other</td>\n",
       "      <td>5.0</td>\n",
       "      <td>17</td>\n",
       "      <td>NaN</td>\n",
       "      <td>NaN</td>\n",
       "      <td>NaN</td>\n",
       "      <td>NaN</td>\n",
       "      <td>NaN</td>\n",
       "      <td>...</td>\n",
       "      <td>NaN</td>\n",
       "      <td>194363695</td>\n",
       "      <td>1105285</td>\n",
       "      <td>12920</td>\n",
       "      <td>NaN</td>\n",
       "      <td>3.77</td>\n",
       "      <td>3.76</td>\n",
       "      <td>NaN</td>\n",
       "      <td>0</td>\n",
       "      <td>0</td>\n",
       "    </tr>\n",
       "    <tr>\n",
       "      <th>4</th>\n",
       "      <td>Urizen</td>\n",
       "      <td>Victory Art Brew</td>\n",
       "      <td>Belgian Tripel</td>\n",
       "      <td>10.5</td>\n",
       "      <td>28</td>\n",
       "      <td>NaN</td>\n",
       "      <td>Uchitelskaya Street (Учительская улица)</td>\n",
       "      <td>Санкт-Петербург</td>\n",
       "      <td>Санкт-Петербург</td>\n",
       "      <td>Россия</td>\n",
       "      <td>...</td>\n",
       "      <td>Bottle</td>\n",
       "      <td>194363744</td>\n",
       "      <td>983516</td>\n",
       "      <td>82343</td>\n",
       "      <td>NaN</td>\n",
       "      <td>3.99</td>\n",
       "      <td>3.85</td>\n",
       "      <td>NaN</td>\n",
       "      <td>1</td>\n",
       "      <td>0</td>\n",
       "    </tr>\n",
       "  </tbody>\n",
       "</table>\n",
       "<p>5 rows × 32 columns</p>\n",
       "</div>"
      ],
      "text/plain": [
       "                      beer_name      brewery_name                beer_type  \\\n",
       "0                        Hentai           AF Brew           IPA - American   \n",
       "1            HopHead Double IPA           AF Brew  IPA - Imperial / Double   \n",
       "2  Chimay Grande Réserve (Blue)  Bières de Chimay  Belgian Strong Dark Ale   \n",
       "3               Chocolate Stout        Knightberg            Stout - Other   \n",
       "4                        Urizen  Victory Art Brew           Belgian Tripel   \n",
       "\n",
       "   beer_abv  beer_ibu comment                               venue_name  \\\n",
       "0       5.9        50     NaN  Uchitelskaya Street (Учительская улица)   \n",
       "1       8.5       140     NaN                                      NaN   \n",
       "2       9.0        35     NaN                                      NaN   \n",
       "3       5.0        17     NaN                                      NaN   \n",
       "4      10.5        28     NaN  Uchitelskaya Street (Учительская улица)   \n",
       "\n",
       "        venue_city      venue_state venue_country  ...  serving_type  \\\n",
       "0  Санкт-Петербург  Санкт-Петербург        Россия  ...        Bottle   \n",
       "1              NaN              NaN           NaN  ...           NaN   \n",
       "2              NaN              NaN           NaN  ...           NaN   \n",
       "3              NaN              NaN           NaN  ...           NaN   \n",
       "4  Санкт-Петербург  Санкт-Петербург        Россия  ...        Bottle   \n",
       "\n",
       "   checkin_id      bid brewery_id photo_url global_rating_score  \\\n",
       "0   194363403   678907      38368       NaN                3.72   \n",
       "1   194363542   836456      38368       NaN                4.22   \n",
       "2   194363634    34039        378       NaN                3.92   \n",
       "3   194363695  1105285      12920       NaN                3.77   \n",
       "4   194363744   983516      82343       NaN                3.99   \n",
       "\n",
       "  global_weighted_rating_score tagged_friends total_toasts total_comments  \n",
       "0                         3.72            NaN            0              0  \n",
       "1                         3.96            NaN            0              0  \n",
       "2                         3.92            NaN            1              0  \n",
       "3                         3.76            NaN            0              0  \n",
       "4                         3.85            NaN            1              0  \n",
       "\n",
       "[5 rows x 32 columns]"
      ]
     },
     "execution_count": 5,
     "metadata": {},
     "output_type": "execute_result"
    }
   ],
   "source": [
    "checkins.head()"
   ]
  },
  {
   "cell_type": "code",
   "execution_count": 6,
   "id": "5dd960ee",
   "metadata": {
    "scrolled": false
   },
   "outputs": [
    {
     "data": {
      "text/html": [
       "<div>\n",
       "<style scoped>\n",
       "    .dataframe tbody tr th:only-of-type {\n",
       "        vertical-align: middle;\n",
       "    }\n",
       "\n",
       "    .dataframe tbody tr th {\n",
       "        vertical-align: top;\n",
       "    }\n",
       "\n",
       "    .dataframe thead th {\n",
       "        text-align: right;\n",
       "    }\n",
       "</style>\n",
       "<table border=\"1\" class=\"dataframe\">\n",
       "  <thead>\n",
       "    <tr style=\"text-align: right;\">\n",
       "      <th></th>\n",
       "      <th>beer_name</th>\n",
       "      <th>brewery_name</th>\n",
       "      <th>beer_type</th>\n",
       "      <th>beer_abv</th>\n",
       "      <th>beer_ibu</th>\n",
       "      <th>comment</th>\n",
       "      <th>venue_name</th>\n",
       "      <th>venue_city</th>\n",
       "      <th>venue_state</th>\n",
       "      <th>venue_country</th>\n",
       "      <th>...</th>\n",
       "      <th>serving_type</th>\n",
       "      <th>checkin_id</th>\n",
       "      <th>bid</th>\n",
       "      <th>brewery_id</th>\n",
       "      <th>photo_url</th>\n",
       "      <th>global_rating_score</th>\n",
       "      <th>global_weighted_rating_score</th>\n",
       "      <th>tagged_friends</th>\n",
       "      <th>total_toasts</th>\n",
       "      <th>total_comments</th>\n",
       "    </tr>\n",
       "  </thead>\n",
       "  <tbody>\n",
       "    <tr>\n",
       "      <th>5659</th>\n",
       "      <td>Wild Graff</td>\n",
       "      <td>Salden's Brewery</td>\n",
       "      <td>Cider - Graff</td>\n",
       "      <td>6.5</td>\n",
       "      <td>0</td>\n",
       "      <td>Называйте как хотите, тити, давайте говорить п...</td>\n",
       "      <td>Salden’s</td>\n",
       "      <td>Санкт-Петербург</td>\n",
       "      <td>Санкт-Петербург</td>\n",
       "      <td>Россия</td>\n",
       "      <td>...</td>\n",
       "      <td>Draft</td>\n",
       "      <td>1136841749</td>\n",
       "      <td>4486510</td>\n",
       "      <td>95242</td>\n",
       "      <td>https://untappd.s3.amazonaws.com/photos/2022_0...</td>\n",
       "      <td>3.85</td>\n",
       "      <td>3.72</td>\n",
       "      <td>NaN</td>\n",
       "      <td>5</td>\n",
       "      <td>0</td>\n",
       "    </tr>\n",
       "    <tr>\n",
       "      <th>5660</th>\n",
       "      <td>Hop Headshot: Simcoe</td>\n",
       "      <td>Midnight Project</td>\n",
       "      <td>IPA - Triple</td>\n",
       "      <td>11.0</td>\n",
       "      <td>111</td>\n",
       "      <td>Все экстремисты, кто в тапке, отзовись!</td>\n",
       "      <td>Paragraph</td>\n",
       "      <td>Sankt-Peterburg</td>\n",
       "      <td>Санкт-Петербург</td>\n",
       "      <td>Россия</td>\n",
       "      <td>...</td>\n",
       "      <td>Draft</td>\n",
       "      <td>1136858960</td>\n",
       "      <td>3883890</td>\n",
       "      <td>329172</td>\n",
       "      <td>https://untappd.s3.amazonaws.com/photos/2022_0...</td>\n",
       "      <td>4.31</td>\n",
       "      <td>4.11</td>\n",
       "      <td>NaN</td>\n",
       "      <td>7</td>\n",
       "      <td>0</td>\n",
       "    </tr>\n",
       "    <tr>\n",
       "      <th>5661</th>\n",
       "      <td>KANPAI</td>\n",
       "      <td>Red Button Brewery</td>\n",
       "      <td>Koji / Ginjo Beer</td>\n",
       "      <td>7.0</td>\n",
       "      <td>0</td>\n",
       "      <td>Больше вкусов, меньше хуйла!</td>\n",
       "      <td>Paragraph</td>\n",
       "      <td>Sankt-Peterburg</td>\n",
       "      <td>Санкт-Петербург</td>\n",
       "      <td>Россия</td>\n",
       "      <td>...</td>\n",
       "      <td>Can</td>\n",
       "      <td>1136863654</td>\n",
       "      <td>4737289</td>\n",
       "      <td>241689</td>\n",
       "      <td>https://untappd.s3.amazonaws.com/photos/2022_0...</td>\n",
       "      <td>3.86</td>\n",
       "      <td>3.73</td>\n",
       "      <td>NaN</td>\n",
       "      <td>5</td>\n",
       "      <td>0</td>\n",
       "    </tr>\n",
       "    <tr>\n",
       "      <th>5662</th>\n",
       "      <td>Paca-Vaca (パカ-ヴァカ)</td>\n",
       "      <td>Cosmic City</td>\n",
       "      <td>Koji / Ginjo Beer</td>\n",
       "      <td>12.0</td>\n",
       "      <td>0</td>\n",
       "      <td>Тогда что такое напиток от батонов и что кто в...</td>\n",
       "      <td>Spontan</td>\n",
       "      <td>СПБ</td>\n",
       "      <td>Санкт-Петербург</td>\n",
       "      <td>Россия</td>\n",
       "      <td>...</td>\n",
       "      <td>Draft</td>\n",
       "      <td>1136893234</td>\n",
       "      <td>4735121</td>\n",
       "      <td>89993</td>\n",
       "      <td>https://untappd.s3.amazonaws.com/photos/2022_0...</td>\n",
       "      <td>3.92</td>\n",
       "      <td>3.74</td>\n",
       "      <td>NaN</td>\n",
       "      <td>7</td>\n",
       "      <td>1</td>\n",
       "    </tr>\n",
       "    <tr>\n",
       "      <th>5663</th>\n",
       "      <td>Señor Cybies Cherries And Berries</td>\n",
       "      <td>Crooked Stave Artisan Beer Project</td>\n",
       "      <td>Sour - Fruited</td>\n",
       "      <td>8.4</td>\n",
       "      <td>45</td>\n",
       "      <td>Вот это можно подвести под параграф \"заебись\"</td>\n",
       "      <td>Spontan</td>\n",
       "      <td>СПБ</td>\n",
       "      <td>Санкт-Петербург</td>\n",
       "      <td>Россия</td>\n",
       "      <td>...</td>\n",
       "      <td>Draft</td>\n",
       "      <td>1136933801</td>\n",
       "      <td>3792931</td>\n",
       "      <td>10568</td>\n",
       "      <td>https://untappd.s3.amazonaws.com/photos/2022_0...</td>\n",
       "      <td>4.02</td>\n",
       "      <td>3.97</td>\n",
       "      <td>NaN</td>\n",
       "      <td>9</td>\n",
       "      <td>0</td>\n",
       "    </tr>\n",
       "  </tbody>\n",
       "</table>\n",
       "<p>5 rows × 32 columns</p>\n",
       "</div>"
      ],
      "text/plain": [
       "                              beer_name                        brewery_name  \\\n",
       "5659                         Wild Graff                    Salden's Brewery   \n",
       "5660               Hop Headshot: Simcoe                    Midnight Project   \n",
       "5661                             KANPAI                  Red Button Brewery   \n",
       "5662                 Paca-Vaca (パカ-ヴァカ)                         Cosmic City   \n",
       "5663  Señor Cybies Cherries And Berries  Crooked Stave Artisan Beer Project   \n",
       "\n",
       "              beer_type  beer_abv  beer_ibu  \\\n",
       "5659      Cider - Graff       6.5         0   \n",
       "5660       IPA - Triple      11.0       111   \n",
       "5661  Koji / Ginjo Beer       7.0         0   \n",
       "5662  Koji / Ginjo Beer      12.0         0   \n",
       "5663     Sour - Fruited       8.4        45   \n",
       "\n",
       "                                                comment venue_name  \\\n",
       "5659  Называйте как хотите, тити, давайте говорить п...   Salden’s   \n",
       "5660            Все экстремисты, кто в тапке, отзовись!  Paragraph   \n",
       "5661                       Больше вкусов, меньше хуйла!  Paragraph   \n",
       "5662  Тогда что такое напиток от батонов и что кто в...    Spontan   \n",
       "5663      Вот это можно подвести под параграф \"заебись\"    Spontan   \n",
       "\n",
       "           venue_city      venue_state venue_country  ...  serving_type  \\\n",
       "5659  Санкт-Петербург  Санкт-Петербург        Россия  ...         Draft   \n",
       "5660  Sankt-Peterburg  Санкт-Петербург        Россия  ...         Draft   \n",
       "5661  Sankt-Peterburg  Санкт-Петербург        Россия  ...           Can   \n",
       "5662              СПБ  Санкт-Петербург        Россия  ...         Draft   \n",
       "5663              СПБ  Санкт-Петербург        Россия  ...         Draft   \n",
       "\n",
       "      checkin_id      bid brewery_id  \\\n",
       "5659  1136841749  4486510      95242   \n",
       "5660  1136858960  3883890     329172   \n",
       "5661  1136863654  4737289     241689   \n",
       "5662  1136893234  4735121      89993   \n",
       "5663  1136933801  3792931      10568   \n",
       "\n",
       "                                              photo_url global_rating_score  \\\n",
       "5659  https://untappd.s3.amazonaws.com/photos/2022_0...                3.85   \n",
       "5660  https://untappd.s3.amazonaws.com/photos/2022_0...                4.31   \n",
       "5661  https://untappd.s3.amazonaws.com/photos/2022_0...                3.86   \n",
       "5662  https://untappd.s3.amazonaws.com/photos/2022_0...                3.92   \n",
       "5663  https://untappd.s3.amazonaws.com/photos/2022_0...                4.02   \n",
       "\n",
       "     global_weighted_rating_score tagged_friends total_toasts total_comments  \n",
       "5659                         3.72            NaN            5              0  \n",
       "5660                         4.11            NaN            7              0  \n",
       "5661                         3.73            NaN            5              0  \n",
       "5662                         3.74            NaN            7              1  \n",
       "5663                         3.97            NaN            9              0  \n",
       "\n",
       "[5 rows x 32 columns]"
      ]
     },
     "execution_count": 6,
     "metadata": {},
     "output_type": "execute_result"
    }
   ],
   "source": [
    "checkins.tail()"
   ]
  },
  {
   "cell_type": "markdown",
   "id": "58119538",
   "metadata": {},
   "source": [
    "## 2. Форматирование некоторых данных, которое потребуется в работе"
   ]
  },
  {
   "cell_type": "markdown",
   "id": "eec308b8",
   "metadata": {},
   "source": [
    "В этом разделе \"складируются\" некоторые фазы клининга, которые требуются для работы. В частности:\n",
    "\n",
    "- форматируется время;\n",
    "- удаляются дубликаты (неуникальное пиво и случайные повторы в таблице);\n",
    "- удаляются строки с отсуствующей выставленной оценкой;\n",
    "- переименовываются длинные названия в чекинах."
   ]
  },
  {
   "cell_type": "code",
   "execution_count": 7,
   "id": "bccf6ac0",
   "metadata": {},
   "outputs": [],
   "source": [
    "#перевод столбца в тип datetime\n",
    "\n",
    "checkins['created_at'] = pd.to_datetime(checkins['created_at'])"
   ]
  },
  {
   "cell_type": "code",
   "execution_count": 8,
   "id": "97320304",
   "metadata": {
    "scrolled": true
   },
   "outputs": [
    {
     "data": {
      "text/plain": [
       "4    1278\n",
       "5     953\n",
       "3     759\n",
       "2     709\n",
       "0     708\n",
       "1     633\n",
       "6     624\n",
       "Name: weekdays, dtype: int64"
      ]
     },
     "execution_count": 8,
     "metadata": {},
     "output_type": "execute_result"
    }
   ],
   "source": [
    "#определение дней недели\n",
    "\n",
    "checkins['weekdays'] = checkins['created_at'].dt.dayofweek\n",
    "checkins['weekdays'].value_counts()"
   ]
  },
  {
   "cell_type": "code",
   "execution_count": 9,
   "id": "572aa9c6",
   "metadata": {},
   "outputs": [],
   "source": [
    "#переименование длинных наименований\n",
    "\n",
    "checkins = checkins.replace({'Остановка «Светлановский просп. / просп. Тореза»':'Ост. «Светлановский/Тореза»'})"
   ]
  },
  {
   "cell_type": "code",
   "execution_count": 10,
   "id": "02566c41",
   "metadata": {},
   "outputs": [
    {
     "data": {
      "text/html": [
       "<div>\n",
       "<style scoped>\n",
       "    .dataframe tbody tr th:only-of-type {\n",
       "        vertical-align: middle;\n",
       "    }\n",
       "\n",
       "    .dataframe tbody tr th {\n",
       "        vertical-align: top;\n",
       "    }\n",
       "\n",
       "    .dataframe thead th {\n",
       "        text-align: right;\n",
       "    }\n",
       "</style>\n",
       "<table border=\"1\" class=\"dataframe\">\n",
       "  <thead>\n",
       "    <tr style=\"text-align: right;\">\n",
       "      <th></th>\n",
       "      <th>beer_name</th>\n",
       "      <th>brewery_name</th>\n",
       "      <th>beer_type</th>\n",
       "      <th>beer_abv</th>\n",
       "      <th>beer_ibu</th>\n",
       "      <th>comment</th>\n",
       "      <th>venue_name</th>\n",
       "      <th>venue_city</th>\n",
       "      <th>venue_state</th>\n",
       "      <th>venue_country</th>\n",
       "      <th>...</th>\n",
       "      <th>checkin_id</th>\n",
       "      <th>bid</th>\n",
       "      <th>brewery_id</th>\n",
       "      <th>photo_url</th>\n",
       "      <th>global_rating_score</th>\n",
       "      <th>global_weighted_rating_score</th>\n",
       "      <th>tagged_friends</th>\n",
       "      <th>total_toasts</th>\n",
       "      <th>total_comments</th>\n",
       "      <th>weekdays</th>\n",
       "    </tr>\n",
       "  </thead>\n",
       "  <tbody>\n",
       "    <tr>\n",
       "      <th>4</th>\n",
       "      <td>Urizen</td>\n",
       "      <td>Victory Art Brew</td>\n",
       "      <td>Belgian Tripel</td>\n",
       "      <td>10.5</td>\n",
       "      <td>28</td>\n",
       "      <td>NaN</td>\n",
       "      <td>Uchitelskaya Street (Учительская улица)</td>\n",
       "      <td>Санкт-Петербург</td>\n",
       "      <td>Санкт-Петербург</td>\n",
       "      <td>Россия</td>\n",
       "      <td>...</td>\n",
       "      <td>194363744</td>\n",
       "      <td>983516</td>\n",
       "      <td>82343</td>\n",
       "      <td>NaN</td>\n",
       "      <td>3.99</td>\n",
       "      <td>3.85</td>\n",
       "      <td>NaN</td>\n",
       "      <td>1</td>\n",
       "      <td>0</td>\n",
       "      <td>4</td>\n",
       "    </tr>\n",
       "    <tr>\n",
       "      <th>72</th>\n",
       "      <td>Urizen</td>\n",
       "      <td>Victory Art Brew</td>\n",
       "      <td>Belgian Tripel</td>\n",
       "      <td>10.5</td>\n",
       "      <td>28</td>\n",
       "      <td>Разлив в марте пятняшки. Теперь полностью из х...</td>\n",
       "      <td>Uchitelskaya Street (Учительская улица)</td>\n",
       "      <td>Санкт-Петербург</td>\n",
       "      <td>Санкт-Петербург</td>\n",
       "      <td>Россия</td>\n",
       "      <td>...</td>\n",
       "      <td>264434131</td>\n",
       "      <td>983516</td>\n",
       "      <td>82343</td>\n",
       "      <td>https://untappd.s3.amazonaws.com/photo/2016_01...</td>\n",
       "      <td>3.99</td>\n",
       "      <td>3.85</td>\n",
       "      <td>NaN</td>\n",
       "      <td>1</td>\n",
       "      <td>0</td>\n",
       "      <td>3</td>\n",
       "    </tr>\n",
       "    <tr>\n",
       "      <th>2672</th>\n",
       "      <td>Urizen</td>\n",
       "      <td>Victory Art Brew</td>\n",
       "      <td>Belgian Tripel</td>\n",
       "      <td>10.5</td>\n",
       "      <td>28</td>\n",
       "      <td>Бутылка от марта 2015. На этот раз от хрена ни...</td>\n",
       "      <td>Uchitelskaya Street (Учительская улица)</td>\n",
       "      <td>Санкт-Петербург</td>\n",
       "      <td>Санкт-Петербург</td>\n",
       "      <td>Россия</td>\n",
       "      <td>...</td>\n",
       "      <td>829473732</td>\n",
       "      <td>983516</td>\n",
       "      <td>82343</td>\n",
       "      <td>NaN</td>\n",
       "      <td>3.99</td>\n",
       "      <td>3.85</td>\n",
       "      <td>NaN</td>\n",
       "      <td>12</td>\n",
       "      <td>0</td>\n",
       "      <td>4</td>\n",
       "    </tr>\n",
       "  </tbody>\n",
       "</table>\n",
       "<p>3 rows × 33 columns</p>\n",
       "</div>"
      ],
      "text/plain": [
       "     beer_name      brewery_name       beer_type  beer_abv  beer_ibu  \\\n",
       "4       Urizen  Victory Art Brew  Belgian Tripel      10.5        28   \n",
       "72      Urizen  Victory Art Brew  Belgian Tripel      10.5        28   \n",
       "2672    Urizen  Victory Art Brew  Belgian Tripel      10.5        28   \n",
       "\n",
       "                                                comment  \\\n",
       "4                                                   NaN   \n",
       "72    Разлив в марте пятняшки. Теперь полностью из х...   \n",
       "2672  Бутылка от марта 2015. На этот раз от хрена ни...   \n",
       "\n",
       "                                   venue_name       venue_city  \\\n",
       "4     Uchitelskaya Street (Учительская улица)  Санкт-Петербург   \n",
       "72    Uchitelskaya Street (Учительская улица)  Санкт-Петербург   \n",
       "2672  Uchitelskaya Street (Учительская улица)  Санкт-Петербург   \n",
       "\n",
       "          venue_state venue_country  ...  checkin_id     bid  brewery_id  \\\n",
       "4     Санкт-Петербург        Россия  ...   194363744  983516       82343   \n",
       "72    Санкт-Петербург        Россия  ...   264434131  983516       82343   \n",
       "2672  Санкт-Петербург        Россия  ...   829473732  983516       82343   \n",
       "\n",
       "                                              photo_url global_rating_score  \\\n",
       "4                                                   NaN                3.99   \n",
       "72    https://untappd.s3.amazonaws.com/photo/2016_01...                3.99   \n",
       "2672                                                NaN                3.99   \n",
       "\n",
       "     global_weighted_rating_score tagged_friends total_toasts total_comments  \\\n",
       "4                            3.85            NaN            1              0   \n",
       "72                           3.85            NaN            1              0   \n",
       "2672                         3.85            NaN           12              0   \n",
       "\n",
       "     weekdays  \n",
       "4           4  \n",
       "72          3  \n",
       "2672        4  \n",
       "\n",
       "[3 rows x 33 columns]"
      ]
     },
     "execution_count": 10,
     "metadata": {},
     "output_type": "execute_result"
    }
   ],
   "source": [
    "#удаление дублированных чекинов (сорта, которые я пробовал несколько раз)\n",
    "che = checkins.copy()\n",
    "che[che.duplicated(subset = ['beer_name', 'brewery_name', 'beer_abv'])]\n",
    "\n",
    "che[che['beer_name'] == 'Urizen']"
   ]
  },
  {
   "cell_type": "code",
   "execution_count": 11,
   "id": "02bc0628",
   "metadata": {
    "scrolled": true
   },
   "outputs": [
    {
     "data": {
      "text/html": [
       "<div>\n",
       "<style scoped>\n",
       "    .dataframe tbody tr th:only-of-type {\n",
       "        vertical-align: middle;\n",
       "    }\n",
       "\n",
       "    .dataframe tbody tr th {\n",
       "        vertical-align: top;\n",
       "    }\n",
       "\n",
       "    .dataframe thead th {\n",
       "        text-align: right;\n",
       "    }\n",
       "</style>\n",
       "<table border=\"1\" class=\"dataframe\">\n",
       "  <thead>\n",
       "    <tr style=\"text-align: right;\">\n",
       "      <th></th>\n",
       "      <th>beer_name</th>\n",
       "      <th>brewery_name</th>\n",
       "      <th>beer_type</th>\n",
       "      <th>beer_abv</th>\n",
       "      <th>beer_ibu</th>\n",
       "      <th>comment</th>\n",
       "      <th>venue_name</th>\n",
       "      <th>venue_city</th>\n",
       "      <th>venue_state</th>\n",
       "      <th>venue_country</th>\n",
       "      <th>...</th>\n",
       "      <th>checkin_id</th>\n",
       "      <th>bid</th>\n",
       "      <th>brewery_id</th>\n",
       "      <th>photo_url</th>\n",
       "      <th>global_rating_score</th>\n",
       "      <th>global_weighted_rating_score</th>\n",
       "      <th>tagged_friends</th>\n",
       "      <th>total_toasts</th>\n",
       "      <th>total_comments</th>\n",
       "      <th>weekdays</th>\n",
       "    </tr>\n",
       "  </thead>\n",
       "  <tbody>\n",
       "    <tr>\n",
       "      <th>4</th>\n",
       "      <td>Urizen</td>\n",
       "      <td>Victory Art Brew</td>\n",
       "      <td>Belgian Tripel</td>\n",
       "      <td>10.5</td>\n",
       "      <td>28</td>\n",
       "      <td>NaN</td>\n",
       "      <td>Uchitelskaya Street (Учительская улица)</td>\n",
       "      <td>Санкт-Петербург</td>\n",
       "      <td>Санкт-Петербург</td>\n",
       "      <td>Россия</td>\n",
       "      <td>...</td>\n",
       "      <td>194363744</td>\n",
       "      <td>983516</td>\n",
       "      <td>82343</td>\n",
       "      <td>NaN</td>\n",
       "      <td>3.99</td>\n",
       "      <td>3.85</td>\n",
       "      <td>NaN</td>\n",
       "      <td>1</td>\n",
       "      <td>0</td>\n",
       "      <td>4</td>\n",
       "    </tr>\n",
       "  </tbody>\n",
       "</table>\n",
       "<p>1 rows × 33 columns</p>\n",
       "</div>"
      ],
      "text/plain": [
       "  beer_name      brewery_name       beer_type  beer_abv  beer_ibu comment  \\\n",
       "4    Urizen  Victory Art Brew  Belgian Tripel      10.5        28     NaN   \n",
       "\n",
       "                                venue_name       venue_city      venue_state  \\\n",
       "4  Uchitelskaya Street (Учительская улица)  Санкт-Петербург  Санкт-Петербург   \n",
       "\n",
       "  venue_country  ...  checkin_id     bid  brewery_id photo_url  \\\n",
       "4        Россия  ...   194363744  983516       82343       NaN   \n",
       "\n",
       "  global_rating_score global_weighted_rating_score tagged_friends  \\\n",
       "4                3.99                         3.85            NaN   \n",
       "\n",
       "  total_toasts total_comments weekdays  \n",
       "4            1              0        4  \n",
       "\n",
       "[1 rows x 33 columns]"
      ]
     },
     "execution_count": 11,
     "metadata": {},
     "output_type": "execute_result"
    }
   ],
   "source": [
    "checkins_drop = che.drop_duplicates(subset = ['beer_name', 'brewery_name', 'beer_abv'])\n",
    "checkins_drop[checkins_drop['beer_name'] == 'Urizen']"
   ]
  },
  {
   "cell_type": "code",
   "execution_count": 12,
   "id": "c656064a",
   "metadata": {},
   "outputs": [],
   "source": [
    "#копия датасета с удалёнными строками, в которых отсутствовала оценка\n",
    "\n",
    "checkins_drop_notnan = checkins_drop.copy()\n",
    "checkins_drop_notnan = checkins_drop_notnan.dropna(subset = ['rating_score'])"
   ]
  },
  {
   "cell_type": "markdown",
   "id": "44342548",
   "metadata": {},
   "source": [
    "## 3. Описательная статистика"
   ]
  },
  {
   "cell_type": "markdown",
   "id": "9419dc4f",
   "metadata": {},
   "source": [
    "Раздел, ради которого всё затевалось. В нём будут синтезированы некоторые интересующие меня показатели, которые раскрывают палитру интересов к пивному напитку."
   ]
  },
  {
   "cell_type": "markdown",
   "id": "08b0c2af",
   "metadata": {},
   "source": [
    "Будут описаны следующие показетели (колонки датасета):\n",
    "\n",
    "- **rating_score** - персональные оценки\n",
    "- **global_weighted_rating_score** - взвешенные средние оценки пользователей для попробованного сорта\n",
    "- **beer_type** - стили пива\n",
    "- **brewery_name** - наименование пивоварни\n",
    "- **brewery_country** - страна, которой пивоварня принадлежит\n",
    "- **total_toasts** - количество лайков за чекин пива\n",
    "- **venue_name** - название места, где пиво было попробовано\n",
    "- **tagged_friends** - люди, которые пробовали сорт вместе со мной\n",
    "- **comments** - персональный текст, которым был описан сорт"
   ]
  },
  {
   "cell_type": "markdown",
   "id": "b7b85be8",
   "metadata": {},
   "source": [
    "#### #Ключевые показатели распределения оценок"
   ]
  },
  {
   "cell_type": "code",
   "execution_count": 13,
   "id": "f778d268",
   "metadata": {},
   "outputs": [
    {
     "data": {
      "text/plain": [
       "count    5616.000000\n",
       "mean        3.638364\n",
       "std         0.422680\n",
       "min         0.500000\n",
       "25%         3.500000\n",
       "50%         3.750000\n",
       "75%         3.900000\n",
       "max         5.000000\n",
       "Name: rating_score, dtype: float64"
      ]
     },
     "execution_count": 13,
     "metadata": {},
     "output_type": "execute_result"
    }
   ],
   "source": [
    "#ключевые показатели персональных оценок \n",
    "\n",
    "checkins['rating_score'].describe()"
   ]
  },
  {
   "cell_type": "code",
   "execution_count": 14,
   "id": "3f7266ba",
   "metadata": {},
   "outputs": [
    {
     "data": {
      "text/plain": [
       "count    5664.000000\n",
       "mean        3.708821\n",
       "std         0.287303\n",
       "min         0.840000\n",
       "25%         3.600000\n",
       "50%         3.750000\n",
       "75%         3.880000\n",
       "max         4.570000\n",
       "Name: global_weighted_rating_score, dtype: float64"
      ]
     },
     "execution_count": 14,
     "metadata": {},
     "output_type": "execute_result"
    }
   ],
   "source": [
    "#ключевые показатели взвешенных средних оценок пользователей\n",
    "\n",
    "checkins['global_weighted_rating_score'].describe()"
   ]
  },
  {
   "cell_type": "markdown",
   "id": "8ef51758",
   "metadata": {},
   "source": [
    "#### #Гайд по стилям пива"
   ]
  },
  {
   "cell_type": "markdown",
   "id": "46256bb2",
   "metadata": {},
   "source": [
    "Для меня основным статистическим и дегустационным параметром являются стили пива. Безусловно, стиль - глава \"большого крафтового города\", ответственный за разнообразие. В этот же момент, разнообразие - глава \"большого крафтового государства\", ответственный за интерес к потреблению. \n",
    "\n",
    "Отсутствие разницы между стилями убило бы весь интерес. А так как пивной продукт, как и всё в жизни, подвержен эволюции, то убийства не происходит. "
   ]
  },
  {
   "cell_type": "code",
   "execution_count": 15,
   "id": "36388a7e",
   "metadata": {},
   "outputs": [
    {
     "data": {
      "text/plain": [
       "Sour - Other Gose                   316\n",
       "IPA - American                      297\n",
       "Sour - Fruited                      227\n",
       "IPA - New England / Hazy            223\n",
       "Sour - Fruited Gose                 194\n",
       "                                   ... \n",
       "Mild - Dark                           1\n",
       "Farmhouse Ale - Bière de Coupage      1\n",
       "Mumme                                 1\n",
       "Farmhouse Ale - Bière de Mars         1\n",
       "Kentucky Common                       1\n",
       "Name: beer_type, Length: 224, dtype: int64"
      ]
     },
     "execution_count": 15,
     "metadata": {},
     "output_type": "execute_result"
    }
   ],
   "source": [
    "#стили пива, их распределение по количеству и средним персональным/взвешенным средним общим оценкам (не менее 10 чекинов на стиль)\n",
    "\n",
    "checkins['beer_type'].value_counts()"
   ]
  },
  {
   "cell_type": "code",
   "execution_count": 16,
   "id": "fced5d10",
   "metadata": {},
   "outputs": [
    {
     "data": {
      "text/plain": [
       "IPA - Rye                        9\n",
       "Gruit / Ancient Herbed Ale       9\n",
       "Brown Ale - American             9\n",
       "IPA - New Zealand                9\n",
       "Wheat Beer - Wheat Wine          9\n",
       "                                ..\n",
       "Root Beer                        1\n",
       "Kentucky Common                  1\n",
       "Farmhouse Ale - Bière de Mars    1\n",
       "Mumme                            1\n",
       "Mild - Dark                      1\n",
       "Name: beer_type, Length: 79, dtype: int64"
      ]
     },
     "execution_count": 16,
     "metadata": {},
     "output_type": "execute_result"
    }
   ],
   "source": [
    "#стили пива, в которых у меня попробовано менее 10 сортов\n",
    "\n",
    "checkins_drop['beer_type'].value_counts()[checkins_drop['beer_type'].value_counts() < 10]"
   ]
  },
  {
   "cell_type": "code",
   "execution_count": 17,
   "id": "6a221642",
   "metadata": {},
   "outputs": [
    {
     "data": {
      "text/plain": [
       "beer_type\n",
       "Lambic - Gueuze                     4.084091\n",
       "Freeze-Distilled Beer               4.075000\n",
       "Stout - Imperial / Double Coffee    4.028571\n",
       "Lambic - Fruit                      3.983333\n",
       "Chilli / Chile Beer                 3.923913\n",
       "                                      ...   \n",
       "Lager - Amber                       3.018182\n",
       "Non-Alcoholic Beer                  2.935294\n",
       "Red Ale - Irish                     2.905556\n",
       "Lager - Strong                      2.904545\n",
       "Lager - Pale                        2.891346\n",
       "Name: rating_score, Length: 145, dtype: float64"
      ]
     },
     "execution_count": 17,
     "metadata": {},
     "output_type": "execute_result"
    }
   ],
   "source": [
    "#лучшие стили пива по моей оценке (попробовано не менее 10 сортов)\n",
    "\n",
    "avg_beer_type = checkins_drop.groupby('beer_type')['rating_score']\n",
    "avg_beer_type.mean()[(avg_beer_type.size() >= 10)].sort_values(axis=0, ascending=False)"
   ]
  },
  {
   "cell_type": "code",
   "execution_count": 18,
   "id": "b2144f8a",
   "metadata": {},
   "outputs": [
    {
     "data": {
      "text/plain": [
       "beer_type\n",
       "Stout - Imperial / Double Coffee    4.140000\n",
       "Stout - Imperial / Double Pastry    4.018103\n",
       "Lambic - Framboise                  4.017273\n",
       "IPA - Triple New England / Hazy     3.995833\n",
       "Sour - Smoothie / Pastry            3.994026\n",
       "                                      ...   \n",
       "Kellerbier / Zwickelbier            3.207500\n",
       "Lager - Pale                        3.155769\n",
       "Lager - American                    3.118571\n",
       "Lager - Strong                      3.003636\n",
       "Non-Alcoholic Beer                  2.959143\n",
       "Name: global_weighted_rating_score, Length: 145, dtype: float64"
      ]
     },
     "execution_count": 18,
     "metadata": {},
     "output_type": "execute_result"
    }
   ],
   "source": [
    "#лучшие стили пива, присутвующие в датасете, по средне взвешанной мировой оценке (попробовано не менее 10 сортов)\n",
    "\n",
    "global_avg_beer_type = checkins_drop.groupby('beer_type')['global_weighted_rating_score']\n",
    "global_avg_beer_type.mean()[(global_avg_beer_type.size() >= 10)].sort_values(axis=0, ascending=False)"
   ]
  },
  {
   "cell_type": "markdown",
   "id": "752d5280",
   "metadata": {},
   "source": [
    "#### #Гайд по странам"
   ]
  },
  {
   "cell_type": "markdown",
   "id": "c9b79097",
   "metadata": {},
   "source": [
    "Как мы узнавали географию по футболу и иным видам спорта, так сейчас в сознании созданы слоты для географии пивной. В настоящем подразделе, аналогично предыдущему, содержатся наиболее часто зачекиненные государства-производители со средней оценкой."
   ]
  },
  {
   "cell_type": "code",
   "execution_count": 71,
   "id": "bcda2d9b",
   "metadata": {
    "scrolled": false
   },
   "outputs": [
    {
     "data": {
      "text/plain": [
       "Russia            3188\n",
       "United States      363\n",
       "Belgium            283\n",
       "Germany            235\n",
       "England            156\n",
       "Netherlands        128\n",
       "Estonia            105\n",
       "Denmark             95\n",
       "Scotland            94\n",
       "Spain               94\n",
       "Sweden              89\n",
       "Norway              81\n",
       "Belarus             70\n",
       "Italy               60\n",
       "Czech Republic      52\n",
       "Finland             45\n",
       "Lithuania           37\n",
       "Latvia              35\n",
       "Moldova             30\n",
       "Poland              27\n",
       "Name: brewery_country, dtype: int64"
      ]
     },
     "execution_count": 71,
     "metadata": {},
     "output_type": "execute_result"
    }
   ],
   "source": [
    "#страны, чьё производство я пробовал\n",
    "\n",
    "checkins_drop['brewery_country'].value_counts().head(20)"
   ]
  },
  {
   "cell_type": "code",
   "execution_count": 20,
   "id": "848c5c18",
   "metadata": {},
   "outputs": [
    {
     "data": {
      "text/plain": [
       "array(['Russia', 'Belgium', 'Scotland', 'Netherlands', 'United States',\n",
       "       'Norway', 'Poland', 'Latvia', 'Denmark', 'Spain', 'Estonia',\n",
       "       'Italy', 'England', 'Finland', 'Germany', 'Moldova', 'Serbia',\n",
       "       'Japan', 'Sweden', 'Ireland', 'Wales', 'Armenia', 'Belarus',\n",
       "       'Czech Republic', 'Georgia', 'Mexico', 'Aland Islands', 'France',\n",
       "       'Iceland', 'Austria', 'Singapore', 'Lithuania', 'Ukraine',\n",
       "       'Azerbaijan', 'Turkey', 'Hungary', 'Canada', 'Argentina',\n",
       "       'Costa Rica', 'Greece', 'Switzerland', 'Romania', 'Portugal',\n",
       "       \"China / People's Republic of China\", 'New Zealand', 'South Korea',\n",
       "       'Philippines', 'Thailand', 'Australia', 'Jamaica', 'Vietnam',\n",
       "       'Indonesia', 'Kazakhstan', 'Northern Ireland', 'Bahamas',\n",
       "       'Kyrgyzstan', 'Slovakia', 'Israel'], dtype=object)"
      ]
     },
     "execution_count": 20,
     "metadata": {},
     "output_type": "execute_result"
    }
   ],
   "source": [
    "checkins['brewery_country'].unique()"
   ]
  },
  {
   "cell_type": "code",
   "execution_count": 21,
   "id": "ac052d15",
   "metadata": {},
   "outputs": [
    {
     "data": {
      "text/plain": [
       "brewery_country\n",
       "Norway            3.810625\n",
       "United States     3.797917\n",
       "Belgium           3.772872\n",
       "Sweden            3.753933\n",
       "Italy             3.736441\n",
       "Denmark           3.728261\n",
       "Netherlands       3.669291\n",
       "Spain             3.650000\n",
       "Russia            3.647031\n",
       "Scotland          3.646739\n",
       "Belarus           3.637143\n",
       "Estonia           3.630198\n",
       "France            3.575000\n",
       "England           3.537419\n",
       "Finland           3.504444\n",
       "Germany           3.378326\n",
       "Ireland           3.338636\n",
       "Poland            3.318000\n",
       "Czech Republic    3.293269\n",
       "Moldova           3.271667\n",
       "Lithuania         3.158108\n",
       "Latvia            3.137143\n",
       "Name: rating_score, dtype: float64"
      ]
     },
     "execution_count": 21,
     "metadata": {},
     "output_type": "execute_result"
    }
   ],
   "source": [
    "#лучшие государства-производители пива по моей оценке (попробовано не менее 20 сортов)\n",
    "\n",
    "avg_country_score = checkins_drop.groupby('brewery_country')['rating_score']\n",
    "avg_country_score.mean()[(avg_country_score.size() >= 20)].sort_values(axis=0, ascending=False)"
   ]
  },
  {
   "cell_type": "code",
   "execution_count": 22,
   "id": "ede5799c",
   "metadata": {},
   "outputs": [
    {
     "data": {
      "text/plain": [
       "brewery_country\n",
       "Belarus           3.811571\n",
       "United States     3.807631\n",
       "Russia            3.776289\n",
       "Norway            3.755309\n",
       "Sweden            3.734157\n",
       "Spain             3.689574\n",
       "Belgium           3.683746\n",
       "Italy             3.653667\n",
       "Denmark           3.650526\n",
       "France            3.631923\n",
       "Netherlands       3.616172\n",
       "Scotland          3.607447\n",
       "Estonia           3.598000\n",
       "Moldova           3.589333\n",
       "England           3.584038\n",
       "Ireland           3.557917\n",
       "Poland            3.395926\n",
       "Germany           3.393404\n",
       "Czech Republic    3.364808\n",
       "Finland           3.322889\n",
       "Latvia            3.308000\n",
       "Lithuania         3.228919\n",
       "Name: global_weighted_rating_score, dtype: float64"
      ]
     },
     "execution_count": 22,
     "metadata": {},
     "output_type": "execute_result"
    }
   ],
   "source": [
    "#лучшие государства-производители пива из присутствующих в датасете, по средней взвешенной мировой оценке (попробовано не менее 20 сортов)\n",
    "\n",
    "avg_country_global_score = checkins_drop.groupby('brewery_country')['global_weighted_rating_score']\n",
    "avg_country_global_score.mean()[(avg_country_global_score.size() >= 20)].sort_values(axis=0, ascending=False)"
   ]
  },
  {
   "cell_type": "code",
   "execution_count": 23,
   "id": "96fc7362",
   "metadata": {},
   "outputs": [],
   "source": [
    "#соединим таблицы в один датасет\n",
    "\n",
    "countries_mine = avg_country_score.mean()[(avg_country_score.size() >= 20)]\n",
    "countries_global = avg_country_global_score.mean()[(avg_country_global_score.size() >= 20)]\n",
    "avg_countries_scores = pd.merge(left=countries_mine, right=countries_global, on='brewery_country')"
   ]
  },
  {
   "cell_type": "code",
   "execution_count": 24,
   "id": "c8faa9fd",
   "metadata": {
    "scrolled": true
   },
   "outputs": [
    {
     "data": {
      "text/html": [
       "<div>\n",
       "<style scoped>\n",
       "    .dataframe tbody tr th:only-of-type {\n",
       "        vertical-align: middle;\n",
       "    }\n",
       "\n",
       "    .dataframe tbody tr th {\n",
       "        vertical-align: top;\n",
       "    }\n",
       "\n",
       "    .dataframe thead th {\n",
       "        text-align: right;\n",
       "    }\n",
       "</style>\n",
       "<table border=\"1\" class=\"dataframe\">\n",
       "  <thead>\n",
       "    <tr style=\"text-align: right;\">\n",
       "      <th></th>\n",
       "      <th>rating_score</th>\n",
       "      <th>global_weighted_rating_score</th>\n",
       "      <th>difference</th>\n",
       "    </tr>\n",
       "    <tr>\n",
       "      <th>brewery_country</th>\n",
       "      <th></th>\n",
       "      <th></th>\n",
       "      <th></th>\n",
       "    </tr>\n",
       "  </thead>\n",
       "  <tbody>\n",
       "    <tr>\n",
       "      <th>Belarus</th>\n",
       "      <td>3.637143</td>\n",
       "      <td>3.811571</td>\n",
       "      <td>-0.174429</td>\n",
       "    </tr>\n",
       "    <tr>\n",
       "      <th>Belgium</th>\n",
       "      <td>3.772872</td>\n",
       "      <td>3.683746</td>\n",
       "      <td>0.089127</td>\n",
       "    </tr>\n",
       "    <tr>\n",
       "      <th>Czech Republic</th>\n",
       "      <td>3.293269</td>\n",
       "      <td>3.364808</td>\n",
       "      <td>-0.071538</td>\n",
       "    </tr>\n",
       "    <tr>\n",
       "      <th>Denmark</th>\n",
       "      <td>3.728261</td>\n",
       "      <td>3.650526</td>\n",
       "      <td>0.077735</td>\n",
       "    </tr>\n",
       "    <tr>\n",
       "      <th>England</th>\n",
       "      <td>3.537419</td>\n",
       "      <td>3.584038</td>\n",
       "      <td>-0.046619</td>\n",
       "    </tr>\n",
       "  </tbody>\n",
       "</table>\n",
       "</div>"
      ],
      "text/plain": [
       "                 rating_score  global_weighted_rating_score  difference\n",
       "brewery_country                                                        \n",
       "Belarus              3.637143                      3.811571   -0.174429\n",
       "Belgium              3.772872                      3.683746    0.089127\n",
       "Czech Republic       3.293269                      3.364808   -0.071538\n",
       "Denmark              3.728261                      3.650526    0.077735\n",
       "England              3.537419                      3.584038   -0.046619"
      ]
     },
     "execution_count": 24,
     "metadata": {},
     "output_type": "execute_result"
    }
   ],
   "source": [
    "# найдём разницу между выставляемыми мной оценками и между оценками, которые ставят в целом\n",
    "\n",
    "avg_countries_scores['difference'] = avg_countries_scores.rating_score - avg_countries_scores.global_weighted_rating_score\n",
    "avg_countries_scores.head()"
   ]
  },
  {
   "cell_type": "code",
   "execution_count": 25,
   "id": "f5d6c1e4",
   "metadata": {},
   "outputs": [
    {
     "data": {
      "text/plain": [
       "brewery_country\n",
       "Finland           0.181556\n",
       "Belgium           0.089127\n",
       "Italy             0.082774\n",
       "Denmark           0.077735\n",
       "Norway            0.055316\n",
       "Netherlands       0.053119\n",
       "Scotland          0.039292\n",
       "Estonia           0.032198\n",
       "Sweden            0.019775\n",
       "United States    -0.009714\n",
       "Germany          -0.015078\n",
       "Spain            -0.039574\n",
       "England          -0.046619\n",
       "France           -0.056923\n",
       "Lithuania        -0.070811\n",
       "Czech Republic   -0.071538\n",
       "Poland           -0.077926\n",
       "Russia           -0.129258\n",
       "Latvia           -0.170857\n",
       "Belarus          -0.174429\n",
       "Ireland          -0.219280\n",
       "Moldova          -0.317667\n",
       "Name: difference, dtype: float64"
      ]
     },
     "execution_count": 25,
     "metadata": {},
     "output_type": "execute_result"
    }
   ],
   "source": [
    "#отсортируем и посмотрим за восхвалением и предвзятостью\n",
    "\n",
    "avg_countries_scores.difference.sort_values(ascending=False)"
   ]
  },
  {
   "cell_type": "markdown",
   "id": "34542610",
   "metadata": {},
   "source": [
    "Я считаю лучшими ***Норвегию, Соединённые Штаты и Бельгию*** по части варки пива. По тем же сортам мировой консенсус сходится на ***США, Белоруссии и России***. К сожалению, мой профиль, как выборка, слишком географически субъективен.\n",
    "\n",
    "Что же касается выставления оценок, то куда лучшие котировки для меня имеют ***Финские*** производители. Суровее всего, по сравнению с остальными, я отношусь к ***Латвии, Белоруссии, Ирландии и Молдове***."
   ]
  },
  {
   "cell_type": "markdown",
   "id": "171036d6",
   "metadata": {},
   "source": [
    "#### #Гайд по пивоварням"
   ]
  },
  {
   "cell_type": "markdown",
   "id": "0eb549e9",
   "metadata": {},
   "source": [
    "Конечно же нельзя обойти стороной и пивоварни - напрямую ответственные за результат и за восприятие. Углубляться не будем, посмотрим только количество потреблённых сортов и средние оценки. \n",
    "\n",
    "Используем дасасет только с уникальными чекинами."
   ]
  },
  {
   "cell_type": "code",
   "execution_count": 26,
   "id": "ffeded2b",
   "metadata": {},
   "outputs": [
    {
     "data": {
      "text/plain": [
       "AF Brew                190\n",
       "Salden's Brewery       181\n",
       "Big Village Brewery    151\n",
       "Zagovor Brewery        151\n",
       "Bakunin Brewing Co.    150\n",
       "Stamm Brewing          102\n",
       "Red Button Brewery      78\n",
       "DIETA / ДИЕТА           76\n",
       "Wild Lab                68\n",
       "Hophead Brewery         64\n",
       "BrewDog                 63\n",
       "Jaws Brewery            61\n",
       "Selfmade Brewery        59\n",
       "OSTROVICA               59\n",
       "4BREWERS                55\n",
       "Name: brewery_name, dtype: int64"
      ]
     },
     "execution_count": 26,
     "metadata": {},
     "output_type": "execute_result"
    }
   ],
   "source": [
    "#пивоварни, чьё производство я пробовал\n",
    "\n",
    "checkins_drop['brewery_name'].value_counts().head(15)"
   ]
  },
  {
   "cell_type": "code",
   "execution_count": 27,
   "id": "939da3de",
   "metadata": {
    "scrolled": true
   },
   "outputs": [
    {
     "data": {
      "text/plain": [
       "brewery_name\n",
       "Brouwerij Alvinne       4.001923\n",
       "Evil Twin Brewing       3.942593\n",
       "DIETA / ДИЕТА           3.933553\n",
       "Brouwerij Kees          3.912000\n",
       "Midnight Project        3.873214\n",
       "Plague Brew             3.856977\n",
       "Stamm Brewing           3.824510\n",
       "Founders Brewing Co.    3.821875\n",
       "Big Village Brewery     3.802318\n",
       "To Øl                   3.801724\n",
       "Wild Lab                3.792647\n",
       "Zagovor Brewery         3.786755\n",
       "Brewlok Brewery         3.784000\n",
       "Brouwerij de Molen      3.782927\n",
       "Red Rocket Brewery      3.778571\n",
       "Name: rating_score, dtype: float64"
      ]
     },
     "execution_count": 27,
     "metadata": {},
     "output_type": "execute_result"
    }
   ],
   "source": [
    "#лучшие пивоварни по моим оценкам (зачекинено не менее 25 сортов)\n",
    "\n",
    "avg_brewery_score = checkins_drop_notnan.groupby('brewery_name')['rating_score']\n",
    "avg_brewery_score.mean()[(avg_brewery_score.size() >= 25)].sort_values(axis=0, ascending=False).head(15)"
   ]
  },
  {
   "cell_type": "code",
   "execution_count": 28,
   "id": "b0055e74",
   "metadata": {},
   "outputs": [
    {
     "data": {
      "text/plain": [
       "brewery_name\n",
       "Midnight Project        4.018929\n",
       "Founders Brewing Co.    3.977188\n",
       "Zagovor Brewery         3.970000\n",
       "DIETA / ДИЕТА           3.969605\n",
       "Stamm Brewing           3.956176\n",
       "Wild Lab                3.906618\n",
       "Big Village Brewery     3.894834\n",
       "Brewlok Brewery         3.894800\n",
       "Brouwerij Alvinne       3.888462\n",
       "Selfmade Brewery        3.881864\n",
       "AF Brew                 3.865450\n",
       "Red Rocket Brewery      3.860714\n",
       "4BREWERS                3.860364\n",
       "Rewort Brewery          3.857000\n",
       "Hophead Brewery         3.851719\n",
       "Name: global_weighted_rating_score, dtype: float64"
      ]
     },
     "execution_count": 28,
     "metadata": {},
     "output_type": "execute_result"
    }
   ],
   "source": [
    "#лучшие пивоварни по средне взвешенным оценкам (зачекинено не менее 25 сортов)\n",
    "\n",
    "avg_brewery_global_score = checkins_drop_notnan.groupby('brewery_name')['global_weighted_rating_score']\n",
    "avg_brewery_global_score.mean()[(avg_brewery_score.size() >= 25)].sort_values(axis=0, ascending=False).head(15)"
   ]
  },
  {
   "cell_type": "markdown",
   "id": "b3685f8d",
   "metadata": {},
   "source": [
    "Кроме непосредственной оценки продукта пивоварни, можно посмотреть, насколько эти пивоварни оцениваются тостами моих друзей. Для этого потренируем ***pivot_table*** и ***merge***."
   ]
  },
  {
   "cell_type": "code",
   "execution_count": 29,
   "id": "147256e3",
   "metadata": {},
   "outputs": [
    {
     "data": {
      "text/html": [
       "<div>\n",
       "<style scoped>\n",
       "    .dataframe tbody tr th:only-of-type {\n",
       "        vertical-align: middle;\n",
       "    }\n",
       "\n",
       "    .dataframe tbody tr th {\n",
       "        vertical-align: top;\n",
       "    }\n",
       "\n",
       "    .dataframe thead th {\n",
       "        text-align: right;\n",
       "    }\n",
       "</style>\n",
       "<table border=\"1\" class=\"dataframe\">\n",
       "  <thead>\n",
       "    <tr style=\"text-align: right;\">\n",
       "      <th></th>\n",
       "      <th>total_toasts</th>\n",
       "      <th>counts</th>\n",
       "    </tr>\n",
       "    <tr>\n",
       "      <th>brewery_name</th>\n",
       "      <th></th>\n",
       "      <th></th>\n",
       "    </tr>\n",
       "  </thead>\n",
       "  <tbody>\n",
       "    <tr>\n",
       "      <th>Pub 102</th>\n",
       "      <td>8</td>\n",
       "      <td>1</td>\n",
       "    </tr>\n",
       "    <tr>\n",
       "      <th>0,5 Pub</th>\n",
       "      <td>8</td>\n",
       "      <td>1</td>\n",
       "    </tr>\n",
       "    <tr>\n",
       "      <th>084Brewery</th>\n",
       "      <td>42</td>\n",
       "      <td>3</td>\n",
       "    </tr>\n",
       "    <tr>\n",
       "      <th>12 Acres Brewing Company</th>\n",
       "      <td>15</td>\n",
       "      <td>1</td>\n",
       "    </tr>\n",
       "    <tr>\n",
       "      <th>13 Litar</th>\n",
       "      <td>12</td>\n",
       "      <td>1</td>\n",
       "    </tr>\n",
       "    <tr>\n",
       "      <th>...</th>\n",
       "      <td>...</td>\n",
       "      <td>...</td>\n",
       "    </tr>\n",
       "    <tr>\n",
       "      <th>Хадыженский Пивзавод</th>\n",
       "      <td>14</td>\n",
       "      <td>1</td>\n",
       "    </tr>\n",
       "    <tr>\n",
       "      <th>Царскосельская Сидрерия</th>\n",
       "      <td>18</td>\n",
       "      <td>1</td>\n",
       "    </tr>\n",
       "    <tr>\n",
       "      <th>Частная Пивоварня Дорошенко</th>\n",
       "      <td>33</td>\n",
       "      <td>4</td>\n",
       "    </tr>\n",
       "    <tr>\n",
       "      <th>Чешка</th>\n",
       "      <td>42</td>\n",
       "      <td>3</td>\n",
       "    </tr>\n",
       "    <tr>\n",
       "      <th>All</th>\n",
       "      <td>59769</td>\n",
       "      <td>5664</td>\n",
       "    </tr>\n",
       "  </tbody>\n",
       "</table>\n",
       "<p>932 rows × 2 columns</p>\n",
       "</div>"
      ],
      "text/plain": [
       "                             total_toasts  counts\n",
       "brewery_name                                     \n",
       " Pub 102                                8       1\n",
       "0,5 Pub                                 8       1\n",
       "084Brewery                             42       3\n",
       "12 Acres Brewing Company               15       1\n",
       "13 Litar                               12       1\n",
       "...                                   ...     ...\n",
       "Хадыженский Пивзавод                   14       1\n",
       "Царскосельская Сидрерия                18       1\n",
       "Частная Пивоварня Дорошенко            33       4\n",
       "Чешка                                  42       3\n",
       "All                                 59769    5664\n",
       "\n",
       "[932 rows x 2 columns]"
      ]
     },
     "execution_count": 29,
     "metadata": {},
     "output_type": "execute_result"
    }
   ],
   "source": [
    "#получаем сводные таблицы по пивоварням в сочетании с количеством тостов и количеством попровобованных сортов\n",
    "\n",
    "brewery_toasts_pivot1 = checkins.pivot_table(aggfunc='sum', index='brewery_name', values='total_toasts', margins=True)\n",
    "brewery_toasts_pivot2 = checkins.pivot_table(aggfunc='count', index='brewery_name', values='beer_abv', margins=True)\n",
    "brewery_toasts = brewery_toasts_pivot1.merge(brewery_toasts_pivot2, on='brewery_name', how='inner')\n",
    "brewery_toasts.rename(columns={'beer_abv':'counts'}, inplace=True)\n",
    "brewery_toasts"
   ]
  },
  {
   "cell_type": "code",
   "execution_count": 30,
   "id": "03bbf93b",
   "metadata": {
    "scrolled": true
   },
   "outputs": [
    {
     "data": {
      "text/plain": [
       "brewery_name\n",
       "Cosmic City                 16.941176\n",
       "Rising Moon Brewery         16.565217\n",
       "Privatbrauerei Eichbaum     16.300000\n",
       "Brew Fiction                16.000000\n",
       "Courage Brewery             15.500000\n",
       "BrewT!                      15.333333\n",
       "Пивная Диета (Beer Diet)    15.285714\n",
       "DIETA / ДИЕТА               15.210526\n",
       "Hophead Brewery             15.141026\n",
       "COVEN BREWERY               14.933333\n",
       "Name: toast_per_brewery, dtype: float64"
      ]
     },
     "execution_count": 30,
     "metadata": {},
     "output_type": "execute_result"
    }
   ],
   "source": [
    "#вычисляем среднее количество тостов на пивоварню\n",
    "\n",
    "brewery_toasts['toast_per_brewery'] = brewery_toasts.total_toasts/brewery_toasts.counts\n",
    "brewery_toasts[brewery_toasts['counts'] > 10].toast_per_brewery.sort_values(ascending=False).head(10)"
   ]
  },
  {
   "cell_type": "markdown",
   "id": "0239fbe1",
   "metadata": {},
   "source": [
    "***Cosmic City*** в этом плане определённо на самой пиковой точке."
   ]
  },
  {
   "cell_type": "markdown",
   "id": "336418c0",
   "metadata": {},
   "source": [
    " #### #Немного о лагерах и пилзнерах"
   ]
  },
  {
   "cell_type": "markdown",
   "id": "092c1d53",
   "metadata": {},
   "source": [
    "Для интереса приведём ещё некоторую описательную статистику, которая могла бы порадовать любого биргика. Затронем лагера, пилзнеры и пшеничку, как элемент \"чистоты\" среди многочисленных экспериментов.\n",
    "\n",
    "Определим страны и пивоварни, кто лучше всех может почувствовать \"классику\". Опять же, всё на взгляд автора."
   ]
  },
  {
   "cell_type": "code",
   "execution_count": 31,
   "id": "f2b75aa3",
   "metadata": {},
   "outputs": [
    {
     "data": {
      "text/plain": [
       "(3.188, 3.625]    34.583333\n",
       "(2.75, 3.188]     24.166667\n",
       "(3.625, 4.062]    17.500000\n",
       "(2.312, 2.75]     13.333333\n",
       "(1.875, 2.312]     6.041667\n",
       "(4.062, 4.5]       2.291667\n",
       "(1.438, 1.875]     0.833333\n",
       "(0.995, 1.438]     0.625000\n",
       "Name: rating_score, dtype: float64"
      ]
     },
     "execution_count": 31,
     "metadata": {},
     "output_type": "execute_result"
    }
   ],
   "source": [
    "#распределение оценок для \"классики\"\n",
    "lag_pils = checkins_drop[checkins_drop['beer_type'].str.contains('Lager|Pilsner|Hefeweizen')]\n",
    "lag_pils['rating_score'].value_counts(bins=8, normalize=True)*100"
   ]
  },
  {
   "cell_type": "code",
   "execution_count": 32,
   "id": "4d7d491d",
   "metadata": {},
   "outputs": [
    {
     "data": {
      "text/plain": [
       "brewery_name\n",
       "Пивоварня Одна тонна / Odna Tonna Brewery                    4.070000\n",
       "Пивная Диета (Beer Diet)                                     3.940000\n",
       "Velka Morava                                                 3.804545\n",
       "Stamm Brewing                                                3.692857\n",
       "AF Brew                                                      3.675000\n",
       "Ayinger Privatbrauerei                                       3.600000\n",
       "Salden's Brewery                                             3.585714\n",
       "OSTROVICA                                                    3.575000\n",
       "Jaws Brewery                                                 3.490000\n",
       "Kulmbacher Brauerei                                          3.260000\n",
       "Tradiční pivovar v Rakovníku                                 3.187500\n",
       "Buket Chuvashii (Букет Чувашии)                              3.183333\n",
       "Spaten-Franziskaner-Löwenbräu-Gruppe                         3.150000\n",
       "Privatbrauerei Eichbaum                                      3.033333\n",
       "Moscow Brewing Company (Московская Пивоваренная Компания)    3.016667\n",
       "Cēsu Alus                                                    3.000000\n",
       "Volfas Engelman                                              2.970000\n",
       "Oettinger Brauerei                                           2.828571\n",
       "Van Pur                                                      2.583333\n",
       "Baltika Breweries (Балтика)                                  2.575000\n",
       "Zavod Trekhsosensky (Завод Трехсосенский)                    2.187500\n",
       "Name: rating_score, dtype: float64"
      ]
     },
     "execution_count": 32,
     "metadata": {},
     "output_type": "execute_result"
    }
   ],
   "source": [
    "#лучшие пивоварни, способные варить \"классику\" (не менее 4 чекинов на пивоварню)\n",
    "\n",
    "brewery_lager_score = lag_pils.groupby('brewery_name')['rating_score']\n",
    "brewery_lager_score.mean(True)[(brewery_lager_score.size() >= 4)].sort_values(axis=0, ascending=False)"
   ]
  },
  {
   "cell_type": "code",
   "execution_count": 33,
   "id": "80ab1795",
   "metadata": {
    "scrolled": true
   },
   "outputs": [
    {
     "data": {
      "text/plain": [
       "brewery_country\n",
       "United States     3.460000\n",
       "Russia            3.305966\n",
       "Germany           3.220408\n",
       "Czech Republic    3.146296\n",
       "Netherlands       3.122727\n",
       "Moldova           3.107692\n",
       "Lithuania         3.046429\n",
       "Latvia            2.833333\n",
       "Name: rating_score, dtype: float64"
      ]
     },
     "execution_count": 33,
     "metadata": {},
     "output_type": "execute_result"
    }
   ],
   "source": [
    "#лучшие страны, чьи пивоварни способны варить \"классику\" (не менее 10 чекинов на пивоварню)\n",
    "\n",
    "country_lager_score = lag_pils.groupby('brewery_country')['rating_score']\n",
    "country_lager_score.mean()[(country_lager_score.size() >= 10)].sort_values(axis=0, ascending=False)"
   ]
  },
  {
   "cell_type": "markdown",
   "id": "0945bec0",
   "metadata": {},
   "source": [
    "#### #Немного об айпиэях"
   ]
  },
  {
   "cell_type": "markdown",
   "id": "874cae17",
   "metadata": {},
   "source": [
    "Думаю, что интерес к IPA также классичен."
   ]
  },
  {
   "cell_type": "code",
   "execution_count": 34,
   "id": "9162eb02",
   "metadata": {},
   "outputs": [
    {
     "data": {
      "text/plain": [
       "(3.375, 3.75]                  55.512119\n",
       "(3.75, 4.125]                  26.739640\n",
       "(3.0, 3.375]                    8.287725\n",
       "(4.125, 4.5]                    4.143862\n",
       "(2.625, 3.0]                    3.596560\n",
       "(2.25, 2.625]                   0.390930\n",
       "(1.4960000000000002, 1.875]     0.234558\n",
       "(1.875, 2.25]                   0.078186\n",
       "Name: rating_score, dtype: float64"
      ]
     },
     "execution_count": 34,
     "metadata": {},
     "output_type": "execute_result"
    }
   ],
   "source": [
    "ipa = checkins_drop[checkins_drop['beer_type'].str.contains('IPA')]\n",
    "ipa['rating_score'].value_counts(bins=8, normalize=True)*100"
   ]
  },
  {
   "cell_type": "code",
   "execution_count": 35,
   "id": "18d7fc98",
   "metadata": {},
   "outputs": [
    {
     "data": {
      "text/plain": [
       "brewery_name\n",
       "Rogue Ales                  3.930000\n",
       "Õllenaut                    3.916667\n",
       "Midnight Project            3.900000\n",
       "Пивная Диета (Beer Diet)    3.887500\n",
       "Ægir Bryggeri               3.875000\n",
       "Adroit Theory               3.866667\n",
       "Aslin Beer Company          3.850000\n",
       "Stamm Brewing               3.842105\n",
       "DIETA / ДИЕТА               3.840909\n",
       "Garage Beer Co.             3.833333\n",
       "Name: rating_score, dtype: float64"
      ]
     },
     "execution_count": 35,
     "metadata": {},
     "output_type": "execute_result"
    }
   ],
   "source": [
    "#лучшие пивоварни, способные варить \"хмелевую классику\" (не менее 15 чекинов на пивоварню)\n",
    "\n",
    "brewery_ipa_score = ipa.groupby('brewery_name')['rating_score']\n",
    "brewery_ipa_score.mean(True)[(brewery_ipa_score.size() >= 4)].sort_values(axis=0, ascending=False).head(10)"
   ]
  },
  {
   "cell_type": "code",
   "execution_count": 36,
   "id": "1b862eb5",
   "metadata": {
    "scrolled": true
   },
   "outputs": [
    {
     "data": {
      "text/plain": [
       "brewery_country\n",
       "United States    3.749573\n",
       "Norway           3.745833\n",
       "Denmark          3.733333\n",
       "Belarus          3.728571\n",
       "Estonia          3.704348\n",
       "Spain            3.703704\n",
       "Scotland         3.703448\n",
       "Sweden           3.693333\n",
       "Russia           3.666919\n",
       "Netherlands      3.643750\n",
       "Germany          3.638235\n",
       "England          3.617308\n",
       "Italy            3.490909\n",
       "Name: rating_score, dtype: float64"
      ]
     },
     "execution_count": 36,
     "metadata": {},
     "output_type": "execute_result"
    }
   ],
   "source": [
    "#лучшие страны, чьи пивоварни способны варить \"хмелевую классику\" (не менее 15 чекинов на пивоварню)\n",
    "\n",
    "country_ipa_score = ipa.groupby('brewery_country')['rating_score']\n",
    "country_ipa_score.mean()[(country_ipa_score.size() >= 10)].sort_values(axis=0, ascending=False)"
   ]
  },
  {
   "cell_type": "markdown",
   "id": "3038f917",
   "metadata": {},
   "source": [
    "Жаль, что живя в России, имеешь доступ к массмаркету, а твои чекины зависят от способностей ведения бизнеса поставщиков и государственного устройства."
   ]
  },
  {
   "cell_type": "markdown",
   "id": "e61fc4c7",
   "metadata": {},
   "source": [
    "#### #Пройдёмся по заведениям"
   ]
  },
  {
   "cell_type": "markdown",
   "id": "bb19b955",
   "metadata": {},
   "source": [
    "Безусловно, интерес могут представлять и заведения. Конечно, статистика оценок в заведении не может являться фактором, определяющим решение о посещении. Тем не менее, в некоторых из них оценки выставляются лучше. \n",
    "\n",
    "Оговоримся, что описательная статистика не выявляет причины. И можно лишь догадываться, был ли бармен настолько хорош, что мне понравилось всё, что мы с ним попробовали. \n",
    "\n",
    "Посмотрим на средние персональные, средние взвешенные общие, а также дополнительно выясним, в каком баре я оставляю самые длинные комментарии в чекинах. Здесь причина более очевидна - при бармене и друзьях написать длинный комментарий невозможно."
   ]
  },
  {
   "cell_type": "code",
   "execution_count": 37,
   "id": "a421d9e8",
   "metadata": {
    "scrolled": false
   },
   "outputs": [
    {
     "data": {
      "text/plain": [
       "venue_name\n",
       "AF Brew Taproom                    3.893333\n",
       "Avrora Bar                         3.881818\n",
       "TOP HOPS                           3.845946\n",
       "Beer Diet (Пивная Диета)           3.815625\n",
       "Лободэй 2021                       3.813846\n",
       "Old Skull Fest                     3.808696\n",
       "Redrum Bar                         3.793600\n",
       "RULE taproom                       3.791892\n",
       "Share House                        3.789344\n",
       "Beergeek Craft Beer Bar & Store    3.788757\n",
       "Баланс белого                      3.787097\n",
       "Spontan                            3.784656\n",
       "Paragraph                          3.772000\n",
       "Усы на пене                        3.757143\n",
       "Fillin'Good                        3.756939\n",
       "St.Petersburg Craft Event          3.756566\n",
       "Big Craft Day 2019 у моря          3.747849\n",
       "Breaking Bad Beer Cafe             3.728261\n",
       "Бирвария                           3.726923\n",
       "Jawsspot                           3.723510\n",
       "Bottle Expert                      3.716071\n",
       "Beer Addicts                       3.714815\n",
       "Ward № 6 (Палата № 6)              3.705093\n",
       "Craft Beer Shop                    3.699457\n",
       "Viderzhka                          3.692308\n",
       "Name: rating_score, dtype: float64"
      ]
     },
     "execution_count": 37,
     "metadata": {},
     "output_type": "execute_result"
    }
   ],
   "source": [
    "#средние персональные оценки пиву в заведениях (не менее 20 чекинов в заведении)\n",
    "\n",
    "avg_venue_score = checkins_drop.groupby('venue_name')['rating_score']\n",
    "avg_venue_score.mean()[(avg_venue_score.size() >= 20)].sort_values(axis=0, ascending=False).head(25)"
   ]
  },
  {
   "cell_type": "code",
   "execution_count": 38,
   "id": "33442a81",
   "metadata": {},
   "outputs": [
    {
     "data": {
      "text/plain": [
       "venue_name\n",
       "Avrora Bar                         3.946364\n",
       "AF Brew Taproom                    3.928444\n",
       "Beer Diet (Пивная Диета)           3.873616\n",
       "TOP HOPS                           3.870946\n",
       "Big Craft Day 2019 у моря          3.860000\n",
       "Лободэй 2021                       3.859692\n",
       "Paragraph                          3.856154\n",
       "Beer Addicts                       3.842561\n",
       "Spontan                            3.837467\n",
       "Viderzhka                          3.815769\n",
       "Redrum Bar                         3.814480\n",
       "Share House                        3.808852\n",
       "RULE taproom                       3.807297\n",
       "Fillin'Good                        3.801870\n",
       "Beergeek Craft Beer Bar & Store    3.800702\n",
       "Jawsspot                           3.794437\n",
       "St.Petersburg Craft Event          3.788137\n",
       "Bottle Expert                      3.781786\n",
       "Breaking Bad Beer Cafe             3.775217\n",
       "Craft Republic                     3.760588\n",
       "KIOSK                              3.760110\n",
       "Баланс белого                      3.738404\n",
       "Craft Beer Shop                    3.730081\n",
       "Ward № 6 (Палата № 6)              3.728611\n",
       "Бирвария                           3.727692\n",
       "Name: global_weighted_rating_score, dtype: float64"
      ]
     },
     "execution_count": 38,
     "metadata": {},
     "output_type": "execute_result"
    }
   ],
   "source": [
    "#средние взвешенные общие оценки пиву в заведениях (не менее 20 чекинов в заведении)\n",
    "\n",
    "avg_venue_score = checkins_drop.groupby('venue_name')['global_weighted_rating_score']\n",
    "avg_venue_score.mean()[(avg_venue_score.size() >= 20)].sort_values(axis=0, ascending=False).head(25)"
   ]
  },
  {
   "cell_type": "code",
   "execution_count": 39,
   "id": "3a5c1e02",
   "metadata": {},
   "outputs": [
    {
     "data": {
      "image/png": "[encoded data removed]",
      "text/plain": [
       "<Figure size 720x432 with 1 Axes>"
      ]
     },
     "metadata": {
      "needs_background": "light"
     },
     "output_type": "display_data"
    }
   ],
   "source": [
    "#места, в которых пишу самые длинные комментарии (учитываются все чекины; количество чекинов на бар больше 15)\n",
    "\n",
    "checkins['comment_lenght'] = checkins['comment'].str.len()\n",
    "\n",
    "avg_venue_ch_len = checkins.groupby('venue_name')['comment_lenght']\n",
    "comment_hist = avg_venue_ch_len.mean()[(avg_venue_ch_len.size() >= 15)].sort_values(axis=0, ascending=False).head(10)\n",
    "\n",
    "comment_hist.plot(kind = 'barh', figsize=[10,6], color = 'green')\n",
    "plt.xlabel('Length of Comments')\n",
    "plt.ylabel('Venues')\n",
    "plt.text(x = -2, y= 10, s=\"Comment's length depending on the venue(Top 10)\", size = 16, weight='bold')\n",
    "plt.show()"
   ]
  },
  {
   "cell_type": "markdown",
   "id": "1ec60475",
   "metadata": {},
   "source": [
    "#### #Сколько мне ещё хочется зачекинить"
   ]
  },
  {
   "cell_type": "markdown",
   "id": "8f231c3f",
   "metadata": {},
   "source": [
    "Этот счётчик добавлен вне системы. При помощи него я вижу, сколько чекинов ещё хотел бы сделать.\n",
    "\n",
    "Последним и главным интересом для меня обладает желание попробовать не менее десяти сортов для каждого стиля. Желание граничит на границе искусственного и знакового. С одной стороны, это просто вымысел, последняя привязка для того, чтобы закончить с хобби \"набивания статистики на вредных привычках\", с другой - возможность увереннее себя чувствовать в спорах, обладая \"знанием\", ориентированным на кругозор. В общем-то, все интересы существуют только для того, чтобы кругозор был необъятен."
   ]
  },
  {
   "cell_type": "code",
   "execution_count": 72,
   "id": "bbf5208d",
   "metadata": {},
   "outputs": [
    {
     "name": "stdout",
     "output_type": "stream",
     "text": [
      "I need to check 454 beers\n"
     ]
    }
   ],
   "source": [
    "#сколько не хватает сортов для того, чтобы каждый стиль был попробован не менее 10 раз (quan = 1 отсутствующий стиль, умноженный на 10 проб)\n",
    "\n",
    "style_dict = checkins_drop['beer_type'].value_counts().to_dict()\n",
    "quan = 10\n",
    "\n",
    "for each in style_dict:\n",
    "    if style_dict[each] < 10:\n",
    "        d = 10 - style_dict[each]\n",
    "        quan += d\n",
    "\n",
    "print('I need to check ' + str(quan) + ' beers')"
   ]
  },
  {
   "cell_type": "markdown",
   "id": "634352da",
   "metadata": {},
   "source": [
    "#### #Гайд по временным промежуткам"
   ]
  },
  {
   "cell_type": "markdown",
   "id": "024ffcc9",
   "metadata": {},
   "source": [
    "Конечно же, как можно обойти стороной зависимость чекинов от времени! Эти закономерности - одни из самых востребованных в анализе любого процесса. \n",
    "\n",
    "Очень легко понять, где на графике пятница, а где отпуск. Если бы фестивали не проводились так часто и были бы строго по графику, заметили бы и их.\n",
    "\n",
    "Вычислим самые активные года, месяца, дни, а также посмотрим, есть ли среди графиков зарождение параболы. В этом блоке учитываются все чекины, с учётом дублирующихся."
   ]
  },
  {
   "cell_type": "code",
   "execution_count": 41,
   "id": "524e0a02",
   "metadata": {},
   "outputs": [
    {
     "data": {
      "image/png": "[encoded data removed]",
      "text/plain": [
       "<Figure size 864x432 with 1 Axes>"
      ]
     },
     "metadata": {},
     "output_type": "display_data"
    }
   ],
   "source": [
    "#количество чекинов за всё время, разбитое по месяцам\n",
    "\n",
    "checkins['check_month'] = checkins['created_at'].dt.month\n",
    "style.use('fivethirtyeight')\n",
    "checkins['check_month'].value_counts().sort_index().plot(kind='bar', figsize=[12,6], width=0.9, color = 'green', edgecolor='black', linewidth=1)\n",
    "plt.xlabel('Months')\n",
    "plt.ylabel('Amount of cheсkins')\n",
    "plt.xticks(rotation=360)\n",
    "plt.text(x = 2, y= 720, s=\"Number of checkins by month\", size = 20, weight='bold', color='red')\n",
    "plt.show()"
   ]
  },
  {
   "cell_type": "code",
   "execution_count": 42,
   "id": "d6cd8e7c",
   "metadata": {},
   "outputs": [
    {
     "data": {
      "text/plain": [
       "2020    1470\n",
       "2019    1397\n",
       "2021    1155\n",
       "2017     584\n",
       "2018     457\n",
       "2016     349\n",
       "2022     186\n",
       "2015      66\n",
       "Name: check_year, dtype: int64"
      ]
     },
     "execution_count": 42,
     "metadata": {},
     "output_type": "execute_result"
    }
   ],
   "source": [
    "#количество чекинов, разбитое по годам\n",
    "checkins['check_year'] = checkins['created_at'].dt.year\n",
    "checkins['check_year'].value_counts()"
   ]
  },
  {
   "cell_type": "code",
   "execution_count": 43,
   "id": "c8fa98e8",
   "metadata": {},
   "outputs": [
    {
     "data": {
      "image/png": "[encoded data removed]",
      "text/plain": [
       "<Figure size 864x504 with 1 Axes>"
      ]
     },
     "metadata": {},
     "output_type": "display_data"
    }
   ],
   "source": [
    "checkins['check_year'].value_counts().plot(kind='pie', figsize=[12,7], rotatelabels=True)\n",
    "\n",
    "plt.show()"
   ]
  },
  {
   "cell_type": "code",
   "execution_count": 44,
   "id": "8bcc27f5",
   "metadata": {},
   "outputs": [
    {
     "data": {
      "text/plain": [
       "6     137\n",
       "1     133\n",
       "4     120\n",
       "7     117\n",
       "2     112\n",
       "8     100\n",
       "11    100\n",
       "5      93\n",
       "12     84\n",
       "3      64\n",
       "10     61\n",
       "9      34\n",
       "Name: check_month, dtype: int64"
      ]
     },
     "execution_count": 44,
     "metadata": {},
     "output_type": "execute_result"
    }
   ],
   "source": [
    "#распределение чекинов по месяцам за 2021 год\n",
    "\n",
    "checkins[checkins['check_year'] == 2021]['check_month'].value_counts()"
   ]
  },
  {
   "cell_type": "code",
   "execution_count": 45,
   "id": "74da88e1",
   "metadata": {},
   "outputs": [
    {
     "data": {
      "text/plain": [
       "4    356\n",
       "5    241\n",
       "6    118\n",
       "0    117\n",
       "2    109\n",
       "1    107\n",
       "3    107\n",
       "Name: weekdays, dtype: int64"
      ]
     },
     "execution_count": 45,
     "metadata": {},
     "output_type": "execute_result"
    }
   ],
   "source": [
    "#распределение чекинов по дням за 2021 год\n",
    "\n",
    "checkins[checkins['check_year'] == 2021]['weekdays'].value_counts()"
   ]
  },
  {
   "cell_type": "code",
   "execution_count": 46,
   "id": "06029689",
   "metadata": {},
   "outputs": [
    {
     "data": {
      "text/plain": [
       "4    77\n",
       "0    26\n",
       "1    24\n",
       "5    22\n",
       "2    20\n",
       "3     9\n",
       "6     8\n",
       "Name: weekdays, dtype: int64"
      ]
     },
     "execution_count": 46,
     "metadata": {},
     "output_type": "execute_result"
    }
   ],
   "source": [
    "#распределение чекинов по дням за 2022 год\n",
    "\n",
    "checkins[checkins['check_year'] == 2022]['weekdays'].value_counts()"
   ]
  },
  {
   "cell_type": "code",
   "execution_count": 47,
   "id": "ebdde906",
   "metadata": {
    "scrolled": false
   },
   "outputs": [
    {
     "data": {
      "text/plain": [
       "<AxesSubplot:xlabel='weekdays', ylabel='rating_score'>"
      ]
     },
     "execution_count": 47,
     "metadata": {},
     "output_type": "execute_result"
    },
    {
     "data": {
      "image/png": "[encoded data removed]",
      "text/plain": [
       "<Figure size 792x504 with 1 Axes>"
      ]
     },
     "metadata": {},
     "output_type": "display_data"
    }
   ],
   "source": [
    "#оценки чекинов по дням за 2021 год\n",
    "\n",
    "plt.figure(figsize=(11, 7)), \n",
    "sns.stripplot(x='weekdays', y='rating_score',data=checkins, palette='rainbow')"
   ]
  },
  {
   "cell_type": "code",
   "execution_count": 48,
   "id": "ae00daff",
   "metadata": {},
   "outputs": [
    {
     "data": {
      "text/plain": [
       "<AxesSubplot:xlabel='check_year', ylabel='serving_type'>"
      ]
     },
     "execution_count": 48,
     "metadata": {},
     "output_type": "execute_result"
    },
    {
     "data": {
      "image/png": "[encoded data removed]",
      "text/plain": [
       "<Figure size 432x288 with 2 Axes>"
      ]
     },
     "metadata": {},
     "output_type": "display_data"
    }
   ],
   "source": [
    "#тепловая карта для разных типов потребления\n",
    "\n",
    "heatdata_serving = pd.pivot_table(checkins, values='beer_name', index='serving_type', columns='check_year', aggfunc='count')\n",
    "sns.heatmap(heatdata_serving)"
   ]
  },
  {
   "cell_type": "code",
   "execution_count": 49,
   "id": "7797790e",
   "metadata": {
    "scrolled": true
   },
   "outputs": [
    {
     "data": {
      "text/plain": [
       "<AxesSubplot:xlabel='check_month', ylabel='check_year'>"
      ]
     },
     "execution_count": 49,
     "metadata": {},
     "output_type": "execute_result"
    },
    {
     "data": {
      "image/png": "[encoded data removed]",
      "text/plain": [
       "<Figure size 432x288 with 2 Axes>"
      ]
     },
     "metadata": {},
     "output_type": "display_data"
    }
   ],
   "source": [
    "#тепловая карта для чекинов по годам и месяцам (отлично видны фестивали)\n",
    "\n",
    "heatdata_serving = pd.pivot_table(checkins, values='beer_name', index='check_year', columns='check_month', aggfunc='count')\n",
    "sns.heatmap(heatdata_serving, cmap='Greens')"
   ]
  },
  {
   "cell_type": "code",
   "execution_count": 50,
   "id": "63b6b42c",
   "metadata": {},
   "outputs": [
    {
     "data": {
      "text/html": [
       "<div>\n",
       "<style scoped>\n",
       "    .dataframe tbody tr th:only-of-type {\n",
       "        vertical-align: middle;\n",
       "    }\n",
       "\n",
       "    .dataframe tbody tr th {\n",
       "        vertical-align: top;\n",
       "    }\n",
       "\n",
       "    .dataframe thead th {\n",
       "        text-align: right;\n",
       "    }\n",
       "</style>\n",
       "<table border=\"1\" class=\"dataframe\">\n",
       "  <thead>\n",
       "    <tr style=\"text-align: right;\">\n",
       "      <th>check_hour</th>\n",
       "      <th>0</th>\n",
       "      <th>1</th>\n",
       "      <th>2</th>\n",
       "      <th>3</th>\n",
       "      <th>4</th>\n",
       "      <th>5</th>\n",
       "      <th>6</th>\n",
       "      <th>7</th>\n",
       "      <th>8</th>\n",
       "      <th>9</th>\n",
       "      <th>...</th>\n",
       "      <th>14</th>\n",
       "      <th>15</th>\n",
       "      <th>16</th>\n",
       "      <th>17</th>\n",
       "      <th>18</th>\n",
       "      <th>19</th>\n",
       "      <th>20</th>\n",
       "      <th>21</th>\n",
       "      <th>22</th>\n",
       "      <th>23</th>\n",
       "    </tr>\n",
       "    <tr>\n",
       "      <th>weekdays</th>\n",
       "      <th></th>\n",
       "      <th></th>\n",
       "      <th></th>\n",
       "      <th></th>\n",
       "      <th></th>\n",
       "      <th></th>\n",
       "      <th></th>\n",
       "      <th></th>\n",
       "      <th></th>\n",
       "      <th></th>\n",
       "      <th></th>\n",
       "      <th></th>\n",
       "      <th></th>\n",
       "      <th></th>\n",
       "      <th></th>\n",
       "      <th></th>\n",
       "      <th></th>\n",
       "      <th></th>\n",
       "      <th></th>\n",
       "      <th></th>\n",
       "      <th></th>\n",
       "    </tr>\n",
       "  </thead>\n",
       "  <tbody>\n",
       "    <tr>\n",
       "      <th>0</th>\n",
       "      <td>11.0</td>\n",
       "      <td>2.0</td>\n",
       "      <td>1.0</td>\n",
       "      <td>NaN</td>\n",
       "      <td>1.0</td>\n",
       "      <td>NaN</td>\n",
       "      <td>1.0</td>\n",
       "      <td>4.0</td>\n",
       "      <td>21.0</td>\n",
       "      <td>1.0</td>\n",
       "      <td>...</td>\n",
       "      <td>16.0</td>\n",
       "      <td>38.0</td>\n",
       "      <td>61.0</td>\n",
       "      <td>115.0</td>\n",
       "      <td>142.0</td>\n",
       "      <td>86.0</td>\n",
       "      <td>71.0</td>\n",
       "      <td>42.0</td>\n",
       "      <td>42.0</td>\n",
       "      <td>14.0</td>\n",
       "    </tr>\n",
       "    <tr>\n",
       "      <th>1</th>\n",
       "      <td>10.0</td>\n",
       "      <td>7.0</td>\n",
       "      <td>6.0</td>\n",
       "      <td>2.0</td>\n",
       "      <td>6.0</td>\n",
       "      <td>1.0</td>\n",
       "      <td>NaN</td>\n",
       "      <td>9.0</td>\n",
       "      <td>4.0</td>\n",
       "      <td>6.0</td>\n",
       "      <td>...</td>\n",
       "      <td>4.0</td>\n",
       "      <td>19.0</td>\n",
       "      <td>56.0</td>\n",
       "      <td>84.0</td>\n",
       "      <td>108.0</td>\n",
       "      <td>89.0</td>\n",
       "      <td>75.0</td>\n",
       "      <td>67.0</td>\n",
       "      <td>42.0</td>\n",
       "      <td>23.0</td>\n",
       "    </tr>\n",
       "    <tr>\n",
       "      <th>2</th>\n",
       "      <td>23.0</td>\n",
       "      <td>11.0</td>\n",
       "      <td>1.0</td>\n",
       "      <td>11.0</td>\n",
       "      <td>5.0</td>\n",
       "      <td>NaN</td>\n",
       "      <td>NaN</td>\n",
       "      <td>4.0</td>\n",
       "      <td>4.0</td>\n",
       "      <td>13.0</td>\n",
       "      <td>...</td>\n",
       "      <td>11.0</td>\n",
       "      <td>24.0</td>\n",
       "      <td>56.0</td>\n",
       "      <td>88.0</td>\n",
       "      <td>103.0</td>\n",
       "      <td>98.0</td>\n",
       "      <td>63.0</td>\n",
       "      <td>51.0</td>\n",
       "      <td>59.0</td>\n",
       "      <td>41.0</td>\n",
       "    </tr>\n",
       "    <tr>\n",
       "      <th>3</th>\n",
       "      <td>19.0</td>\n",
       "      <td>2.0</td>\n",
       "      <td>2.0</td>\n",
       "      <td>5.0</td>\n",
       "      <td>NaN</td>\n",
       "      <td>NaN</td>\n",
       "      <td>NaN</td>\n",
       "      <td>5.0</td>\n",
       "      <td>10.0</td>\n",
       "      <td>8.0</td>\n",
       "      <td>...</td>\n",
       "      <td>25.0</td>\n",
       "      <td>46.0</td>\n",
       "      <td>55.0</td>\n",
       "      <td>100.0</td>\n",
       "      <td>132.0</td>\n",
       "      <td>113.0</td>\n",
       "      <td>71.0</td>\n",
       "      <td>48.0</td>\n",
       "      <td>43.0</td>\n",
       "      <td>45.0</td>\n",
       "    </tr>\n",
       "    <tr>\n",
       "      <th>4</th>\n",
       "      <td>22.0</td>\n",
       "      <td>4.0</td>\n",
       "      <td>NaN</td>\n",
       "      <td>1.0</td>\n",
       "      <td>1.0</td>\n",
       "      <td>NaN</td>\n",
       "      <td>1.0</td>\n",
       "      <td>18.0</td>\n",
       "      <td>11.0</td>\n",
       "      <td>3.0</td>\n",
       "      <td>...</td>\n",
       "      <td>19.0</td>\n",
       "      <td>53.0</td>\n",
       "      <td>152.0</td>\n",
       "      <td>181.0</td>\n",
       "      <td>156.0</td>\n",
       "      <td>165.0</td>\n",
       "      <td>169.0</td>\n",
       "      <td>137.0</td>\n",
       "      <td>86.0</td>\n",
       "      <td>71.0</td>\n",
       "    </tr>\n",
       "    <tr>\n",
       "      <th>5</th>\n",
       "      <td>58.0</td>\n",
       "      <td>27.0</td>\n",
       "      <td>18.0</td>\n",
       "      <td>2.0</td>\n",
       "      <td>1.0</td>\n",
       "      <td>NaN</td>\n",
       "      <td>1.0</td>\n",
       "      <td>5.0</td>\n",
       "      <td>2.0</td>\n",
       "      <td>29.0</td>\n",
       "      <td>...</td>\n",
       "      <td>49.0</td>\n",
       "      <td>69.0</td>\n",
       "      <td>78.0</td>\n",
       "      <td>100.0</td>\n",
       "      <td>81.0</td>\n",
       "      <td>72.0</td>\n",
       "      <td>83.0</td>\n",
       "      <td>61.0</td>\n",
       "      <td>71.0</td>\n",
       "      <td>45.0</td>\n",
       "    </tr>\n",
       "    <tr>\n",
       "      <th>6</th>\n",
       "      <td>35.0</td>\n",
       "      <td>29.0</td>\n",
       "      <td>10.0</td>\n",
       "      <td>10.0</td>\n",
       "      <td>10.0</td>\n",
       "      <td>NaN</td>\n",
       "      <td>NaN</td>\n",
       "      <td>3.0</td>\n",
       "      <td>21.0</td>\n",
       "      <td>35.0</td>\n",
       "      <td>...</td>\n",
       "      <td>30.0</td>\n",
       "      <td>27.0</td>\n",
       "      <td>34.0</td>\n",
       "      <td>47.0</td>\n",
       "      <td>54.0</td>\n",
       "      <td>49.0</td>\n",
       "      <td>45.0</td>\n",
       "      <td>30.0</td>\n",
       "      <td>23.0</td>\n",
       "      <td>18.0</td>\n",
       "    </tr>\n",
       "  </tbody>\n",
       "</table>\n",
       "<p>7 rows × 24 columns</p>\n",
       "</div>"
      ],
      "text/plain": [
       "check_hour    0     1     2     3     4    5    6     7     8     9   ...  \\\n",
       "weekdays                                                              ...   \n",
       "0           11.0   2.0   1.0   NaN   1.0  NaN  1.0   4.0  21.0   1.0  ...   \n",
       "1           10.0   7.0   6.0   2.0   6.0  1.0  NaN   9.0   4.0   6.0  ...   \n",
       "2           23.0  11.0   1.0  11.0   5.0  NaN  NaN   4.0   4.0  13.0  ...   \n",
       "3           19.0   2.0   2.0   5.0   NaN  NaN  NaN   5.0  10.0   8.0  ...   \n",
       "4           22.0   4.0   NaN   1.0   1.0  NaN  1.0  18.0  11.0   3.0  ...   \n",
       "5           58.0  27.0  18.0   2.0   1.0  NaN  1.0   5.0   2.0  29.0  ...   \n",
       "6           35.0  29.0  10.0  10.0  10.0  NaN  NaN   3.0  21.0  35.0  ...   \n",
       "\n",
       "check_hour    14    15     16     17     18     19     20     21    22    23  \n",
       "weekdays                                                                      \n",
       "0           16.0  38.0   61.0  115.0  142.0   86.0   71.0   42.0  42.0  14.0  \n",
       "1            4.0  19.0   56.0   84.0  108.0   89.0   75.0   67.0  42.0  23.0  \n",
       "2           11.0  24.0   56.0   88.0  103.0   98.0   63.0   51.0  59.0  41.0  \n",
       "3           25.0  46.0   55.0  100.0  132.0  113.0   71.0   48.0  43.0  45.0  \n",
       "4           19.0  53.0  152.0  181.0  156.0  165.0  169.0  137.0  86.0  71.0  \n",
       "5           49.0  69.0   78.0  100.0   81.0   72.0   83.0   61.0  71.0  45.0  \n",
       "6           30.0  27.0   34.0   47.0   54.0   49.0   45.0   30.0  23.0  18.0  \n",
       "\n",
       "[7 rows x 24 columns]"
      ]
     },
     "execution_count": 50,
     "metadata": {},
     "output_type": "execute_result"
    }
   ],
   "source": [
    "#создаём сводную табличку количества чекинов по времени в зависимости от дня недели\n",
    "\n",
    "checkins['check_hour'] = checkins['created_at'].dt.hour\n",
    "ppop = pd.pivot_table(checkins, values='beer_name', index='weekdays', columns='check_hour', aggfunc='count')\n",
    "ppop"
   ]
  },
  {
   "cell_type": "code",
   "execution_count": 51,
   "id": "54b3b45e",
   "metadata": {},
   "outputs": [],
   "source": [
    "# импортируем код со stackoverflow.com (нужно в нём когда-нибудь разобраться)\n",
    "\n",
    "import matplotlib.cm as cm\n",
    "import matplotlib as mpl\n",
    "\n",
    "def pie_heatmap(table, cmap=cm.gnuplot, vmin=None, vmax=None,inner_r=0.25, pie_args={}):\n",
    "    n, m = table.shape\n",
    "    vmin= table.min().min() if vmin is None else vmin\n",
    "    vmax= table.max().max() if vmax is None else vmax\n",
    "\n",
    "    centre_circle = plt.Circle((0,0),inner_r,edgecolor='black',facecolor='white',fill=True,linewidth=0.25)\n",
    "    plt.gcf().gca().add_artist(centre_circle)\n",
    "    norm = mpl.colors.Normalize(vmin=vmin, vmax=vmax)\n",
    "    cmapper = cm.ScalarMappable(norm=norm, cmap=cmap)\n",
    "    for i, (row_name, row) in enumerate(table.iterrows()):\n",
    "        labels = None if i > 0 else table.columns\n",
    "        wedges = plt.pie([1] * m,radius=inner_r+float(n-i)/n, colors=[cmapper.to_rgba(x) for x in row.values], \n",
    "            labels=labels, startangle=90, counterclock=False, wedgeprops={'linewidth':-1}, **pie_args)\n",
    "        plt.setp(wedges[0], edgecolor='white',linewidth=1.5)\n",
    "        wedges = plt.pie([1], radius=inner_r+float(n-i-1)/n, colors=['w'], labels=[row_name], startangle=-90, wedgeprops={'linewidth':0})\n",
    "        plt.setp(wedges[0], edgecolor='white',linewidth=1.5)"
   ]
  },
  {
   "cell_type": "code",
   "execution_count": 52,
   "id": "5e4b6453",
   "metadata": {},
   "outputs": [
    {
     "data": {
      "image/png": "[encoded data removed]",
      "text/plain": [
       "<Figure size 576x576 with 1 Axes>"
      ]
     },
     "metadata": {},
     "output_type": "display_data"
    }
   ],
   "source": [
    "#строим тепловую карту в завимисости от времени потребления \n",
    "\n",
    "plt.figure(figsize=(8,8))\n",
    "pie_heatmap(ppop, vmin=-20,vmax=80,inner_r=0.2)\n",
    "\n",
    "plt.show()"
   ]
  },
  {
   "cell_type": "code",
   "execution_count": 53,
   "id": "75094607",
   "metadata": {
    "scrolled": true
   },
   "outputs": [
    {
     "name": "stdout",
     "output_type": "stream",
     "text": [
      "[957, 510, 263, 241, 289]\n"
     ]
    }
   ],
   "source": [
    "#сколько дней требовалось на каждую тысячу чекинов\n",
    "\n",
    "check = [0, 999, 1999, 2999, 3999, 4999]\n",
    "days = []\n",
    "for i in range(1,len(check)):\n",
    "    x = check[i] - check[i-1]\n",
    "    sum = checkins_drop.iloc[check[i]]['created_at'] - checkins_drop.iloc[check[i-1]]['created_at']\n",
    "    sum = sum.days\n",
    "    days.append(sum)\n",
    "\n",
    "print(days)"
   ]
  },
  {
   "cell_type": "code",
   "execution_count": 54,
   "id": "56c88a6f",
   "metadata": {
    "scrolled": true
   },
   "outputs": [
    {
     "data": {
      "image/png": "[encoded data removed]",
      "text/plain": [
       "<Figure size 504x288 with 1 Axes>"
      ]
     },
     "metadata": {},
     "output_type": "display_data"
    }
   ],
   "source": [
    "a = [\"Тысяча\", \"Две\", \"Три\", \"Четыре\", \"Пять\"]\n",
    "\n",
    "plt.figure(figsize=[7,4])\n",
    "plt.plot(a, days, color='green', linewidth = 5)\n",
    "style.use('fivethirtyeight')\n",
    "plt.xlabel(\"Количество тысяч чекинов\")\n",
    "plt.ylabel(\"Количество дней\")\n",
    "plt.text(x = 1.3, y= 1020, s=\"Дней на тысячу\", size = 22, weight='bold', color='red')\n",
    "plt.show()"
   ]
  },
  {
   "cell_type": "markdown",
   "id": "36010fc9",
   "metadata": {},
   "source": [
    "Исходя из вышерасположенных графиков заметно, что за последние три года количество попробованных сортов выросло примерно в два раза. \n",
    "Пик пришёлся на ***2020 год***, в котором количество чекинов стремительно пересекло отметки в 3000 и 4000 тысячи, где был проведён фестивально-отпускной ***август*** с более чем 200 чекинами за месяц. \n",
    "\n",
    "Кроме того, ***август*** является самым активным месяцем по количеству чекинов. Причины всё те же - период отпусков, долгих прогулок по городу, встреч и фестивалей."
   ]
  },
  {
   "cell_type": "markdown",
   "id": "d79b921a",
   "metadata": {},
   "source": [
    "#### #Немного о социализации"
   ]
  },
  {
   "cell_type": "markdown",
   "id": "e5613e00",
   "metadata": {},
   "source": [
    "Или о тех, без кого этой статистики бы не было. Друзья, с которыми чаще всего разделяются чекины. Люди, из-за которых зачастую их так много.\n",
    "\n",
    "Найдём только один показатель - количество вместе попробованного пива."
   ]
  },
  {
   "cell_type": "code",
   "execution_count": 55,
   "id": "24c8d09f",
   "metadata": {},
   "outputs": [
    {
     "data": {
      "text/plain": [
       "Jesse Gray                                                        187\n",
       "Petr M2FIVE                                                        94\n",
       "Дядя Вася                                                          57\n",
       "Jesse Gray,reijii Sakurai                                          52\n",
       "Viktor Shrek                                                       35\n",
       "                                                                 ... \n",
       "reijii Sakurai,Jesse Gray,White Dwarf                               1\n",
       "Дядя Вася,Eugene Acid                                               1\n",
       "July K,Andrey Andreev                                               1\n",
       "Jesse Gray,July K,rOPbIHbI4,Alexander Kolchin,Nikita Zheleznov      1\n",
       "Anna R,Jesse Gray                                                   1\n",
       "Name: tagged_friends, Length: 186, dtype: int64"
      ]
     },
     "execution_count": 55,
     "metadata": {},
     "output_type": "execute_result"
    }
   ],
   "source": [
    "#люди, с которыми я попробовал больше всего сортов\n",
    "\n",
    "notnull = checkins.copy()['tagged_friends'].dropna()\n",
    "notnull.value_counts(dropna=False)"
   ]
  },
  {
   "cell_type": "code",
   "execution_count": 56,
   "id": "65d9a09c",
   "metadata": {
    "scrolled": true
   },
   "outputs": [
    {
     "name": "stdout",
     "output_type": "stream",
     "text": [
      "{'Tatiana Karmanova': 4, 'Beer Addicts': 29, 'Darth Vader': 45, 'Eugene Acid': 61, 'Super Man': 5, 'SULYA': 46, 'July K': 95, 'Jesse Gray': 464, 'Дядя Вася': 73, 'Petr M2FIVE': 127, 'Aleksey Shitikov': 3, \"Alexandr O'Lenin\": 6, 'Мухтар': 2, 'Nof Nof': 2, 'Jeki Admiral  Foweq': 11, 'Anna R': 19, 'Dima Solntsev': 7, 'Nikita Zheleznov': 62, 'Violletta P': 70, 'Hans Jerkov': 10, 'Егор Ющенко': 55, 'Pavel Lebowski': 12, 'Daniil Korolkov': 2, 'Ksenia': 33, 'rOPbIHbI4': 27, 'Alexander Kolchin': 5, 'Golovin Pavel': 3, 'Erkki Ammalainen': 20, 'Вениамин Вкуснямба': 1, 'reijii Sakurai': 121, 'Andrey Andreev': 53, 'Viktor Shrek': 43, 'Roman K': 5, 'Marat Settarov': 3, 'Kirill Tychuk': 8, 'Evgeny Kataev': 35, 'Kirill Burgardt': 14, 'Daniel Pertsovsky': 4, 'White Dwarf': 13, 'Sergey Solovyev': 2, 'O Sh': 2, 'Tony White': 1, 'Max Dmitriev': 3, 'Niki Shmiki': 13, 'Jura Khil': 6, 'Любава Ефремова': 11, 'Kirill Polyak': 2, 'Aleksey Fadeenko': 1, 'Ivan Komarov': 3, 'Нина': 1, 'Karina Gorskova': 1, 'Viktor Sasunov': 5}\n"
     ]
    }
   ],
   "source": [
    "#оформляем всех друзей из чекинов в словарь, считаем количество уникальных значений\n",
    "\n",
    "friends = notnull.apply(lambda x: x.split(',')).to_dict()\n",
    "friends_count={}\n",
    "\n",
    "for k,item in friends.items():\n",
    "    for i in item:\n",
    "        if i in friends_count:\n",
    "            friends_count[i] += 1\n",
    "        else:\n",
    "            friends_count[i] = 1\n",
    "print(friends_count)"
   ]
  },
  {
   "cell_type": "code",
   "execution_count": 57,
   "id": "fa0c7f7f",
   "metadata": {
    "scrolled": true
   },
   "outputs": [
    {
     "name": "stdout",
     "output_type": "stream",
     "text": [
      "{'Eugene Acid': 61, 'July K': 95, 'Jesse Gray': 464, 'Дядя Вася': 73, 'Petr M2FIVE': 127, 'Nikita Zheleznov': 62, 'Violletta P': 70, 'Егор Ющенко': 55, 'reijii Sakurai': 121, 'Andrey Andreev': 53}\n"
     ]
    }
   ],
   "source": [
    "#выбираем друзей, с которыми количество совместных чекинов превышает 50\n",
    "\n",
    "friends_count_50 = {}\n",
    "\n",
    "for k,i in friends_count.items():\n",
    "    if i > 50:\n",
    "        friends_count_50[k] = i\n",
    "    \n",
    "print(friends_count_50)"
   ]
  },
  {
   "cell_type": "code",
   "execution_count": 58,
   "id": "95775fdc",
   "metadata": {},
   "outputs": [
    {
     "data": {
      "image/png": "[encoded data removed]",
      "text/plain": [
       "<Figure size 1440x576 with 1 Axes>"
      ]
     },
     "metadata": {},
     "output_type": "display_data"
    }
   ],
   "source": [
    "#строим график \"социализации\"\n",
    "\n",
    "plt.figure(figsize=[20,8])\n",
    "plt.bar(friends_count_50.keys(), friends_count_50.values(), width=0.5, color='green', edgecolor='black', linewidth=1)\n",
    "style.use('fivethirtyeight')\n",
    "plt.xlabel(\"Друзья\")\n",
    "plt.ylabel(\"Количество совместных чекинов\")\n",
    "plt.text(x = 1.5, y= 480, s=\"Социализация в Untappd\", size = 22, weight='bold', color='red')\n",
    "plt.show()"
   ]
  },
  {
   "cell_type": "markdown",
   "id": "bd795120",
   "metadata": {},
   "source": [
    "## 4.Заключение"
   ]
  },
  {
   "cell_type": "markdown",
   "id": "780c845d",
   "metadata": {},
   "source": [
    "Что можно вычленить из данного проекта?\n",
    "\n",
    "Если рассматривать его серьёзно и для \"потомков\", то ничего.\n",
    "Если смотреть на него \"невооружённым глазом\", то можно найти тренажёр, развлечение и попытку самоанализа. \n",
    "\n",
    "Можем ли мы оперировать имеющимися данными? Почему нет?\n",
    "\n",
    "Например, увидеть куда движется крафтовая индустрия на примере большого количества \"саур\" и \"смузи\" сортов. Или же посмотреть, как ведёт себя человек увлечённый, как его втягивает в себя социальная сеть и очередной пример \"маленького мира\" в мире большом. \n",
    "И вообще, как и чем может быть инетересна такая наука, как статистика, и как красиво выглядят числа.\n",
    "\n",
    "Особенно, когда их силуэт расплывается в отблеске пустого стекла.\n",
    "\n",
    "Хотя по факту, не осушив бокал за успех, мы наткнёмся на очевидные проблемы выборок и репрезентативности."
   ]
  },
  {
   "cell_type": "markdown",
   "id": "e0d8fdb2",
   "metadata": {},
   "source": [
    "## 5. Проверка статистических гипотез (в процессе)"
   ]
  },
  {
   "cell_type": "markdown",
   "id": "b2faf373",
   "metadata": {},
   "source": [
    "В данном разделе проводится постепенная проверка собственных знаний и испытание действий по проверке статистических гипотез. На данный момент проведены: \n",
    "\n",
    "- ти-тест, в котором проверена гипотеза об однородности выставления оценок российским и американским сортам;\n",
    "- anova, в котором рассмотрено влияние производителя на выставление оценки сорту пива.\n",
    "\n",
    "Однако данные результаты являются лишь мгновенным применением имеющихся формул. В дальнейшем будет необходимо попробовать такие процессы, как проверка на нормальность, изменение объёма выборок, поправки Бонфирони и Тьюки, непараметрику для т-распределений."
   ]
  },
  {
   "cell_type": "code",
   "execution_count": 59,
   "id": "de14ec79",
   "metadata": {},
   "outputs": [],
   "source": [
    "#импорт\n",
    "\n",
    "from scipy.stats import ttest_ind\n",
    "from scipy.stats import f_oneway\n",
    "from scipy.stats import kruskal"
   ]
  },
  {
   "cell_type": "markdown",
   "id": "ec35385e",
   "metadata": {},
   "source": [
    "### Критерий Стьюдента"
   ]
  },
  {
   "cell_type": "markdown",
   "id": "a3f2bf4e",
   "metadata": {},
   "source": [
    "Различаются ли между собой средние выборок генеральной совокупности всех оценок чекинов, если они сделаны для пива из разных (с некоторых точек зрения - \"конкурирующих\") стран.\n",
    "\n",
    "H0 - средние значения для сортов из России и США не различаются;\n",
    "\n",
    "alpha - уровень значимости - 0.05"
   ]
  },
  {
   "cell_type": "code",
   "execution_count": 60,
   "id": "c03b366e",
   "metadata": {},
   "outputs": [
    {
     "data": {
      "text/plain": [
       "<function RandomState.seed>"
      ]
     },
     "execution_count": 60,
     "metadata": {},
     "output_type": "execute_result"
    }
   ],
   "source": [
    "#создаём выборки по 25 чекинов для российского и американского пива\n",
    "\n",
    "data_usa = checkins_drop_notnan[checkins_drop_notnan['brewery_country'] == 'United States'].sample(30)\n",
    "data_rus = checkins_drop_notnan[checkins_drop_notnan['brewery_country'] == 'Russia'].sample(30)\n",
    "np.random.seed"
   ]
  },
  {
   "cell_type": "code",
   "execution_count": 61,
   "id": "f609b972",
   "metadata": {
    "scrolled": false
   },
   "outputs": [
    {
     "data": {
      "text/plain": [
       "3.75    11\n",
       "4.00     5\n",
       "3.50     3\n",
       "3.70     2\n",
       "3.90     2\n",
       "4.10     2\n",
       "3.80     2\n",
       "3.30     1\n",
       "4.50     1\n",
       "3.20     1\n",
       "Name: rating_score, dtype: int64"
      ]
     },
     "execution_count": 61,
     "metadata": {},
     "output_type": "execute_result"
    }
   ],
   "source": [
    "#проверяем значения, попавшие в выборки\n",
    "\n",
    "data_usa['rating_score'].value_counts(dropna=False)"
   ]
  },
  {
   "cell_type": "code",
   "execution_count": 62,
   "id": "3bec6510",
   "metadata": {},
   "outputs": [
    {
     "data": {
      "text/plain": [
       "4.00    6\n",
       "3.50    5\n",
       "3.75    5\n",
       "3.90    2\n",
       "3.60    2\n",
       "3.80    2\n",
       "3.10    2\n",
       "3.70    1\n",
       "2.25    1\n",
       "2.80    1\n",
       "3.00    1\n",
       "3.25    1\n",
       "3.40    1\n",
       "Name: rating_score, dtype: int64"
      ]
     },
     "execution_count": 62,
     "metadata": {},
     "output_type": "execute_result"
    }
   ],
   "source": [
    "data_rus['rating_score'].value_counts(dropna=False)"
   ]
  },
  {
   "cell_type": "code",
   "execution_count": 63,
   "id": "30c5a4a2",
   "metadata": {},
   "outputs": [
    {
     "name": "stdout",
     "output_type": "stream",
     "text": [
      "Statistics=2.396, p=0.020\n"
     ]
    }
   ],
   "source": [
    "#используем scipy.stats для вывода значения статистики и уровня значимости\n",
    "\n",
    "stat, p = ttest_ind(data_usa['rating_score'], data_rus['rating_score'])\n",
    "print('Statistics=%.3f, p=%.3f' % (stat, p))"
   ]
  },
  {
   "cell_type": "code",
   "execution_count": 64,
   "id": "5aafdc1a",
   "metadata": {},
   "outputs": [
    {
     "name": "stdout",
     "output_type": "stream",
     "text": [
      "Распределения различаются (отклоняем H0)\n"
     ]
    }
   ],
   "source": [
    "#решаем, принять или отклонить нулевую гипотезу\n",
    "\n",
    "alpha = 0.05\n",
    "if p > alpha:\n",
    "\tprint('Распределения одинаковы (мы не можем отклонить H0)')\n",
    "else:\n",
    "\tprint('Распределения различаются (отклоняем H0)')"
   ]
  },
  {
   "cell_type": "markdown",
   "id": "64b3ed57",
   "metadata": {},
   "source": [
    "Для последующего анализа необходимо провести проверку на нормальность распределений."
   ]
  },
  {
   "cell_type": "markdown",
   "id": "8d82ef33",
   "metadata": {},
   "source": [
    "### Дисперсионный анализ "
   ]
  },
  {
   "cell_type": "markdown",
   "id": "eac388e1",
   "metadata": {},
   "source": [
    "Очередь для дисперсионного анализа. Для него сделаем выборки из чекинов, отсортированных по пивоварням. В анализе будут участовать пять наиболее известных российских крафтовых пивоварен. \n",
    "\n",
    "Задание: Используя анализ однофакторной модели, проверим гипотезу о влиянии производителя на оценку качества продукции.\n",
    "\n",
    "Н0 - средние каждой выборки не отличаются\n",
    "\n",
    "alpha - уровень значимости - 0.05"
   ]
  },
  {
   "cell_type": "code",
   "execution_count": 65,
   "id": "080a5987",
   "metadata": {},
   "outputs": [],
   "source": [
    "#создаём выборки оценок для различных пивоварен (по 30 чекинов) \n",
    "np.random.seed\n",
    "data_af = checkins_drop_notnan[checkins_drop_notnan['brewery_name'] == 'AF Brew'].sample(25)\n",
    "data_stamm = checkins_drop_notnan[checkins_drop_notnan['brewery_name'] == 'Stamm Brewing'].sample(25)\n",
    "data_zagovor = checkins_drop_notnan[checkins_drop_notnan['brewery_name'] == 'Zagovor Brewery'].sample(25)\n",
    "data_village = checkins_drop_notnan[checkins_drop_notnan['brewery_name'] == 'Big Village Brewery'].sample(25)\n",
    "data_dieta = checkins_drop_notnan[checkins_drop_notnan['brewery_name'] == 'DIETA / ДИЕТА'].sample(25)\n"
   ]
  },
  {
   "cell_type": "code",
   "execution_count": 66,
   "id": "c979ee88",
   "metadata": {},
   "outputs": [
    {
     "name": "stdout",
     "output_type": "stream",
     "text": [
      "Statistics=8.094, p=0.000\n"
     ]
    }
   ],
   "source": [
    "#считаем статистику и p_value\n",
    "\n",
    "stats, p2 = f_oneway(data_af['global_weighted_rating_score'], data_stamm['global_weighted_rating_score'], data_zagovor['global_weighted_rating_score'], data_village['global_weighted_rating_score'], data_dieta['global_weighted_rating_score'])\n",
    "print('Statistics=%.3f, p=%.3f' % (stats, p2))"
   ]
  },
  {
   "cell_type": "code",
   "execution_count": 67,
   "id": "459f30b7",
   "metadata": {},
   "outputs": [
    {
     "name": "stdout",
     "output_type": "stream",
     "text": [
      "Распределения различаются (отклоняем H0)\n"
     ]
    }
   ],
   "source": [
    "#решаем, принять или отклонить нулевую гипотезу\n",
    "\n",
    "alpha = 0.05\n",
    "if p2 > alpha:\n",
    "\tprint('Распределения одинаковы (мы не можем отклонить H0)')\n",
    "else:\n",
    "\tprint('Распределения различаются (отклоняем H0)')"
   ]
  },
  {
   "cell_type": "markdown",
   "id": "79579923",
   "metadata": {},
   "source": [
    "Проверяем те же выборки при помощи непараметрического подхода - Критерия Краскелла-Уоллеса"
   ]
  },
  {
   "cell_type": "code",
   "execution_count": 68,
   "id": "e9b0e817",
   "metadata": {},
   "outputs": [
    {
     "name": "stdout",
     "output_type": "stream",
     "text": [
      "Statistics=29.075, p=0.000\n"
     ]
    }
   ],
   "source": [
    "stat, p = kruskal(data_af['global_weighted_rating_score'], data_stamm['global_weighted_rating_score'], data_zagovor['global_weighted_rating_score'], data_village['global_weighted_rating_score'], data_dieta['global_weighted_rating_score'])\n",
    "print('Statistics=%.3f, p=%.3f' % (stat, p))"
   ]
  },
  {
   "cell_type": "code",
   "execution_count": 69,
   "id": "002e19b1",
   "metadata": {},
   "outputs": [
    {
     "name": "stdout",
     "output_type": "stream",
     "text": [
      "Распределения различаются (отклоняем H0)\n"
     ]
    }
   ],
   "source": [
    "#решаем, принять или отклонить нулевую гипотезу\n",
    "\n",
    "alpha = 0.05\n",
    "if p > alpha:\n",
    "\tprint('Распределения одинаковы (мы не можем отклонить H0)')\n",
    "else:\n",
    "\tprint('Распределения различаются (отклоняем H0)')"
   ]
  },
  {
   "cell_type": "markdown",
   "id": "f3e3fc44",
   "metadata": {},
   "source": [
    "Результаты однофакторного ANOVA и критерия Краскелла-Уоллеса совпадают.\n",
    "\n",
    "Однако достоверность эксперимента следует проверить на разных количествах оценок, попадающих в выборку, а также на различных выборках. Также следует использовать такие инструменты, как поправка Бонфирони или критерий Тьюки."
   ]
  },
  {
   "cell_type": "markdown",
   "id": "7f175093",
   "metadata": {},
   "source": [
    "### Корреляция и линейная регрессия"
   ]
  },
  {
   "cell_type": "code",
   "execution_count": 70,
   "id": "dbd3b336",
   "metadata": {},
   "outputs": [
    {
     "data": {
      "text/plain": [
       "0.6135990767042444"
      ]
     },
     "execution_count": 70,
     "metadata": {},
     "output_type": "execute_result"
    }
   ],
   "source": [
    "#проверяем наличие корреляции между двумя величинами - собственной оценкой сортов и оценкой сообщества\n",
    "\n",
    "checkins_drop_notnan['rating_score'].corr(checkins_drop_notnan['global_weighted_rating_score'])"
   ]
  },
  {
   "cell_type": "markdown",
   "id": "209a8432",
   "metadata": {},
   "source": [
    "#      Продолжение следует..."
   ]
  }
 ],
 "metadata": {
  "kernelspec": {
   "display_name": "Python 3",
   "language": "python",
   "name": "python3"
  },
  "language_info": {
   "codemirror_mode": {
    "name": "ipython",
    "version": 3
   },
   "file_extension": ".py",
   "mimetype": "text/x-python",
   "name": "python",
   "nbconvert_exporter": "python",
   "pygments_lexer": "ipython3",
   "version": "3.8.8"
  }
 },
 "nbformat": 4,
 "nbformat_minor": 5
}
