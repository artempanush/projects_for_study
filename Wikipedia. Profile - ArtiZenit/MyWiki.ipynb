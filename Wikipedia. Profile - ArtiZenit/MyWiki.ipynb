{
 "cells": [
  {
   "cell_type": "markdown",
   "id": "4b36998d",
   "metadata": {},
   "source": [
    "В данном проекте будет изучена статистика заведённых мною статей в русскоязычном сегменте Википедии."
   ]
  },
  {
   "cell_type": "markdown",
   "id": "4b85bece",
   "metadata": {},
   "source": [
    "### Подготовка датасета"
   ]
  },
  {
   "cell_type": "markdown",
   "id": "4511d190",
   "metadata": {},
   "source": [
    "На этом этапе мы подготовим данные для удобства формирования последующих результатов. Для этого нужно будет переименовать названия колонок, удалить колонки с отсутствующими значениям, заполним значения текущего размера статей в кортежах, где размер не указан, а также переведём колонку с датой создания статьи к нужному типу. "
   ]
  },
  {
   "cell_type": "code",
   "execution_count": 69,
   "id": "7c9914a8",
   "metadata": {
    "scrolled": true
   },
   "outputs": [
    {
     "data": {
      "text/html": [
       "<div>\n",
       "<style scoped>\n",
       "    .dataframe tbody tr th:only-of-type {\n",
       "        vertical-align: middle;\n",
       "    }\n",
       "\n",
       "    .dataframe tbody tr th {\n",
       "        vertical-align: top;\n",
       "    }\n",
       "\n",
       "    .dataframe thead th {\n",
       "        text-align: right;\n",
       "    }\n",
       "</style>\n",
       "<table border=\"1\" class=\"dataframe\">\n",
       "  <thead>\n",
       "    <tr style=\"text-align: right;\">\n",
       "      <th></th>\n",
       "      <th>Пространство имён</th>\n",
       "      <th>Заголовок страницы</th>\n",
       "      <th>Дата</th>\n",
       "      <th>Исходный размер</th>\n",
       "      <th>Текущий размер</th>\n",
       "    </tr>\n",
       "  </thead>\n",
       "  <tbody>\n",
       "    <tr>\n",
       "      <th>0</th>\n",
       "      <td>0</td>\n",
       "      <td>Бркляча, Марко</td>\n",
       "      <td>2021-10-20 06:24</td>\n",
       "      <td>3077</td>\n",
       "      <td>5722.0</td>\n",
       "    </tr>\n",
       "    <tr>\n",
       "      <th>1</th>\n",
       "      <td>0</td>\n",
       "      <td>Диамбу, Мамади</td>\n",
       "      <td>2021-10-13 05:50</td>\n",
       "      <td>6413</td>\n",
       "      <td>6469.0</td>\n",
       "    </tr>\n",
       "    <tr>\n",
       "      <th>2</th>\n",
       "      <td>0</td>\n",
       "      <td>Конате, Карим</td>\n",
       "      <td>2021-10-11 05:49</td>\n",
       "      <td>4343</td>\n",
       "      <td>5438.0</td>\n",
       "    </tr>\n",
       "    <tr>\n",
       "      <th>3</th>\n",
       "      <td>0</td>\n",
       "      <td>Бесио, Алессио</td>\n",
       "      <td>2021-10-08 06:28</td>\n",
       "      <td>3351</td>\n",
       "      <td>5682.0</td>\n",
       "    </tr>\n",
       "    <tr>\n",
       "      <th>4</th>\n",
       "      <td>0</td>\n",
       "      <td>Макуана, Бени</td>\n",
       "      <td>2021-10-04 06:47</td>\n",
       "      <td>4959</td>\n",
       "      <td>7288.0</td>\n",
       "    </tr>\n",
       "  </tbody>\n",
       "</table>\n",
       "</div>"
      ],
      "text/plain": [
       "   Пространство имён Заголовок страницы              Дата  Исходный размер  \\\n",
       "0                  0     Бркляча, Марко  2021-10-20 06:24             3077   \n",
       "1                  0     Диамбу, Мамади  2021-10-13 05:50             6413   \n",
       "2                  0      Конате, Карим  2021-10-11 05:49             4343   \n",
       "3                  0     Бесио, Алессио  2021-10-08 06:28             3351   \n",
       "4                  0      Макуана, Бени  2021-10-04 06:47             4959   \n",
       "\n",
       "   Текущий размер  \n",
       "0          5722.0  \n",
       "1          6469.0  \n",
       "2          5438.0  \n",
       "3          5682.0  \n",
       "4          7288.0  "
      ]
     },
     "execution_count": 69,
     "metadata": {},
     "output_type": "execute_result"
    }
   ],
   "source": [
    "#импортируем библиотеки и датасет\n",
    "\n",
    "import pandas as pd\n",
    "import numpy as np\n",
    "import matplotlib.pyplot as plt\n",
    "\n",
    "wiki = pd.read_csv('wikipedia2021.csv')\n",
    "wiki.head()"
   ]
  },
  {
   "cell_type": "code",
   "execution_count": 70,
   "id": "ed4f7cae",
   "metadata": {
    "scrolled": false
   },
   "outputs": [
    {
     "data": {
      "text/html": [
       "<div>\n",
       "<style scoped>\n",
       "    .dataframe tbody tr th:only-of-type {\n",
       "        vertical-align: middle;\n",
       "    }\n",
       "\n",
       "    .dataframe tbody tr th {\n",
       "        vertical-align: top;\n",
       "    }\n",
       "\n",
       "    .dataframe thead th {\n",
       "        text-align: right;\n",
       "    }\n",
       "</style>\n",
       "<table border=\"1\" class=\"dataframe\">\n",
       "  <thead>\n",
       "    <tr style=\"text-align: right;\">\n",
       "      <th></th>\n",
       "      <th>space_name</th>\n",
       "      <th>Заголовок страницы</th>\n",
       "      <th>date</th>\n",
       "      <th>first_volume</th>\n",
       "      <th>last_volume</th>\n",
       "    </tr>\n",
       "  </thead>\n",
       "  <tbody>\n",
       "    <tr>\n",
       "      <th>0</th>\n",
       "      <td>0</td>\n",
       "      <td>Бркляча, Марко</td>\n",
       "      <td>2021-10-20 06:24</td>\n",
       "      <td>3077</td>\n",
       "      <td>5722.0</td>\n",
       "    </tr>\n",
       "    <tr>\n",
       "      <th>1</th>\n",
       "      <td>0</td>\n",
       "      <td>Диамбу, Мамади</td>\n",
       "      <td>2021-10-13 05:50</td>\n",
       "      <td>6413</td>\n",
       "      <td>6469.0</td>\n",
       "    </tr>\n",
       "    <tr>\n",
       "      <th>2</th>\n",
       "      <td>0</td>\n",
       "      <td>Конате, Карим</td>\n",
       "      <td>2021-10-11 05:49</td>\n",
       "      <td>4343</td>\n",
       "      <td>5438.0</td>\n",
       "    </tr>\n",
       "    <tr>\n",
       "      <th>3</th>\n",
       "      <td>0</td>\n",
       "      <td>Бесио, Алессио</td>\n",
       "      <td>2021-10-08 06:28</td>\n",
       "      <td>3351</td>\n",
       "      <td>5682.0</td>\n",
       "    </tr>\n",
       "    <tr>\n",
       "      <th>4</th>\n",
       "      <td>0</td>\n",
       "      <td>Макуана, Бени</td>\n",
       "      <td>2021-10-04 06:47</td>\n",
       "      <td>4959</td>\n",
       "      <td>7288.0</td>\n",
       "    </tr>\n",
       "  </tbody>\n",
       "</table>\n",
       "</div>"
      ],
      "text/plain": [
       "   space_name Заголовок страницы              date  first_volume  last_volume\n",
       "0           0     Бркляча, Марко  2021-10-20 06:24          3077       5722.0\n",
       "1           0     Диамбу, Мамади  2021-10-13 05:50          6413       6469.0\n",
       "2           0      Конате, Карим  2021-10-11 05:49          4343       5438.0\n",
       "3           0     Бесио, Алессио  2021-10-08 06:28          3351       5682.0\n",
       "4           0      Макуана, Бени  2021-10-04 06:47          4959       7288.0"
      ]
     },
     "execution_count": 70,
     "metadata": {},
     "output_type": "execute_result"
    }
   ],
   "source": [
    "#переименовываем колонки\n",
    "\n",
    "wiki.rename(columns={'Пространство имён':'space_name', \n",
    "                     \"Заголовок страницы\" : 'title', \n",
    "                     'Дата':'date', \n",
    "                     'Исходный размер':'first_volume',\n",
    "                     'Текущий размер':'last_volume'}, inplace=True)\n",
    "wiki.head()"
   ]
  },
  {
   "cell_type": "code",
   "execution_count": 71,
   "id": "848d74da",
   "metadata": {
    "scrolled": true
   },
   "outputs": [
    {
     "data": {
      "text/plain": [
       "0    1000\n",
       "Name: space_name, dtype: int64"
      ]
     },
     "execution_count": 71,
     "metadata": {},
     "output_type": "execute_result"
    }
   ],
   "source": [
    "wiki.space_name.value_counts(dropna=False)"
   ]
  },
  {
   "cell_type": "code",
   "execution_count": 72,
   "id": "8c719815",
   "metadata": {},
   "outputs": [],
   "source": [
    "wiki.drop('space_name', axis=1, inplace=True)"
   ]
  },
  {
   "cell_type": "code",
   "execution_count": 73,
   "id": "926bfbe5",
   "metadata": {},
   "outputs": [],
   "source": [
    "mean_last_volume = wiki.last_volume.mean()"
   ]
  },
  {
   "cell_type": "code",
   "execution_count": 74,
   "id": "c941059d",
   "metadata": {},
   "outputs": [],
   "source": [
    "#заполним отсутствующие значения средним по столбцу\n",
    "\n",
    "wiki.last_volume.fillna(mean_last_volume, inplace=True)"
   ]
  },
  {
   "cell_type": "code",
   "execution_count": 75,
   "id": "e39572ca",
   "metadata": {},
   "outputs": [],
   "source": [
    "#переведём временной столбец в тип datetime64\n",
    "\n",
    "wiki['date'] = pd.to_datetime(wiki.date)\n",
    "wiki['year'] = wiki.date.dt.year\n",
    "wiki['month'] = wiki.date.dt.month"
   ]
  },
  {
   "cell_type": "markdown",
   "id": "ea2e4f6a",
   "metadata": {},
   "source": [
    "### Статьи по времени создания"
   ]
  },
  {
   "cell_type": "markdown",
   "id": "e8982c4c",
   "metadata": {},
   "source": [
    "В данном разделе мы посмотрим, как создавались статьи в зависимости от временных периодов, построим гистограммы распределения статей в зависимости от годов и месяцев."
   ]
  },
  {
   "cell_type": "code",
   "execution_count": 76,
   "id": "5b1a320f",
   "metadata": {},
   "outputs": [
    {
     "data": {
      "image/png": "[encoded data removed]",
      "text/plain": [
       "<Figure size 432x288 with 1 Axes>"
      ]
     },
     "metadata": {
      "needs_background": "light"
     },
     "output_type": "display_data"
    }
   ],
   "source": [
    "#строим гистограмму распреления созданных статей по годам\n",
    "\n",
    "wiki.hist('year')\n",
    "plt.xlabel('year')\n",
    "plt.ylabel('counts')\n",
    "plt.title('Counts of articles by year')\n",
    "plt.show()"
   ]
  },
  {
   "cell_type": "code",
   "execution_count": 77,
   "id": "c104ea15",
   "metadata": {
    "scrolled": false
   },
   "outputs": [
    {
     "data": {
      "image/png": "[encoded data removed]",
      "text/plain": [
       "<Figure size 432x288 with 1 Axes>"
      ]
     },
     "metadata": {
      "needs_background": "light"
     },
     "output_type": "display_data"
    }
   ],
   "source": [
    "wiki.hist('month')\n",
    "plt.xlabel('month')\n",
    "plt.ylabel('counts')\n",
    "plt.title('Counts of articles by month')\n",
    "plt.show()"
   ]
  },
  {
   "cell_type": "markdown",
   "id": "b6eb45b2",
   "metadata": {},
   "source": [
    "Из графиков видно, что страницы Википедии заводились мной **циклически**, в наиболее удобные периоды жизни с последующим западением мотивации. Если отталкиваться от месячного распределения, видно, что работа с Википедией синхронизированно начинается с **началом лета**. Пик по количеству статей приходится на **июль**. К концу года интенсивность работы также падет. "
   ]
  },
  {
   "cell_type": "markdown",
   "id": "f67eaba5",
   "metadata": {},
   "source": [
    "### Описательная статистика объёма статей"
   ]
  },
  {
   "cell_type": "markdown",
   "id": "4b9b4aec",
   "metadata": {},
   "source": [
    "В данном разделе представлены ключевые показатели объёма статей. В частности, можно будет посмотреть на средние значения первичного и текущего объёма страниц, посмотреть на их средние значения, сгруппированные по годам создания, увидеть графики распределения объёмов статей в зависимости от времени, а также непосредственно в 2021 году.\n",
    "\n",
    "Также будут выведены наибольшие и наименьшие статьи по исходному и текущему объёмам."
   ]
  },
  {
   "cell_type": "code",
   "execution_count": 78,
   "id": "f45f2ed6",
   "metadata": {},
   "outputs": [
    {
     "data": {
      "text/plain": [
       "4230.37"
      ]
     },
     "execution_count": 78,
     "metadata": {},
     "output_type": "execute_result"
    }
   ],
   "source": [
    "#среднее значение исходных размеров созданных статей\n",
    "\n",
    "round(wiki.first_volume.mean(), 2)"
   ]
  },
  {
   "cell_type": "code",
   "execution_count": 79,
   "id": "48126eb1",
   "metadata": {},
   "outputs": [
    {
     "data": {
      "text/plain": [
       "7565.51"
      ]
     },
     "execution_count": 79,
     "metadata": {},
     "output_type": "execute_result"
    }
   ],
   "source": [
    "#среднее значение текущих размеров созданных статей\n",
    "\n",
    "round(wiki.last_volume.mean(),2)"
   ]
  },
  {
   "cell_type": "code",
   "execution_count": 80,
   "id": "185ee41a",
   "metadata": {},
   "outputs": [
    {
     "data": {
      "text/plain": [
       "year\n",
       "2009    3998.602273\n",
       "2010    6841.795918\n",
       "2011    7686.590909\n",
       "2012    8066.483871\n",
       "2016    3820.238889\n",
       "2017    3282.420732\n",
       "2018    3426.017241\n",
       "2020    3085.138889\n",
       "2021    4246.607477\n",
       "Name: first_volume, dtype: float64"
      ]
     },
     "execution_count": 80,
     "metadata": {},
     "output_type": "execute_result"
    }
   ],
   "source": [
    "#средние объёмы исходных сохранений в зависимости от года публикации\n",
    "\n",
    "wiki.groupby('year')['first_volume'].agg(np.average)"
   ]
  },
  {
   "cell_type": "code",
   "execution_count": 81,
   "id": "38a01080",
   "metadata": {},
   "outputs": [
    {
     "data": {
      "text/plain": [
       "year\n",
       "2009    10078.477273\n",
       "2010    12584.122675\n",
       "2011    14837.227273\n",
       "2012     9941.096774\n",
       "2016     6637.812515\n",
       "2017     6590.201220\n",
       "2018     6251.568966\n",
       "2020     5517.986111\n",
       "2021     5424.962617\n",
       "Name: last_volume, dtype: float64"
      ]
     },
     "execution_count": 81,
     "metadata": {},
     "output_type": "execute_result"
    }
   ],
   "source": [
    "#средние объёмы текущих сохранений в зависимости от года публикации\n",
    "\n",
    "wiki.groupby('year')['last_volume'].agg(np.average)"
   ]
  },
  {
   "cell_type": "code",
   "execution_count": 82,
   "id": "4cb4fb0b",
   "metadata": {},
   "outputs": [
    {
     "data": {
      "text/plain": [
       "(2562.5, 4718.0]      545\n",
       "(4718.0, 6873.5]      227\n",
       "(385.444, 2562.5]     143\n",
       "(6873.5, 9029.0]       51\n",
       "(9029.0, 11184.5]      24\n",
       "(13340.0, 15495.5]      5\n",
       "(11184.5, 13340.0]      3\n",
       "(19806.5, 21962.0]      2\n",
       "(15495.5, 17651.0]      0\n",
       "(17651.0, 19806.5]      0\n",
       "Name: first_volume, dtype: int64"
      ]
     },
     "execution_count": 82,
     "metadata": {},
     "output_type": "execute_result"
    }
   ],
   "source": [
    "wiki.first_volume.value_counts(bins=10)"
   ]
  },
  {
   "cell_type": "code",
   "execution_count": 83,
   "id": "a46c5042",
   "metadata": {
    "scrolled": true
   },
   "outputs": [
    {
     "data": {
      "image/png": "[encoded data removed]",
      "text/plain": [
       "<Figure size 432x288 with 1 Axes>"
      ]
     },
     "metadata": {
      "needs_background": "light"
     },
     "output_type": "display_data"
    }
   ],
   "source": [
    "#строим точечный график с изображением стартового объёма статей по годам\n",
    "\n",
    "plt.scatter(x= wiki.date, y=wiki.first_volume)\n",
    "plt.xlabel('Год')\n",
    "plt.ylabel('Объём статьи (в байтах)')\n",
    "plt.title('Стартовый объём статей по годам')\n",
    "plt.show()"
   ]
  },
  {
   "cell_type": "code",
   "execution_count": 102,
   "id": "23149c94",
   "metadata": {
    "scrolled": true
   },
   "outputs": [
    {
     "data": {
      "image/png": "[encoded data removed]",
      "text/plain": [
       "<Figure size 432x288 with 1 Axes>"
      ]
     },
     "metadata": {
      "needs_background": "light"
     },
     "output_type": "display_data"
    }
   ],
   "source": [
    "#строим точечный график с изображением текущего объёма статей по годам\n",
    "\n",
    "plt.scatter(x= wiki.date, y=wiki.last_volume)\n",
    "plt.xlabel('Год')\n",
    "plt.ylabel('Объём статьи (в байтах)')\n",
    "plt.title('Текущий объём статей по годам')\n",
    "plt.show()"
   ]
  },
  {
   "cell_type": "code",
   "execution_count": 120,
   "id": "98f015cd",
   "metadata": {
    "scrolled": false
   },
   "outputs": [
    {
     "data": {
      "image/png": "[encoded data removed]",
      "text/plain": [
       "<Figure size 720x576 with 1 Axes>"
      ]
     },
     "metadata": {
      "needs_background": "light"
     },
     "output_type": "display_data"
    }
   ],
   "source": [
    "#распределение текущего объёма статей согласно дате их создания\n",
    "\n",
    "plt.figure(figsize=(10,8))\n",
    "plt.scatter(x= wiki[wiki.year == 2021]['date'], y= wiki[wiki.year == 2021]['last_volume'])\n",
    "plt.ylabel('Объём статьи (в байтах)')\n",
    "plt.title('Текущий объём статей, созданных в 2021 году')\n",
    "plt.show()"
   ]
  },
  {
   "cell_type": "code",
   "execution_count": 141,
   "id": "090816cb",
   "metadata": {},
   "outputs": [
    {
     "data": {
      "image/png": "[encoded data removed]",
      "text/plain": [
       "<Figure size 1440x1008 with 8 Axes>"
      ]
     },
     "metadata": {
      "needs_background": "light"
     },
     "output_type": "display_data"
    }
   ],
   "source": [
    "#распределение текущего объёма статей по годам их создания\n",
    "\n",
    "fig, ax = plt.subplots(nrows=4, ncols=2, figsize=(20,14))\n",
    "ax1, ax2, ax3, ax4, ax5, ax6, ax7, ax8 = ax.flatten()\n",
    "wiki[wiki.year == 2009].plot('date', 'last_volume', ax=ax1, kind='scatter')\n",
    "wiki[wiki.year == 2010].plot('date', 'last_volume', ax=ax2, kind='scatter')\n",
    "wiki[wiki.year == 2011].plot('date', 'last_volume', ax=ax3, kind='scatter')\n",
    "wiki[wiki.year == 2016].plot('date', 'last_volume', ax=ax4, kind='scatter')\n",
    "wiki[wiki.year == 2017].plot('date', 'last_volume', ax=ax5, kind='scatter')\n",
    "wiki[wiki.year == 2018].plot('date', 'last_volume', ax=ax6, kind='scatter')\n",
    "wiki[wiki.year == 2020].plot('date', 'last_volume', ax=ax7, kind='scatter')\n",
    "wiki[wiki.year == 2021].plot('date', 'last_volume', ax=ax8, kind='scatter')\n",
    "plt.show()"
   ]
  },
  {
   "cell_type": "code",
   "execution_count": 137,
   "id": "637051c9",
   "metadata": {},
   "outputs": [
    {
     "data": {
      "text/html": [
       "<div>\n",
       "<style scoped>\n",
       "    .dataframe tbody tr th:only-of-type {\n",
       "        vertical-align: middle;\n",
       "    }\n",
       "\n",
       "    .dataframe tbody tr th {\n",
       "        vertical-align: top;\n",
       "    }\n",
       "\n",
       "    .dataframe thead th {\n",
       "        text-align: right;\n",
       "    }\n",
       "</style>\n",
       "<table border=\"1\" class=\"dataframe\">\n",
       "  <thead>\n",
       "    <tr style=\"text-align: right;\">\n",
       "      <th></th>\n",
       "      <th>Заголовок страницы</th>\n",
       "      <th>date</th>\n",
       "      <th>first_volume</th>\n",
       "      <th>last_volume</th>\n",
       "      <th>year</th>\n",
       "      <th>month</th>\n",
       "    </tr>\n",
       "  </thead>\n",
       "  <tbody>\n",
       "    <tr>\n",
       "      <th>892</th>\n",
       "      <td>Байн, Уве</td>\n",
       "      <td>2010-06-28 11:06:00</td>\n",
       "      <td>21962</td>\n",
       "      <td>24539.0</td>\n",
       "      <td>2010</td>\n",
       "      <td>6</td>\n",
       "    </tr>\n",
       "    <tr>\n",
       "      <th>781</th>\n",
       "      <td>Бельтран, Карлос</td>\n",
       "      <td>2012-10-06 14:18:00</td>\n",
       "      <td>20383</td>\n",
       "      <td>23124.0</td>\n",
       "      <td>2012</td>\n",
       "      <td>10</td>\n",
       "    </tr>\n",
       "    <tr>\n",
       "      <th>777</th>\n",
       "      <td>Беркман, Лэнс</td>\n",
       "      <td>2012-10-09 19:28:00</td>\n",
       "      <td>15210</td>\n",
       "      <td>18506.0</td>\n",
       "      <td>2012</td>\n",
       "      <td>10</td>\n",
       "    </tr>\n",
       "    <tr>\n",
       "      <th>786</th>\n",
       "      <td>Карпентер, Крис</td>\n",
       "      <td>2012-10-01 11:32:00</td>\n",
       "      <td>14867</td>\n",
       "      <td>16482.0</td>\n",
       "      <td>2012</td>\n",
       "      <td>10</td>\n",
       "    </tr>\n",
       "    <tr>\n",
       "      <th>871</th>\n",
       "      <td>Диц, Бернард</td>\n",
       "      <td>2010-07-05 10:20:00</td>\n",
       "      <td>14481</td>\n",
       "      <td>16865.0</td>\n",
       "      <td>2010</td>\n",
       "      <td>7</td>\n",
       "    </tr>\n",
       "  </tbody>\n",
       "</table>\n",
       "</div>"
      ],
      "text/plain": [
       "    Заголовок страницы                date  first_volume  last_volume  year  \\\n",
       "892          Байн, Уве 2010-06-28 11:06:00         21962      24539.0  2010   \n",
       "781   Бельтран, Карлос 2012-10-06 14:18:00         20383      23124.0  2012   \n",
       "777      Беркман, Лэнс 2012-10-09 19:28:00         15210      18506.0  2012   \n",
       "786    Карпентер, Крис 2012-10-01 11:32:00         14867      16482.0  2012   \n",
       "871       Диц, Бернард 2010-07-05 10:20:00         14481      16865.0  2010   \n",
       "\n",
       "     month  \n",
       "892      6  \n",
       "781     10  \n",
       "777     10  \n",
       "786     10  \n",
       "871      7  "
      ]
     },
     "execution_count": 137,
     "metadata": {},
     "output_type": "execute_result"
    }
   ],
   "source": [
    "#Cамые большие статьи, которые я заводил. \n",
    "#Википедия даёт данные на первое сохранение, поэтому статистика не является валидной - \n",
    "#первое сохранение не явялется завершением работы над статьёйи\n",
    "\n",
    "wiki.sort_values('first_volume', ascending=False).head(5)"
   ]
  },
  {
   "cell_type": "code",
   "execution_count": 138,
   "id": "79471925",
   "metadata": {},
   "outputs": [
    {
     "data": {
      "text/html": [
       "<div>\n",
       "<style scoped>\n",
       "    .dataframe tbody tr th:only-of-type {\n",
       "        vertical-align: middle;\n",
       "    }\n",
       "\n",
       "    .dataframe tbody tr th {\n",
       "        vertical-align: top;\n",
       "    }\n",
       "\n",
       "    .dataframe thead th {\n",
       "        text-align: right;\n",
       "    }\n",
       "</style>\n",
       "<table border=\"1\" class=\"dataframe\">\n",
       "  <thead>\n",
       "    <tr style=\"text-align: right;\">\n",
       "      <th></th>\n",
       "      <th>Заголовок страницы</th>\n",
       "      <th>date</th>\n",
       "      <th>first_volume</th>\n",
       "      <th>last_volume</th>\n",
       "      <th>year</th>\n",
       "      <th>month</th>\n",
       "    </tr>\n",
       "  </thead>\n",
       "  <tbody>\n",
       "    <tr>\n",
       "      <th>540</th>\n",
       "      <td>Батютин, Андрей Андреевич</td>\n",
       "      <td>2016-08-14 14:20:00</td>\n",
       "      <td>407</td>\n",
       "      <td>4830.0</td>\n",
       "      <td>2016</td>\n",
       "      <td>8</td>\n",
       "    </tr>\n",
       "    <tr>\n",
       "      <th>524</th>\n",
       "      <td>Сен-Луи, Дилан</td>\n",
       "      <td>2016-08-21 16:53:00</td>\n",
       "      <td>410</td>\n",
       "      <td>6195.0</td>\n",
       "      <td>2016</td>\n",
       "      <td>8</td>\n",
       "    </tr>\n",
       "    <tr>\n",
       "      <th>529</th>\n",
       "      <td>Ковалёв, Никита Александрович</td>\n",
       "      <td>2016-08-20 20:19:00</td>\n",
       "      <td>450</td>\n",
       "      <td>3258.0</td>\n",
       "      <td>2016</td>\n",
       "      <td>8</td>\n",
       "    </tr>\n",
       "    <tr>\n",
       "      <th>513</th>\n",
       "      <td>Уинкс, Гарри</td>\n",
       "      <td>2016-08-27 15:02:00</td>\n",
       "      <td>462</td>\n",
       "      <td>8937.0</td>\n",
       "      <td>2016</td>\n",
       "      <td>8</td>\n",
       "    </tr>\n",
       "    <tr>\n",
       "      <th>572</th>\n",
       "      <td>Обляков, Иван Сергеевич</td>\n",
       "      <td>2016-07-31 15:28:00</td>\n",
       "      <td>508</td>\n",
       "      <td>23727.0</td>\n",
       "      <td>2016</td>\n",
       "      <td>7</td>\n",
       "    </tr>\n",
       "  </tbody>\n",
       "</table>\n",
       "</div>"
      ],
      "text/plain": [
       "                Заголовок страницы                date  first_volume  \\\n",
       "540      Батютин, Андрей Андреевич 2016-08-14 14:20:00           407   \n",
       "524                 Сен-Луи, Дилан 2016-08-21 16:53:00           410   \n",
       "529  Ковалёв, Никита Александрович 2016-08-20 20:19:00           450   \n",
       "513                   Уинкс, Гарри 2016-08-27 15:02:00           462   \n",
       "572        Обляков, Иван Сергеевич 2016-07-31 15:28:00           508   \n",
       "\n",
       "     last_volume  year  month  \n",
       "540       4830.0  2016      8  \n",
       "524       6195.0  2016      8  \n",
       "529       3258.0  2016      8  \n",
       "513       8937.0  2016      8  \n",
       "572      23727.0  2016      7  "
      ]
     },
     "execution_count": 138,
     "metadata": {},
     "output_type": "execute_result"
    }
   ],
   "source": [
    "#доказательство того, что первое сохранение не является показателем\n",
    "\n",
    "wiki.sort_values('first_volume', ascending=True).head(5)"
   ]
  },
  {
   "cell_type": "code",
   "execution_count": 139,
   "id": "e466b90a",
   "metadata": {},
   "outputs": [
    {
     "data": {
      "text/html": [
       "<div>\n",
       "<style scoped>\n",
       "    .dataframe tbody tr th:only-of-type {\n",
       "        vertical-align: middle;\n",
       "    }\n",
       "\n",
       "    .dataframe tbody tr th {\n",
       "        vertical-align: top;\n",
       "    }\n",
       "\n",
       "    .dataframe thead th {\n",
       "        text-align: right;\n",
       "    }\n",
       "</style>\n",
       "<table border=\"1\" class=\"dataframe\">\n",
       "  <thead>\n",
       "    <tr style=\"text-align: right;\">\n",
       "      <th></th>\n",
       "      <th>Заголовок страницы</th>\n",
       "      <th>date</th>\n",
       "      <th>first_volume</th>\n",
       "      <th>last_volume</th>\n",
       "      <th>year</th>\n",
       "      <th>month</th>\n",
       "    </tr>\n",
       "  </thead>\n",
       "  <tbody>\n",
       "    <tr>\n",
       "      <th>851</th>\n",
       "      <td>Гётце, Марио</td>\n",
       "      <td>2010-07-18 21:07:00</td>\n",
       "      <td>5620</td>\n",
       "      <td>118660.0</td>\n",
       "      <td>2010</td>\n",
       "      <td>7</td>\n",
       "    </tr>\n",
       "    <tr>\n",
       "      <th>934</th>\n",
       "      <td>Мюллер, Томас</td>\n",
       "      <td>2009-08-27 10:02:00</td>\n",
       "      <td>2600</td>\n",
       "      <td>111054.0</td>\n",
       "      <td>2009</td>\n",
       "      <td>8</td>\n",
       "    </tr>\n",
       "    <tr>\n",
       "      <th>836</th>\n",
       "      <td>Рангник, Ральф</td>\n",
       "      <td>2010-07-23 14:47:00</td>\n",
       "      <td>8314</td>\n",
       "      <td>97885.0</td>\n",
       "      <td>2010</td>\n",
       "      <td>7</td>\n",
       "    </tr>\n",
       "    <tr>\n",
       "      <th>393</th>\n",
       "      <td>Александер-Арнольд, Трент</td>\n",
       "      <td>2017-01-15 15:48:00</td>\n",
       "      <td>1991</td>\n",
       "      <td>84019.0</td>\n",
       "      <td>2017</td>\n",
       "      <td>1</td>\n",
       "    </tr>\n",
       "    <tr>\n",
       "      <th>824</th>\n",
       "      <td>Ройс, Марко</td>\n",
       "      <td>2010-07-29 12:59:00</td>\n",
       "      <td>4289</td>\n",
       "      <td>52164.0</td>\n",
       "      <td>2010</td>\n",
       "      <td>7</td>\n",
       "    </tr>\n",
       "    <tr>\n",
       "      <th>813</th>\n",
       "      <td>Перишич, Иван</td>\n",
       "      <td>2011-07-24 09:46:00</td>\n",
       "      <td>10857</td>\n",
       "      <td>46951.0</td>\n",
       "      <td>2011</td>\n",
       "      <td>7</td>\n",
       "    </tr>\n",
       "    <tr>\n",
       "      <th>951</th>\n",
       "      <td>Таски, Сердар</td>\n",
       "      <td>2009-08-23 10:24:00</td>\n",
       "      <td>4427</td>\n",
       "      <td>42450.0</td>\n",
       "      <td>2009</td>\n",
       "      <td>8</td>\n",
       "    </tr>\n",
       "    <tr>\n",
       "      <th>998</th>\n",
       "      <td>Боатенг, Жером</td>\n",
       "      <td>2009-07-02 09:42:00</td>\n",
       "      <td>5867</td>\n",
       "      <td>38986.0</td>\n",
       "      <td>2009</td>\n",
       "      <td>7</td>\n",
       "    </tr>\n",
       "    <tr>\n",
       "      <th>241</th>\n",
       "      <td>Холанн, Эрлинг</td>\n",
       "      <td>2017-09-20 15:47:00</td>\n",
       "      <td>5478</td>\n",
       "      <td>37674.0</td>\n",
       "      <td>2017</td>\n",
       "      <td>9</td>\n",
       "    </tr>\n",
       "    <tr>\n",
       "      <th>798</th>\n",
       "      <td>Тер Стеген, Марк-Андре</td>\n",
       "      <td>2011-08-07 21:31:00</td>\n",
       "      <td>6615</td>\n",
       "      <td>37094.0</td>\n",
       "      <td>2011</td>\n",
       "      <td>8</td>\n",
       "    </tr>\n",
       "  </tbody>\n",
       "</table>\n",
       "</div>"
      ],
      "text/plain": [
       "            Заголовок страницы                date  first_volume  last_volume  \\\n",
       "851               Гётце, Марио 2010-07-18 21:07:00          5620     118660.0   \n",
       "934              Мюллер, Томас 2009-08-27 10:02:00          2600     111054.0   \n",
       "836             Рангник, Ральф 2010-07-23 14:47:00          8314      97885.0   \n",
       "393  Александер-Арнольд, Трент 2017-01-15 15:48:00          1991      84019.0   \n",
       "824                Ройс, Марко 2010-07-29 12:59:00          4289      52164.0   \n",
       "813              Перишич, Иван 2011-07-24 09:46:00         10857      46951.0   \n",
       "951              Таски, Сердар 2009-08-23 10:24:00          4427      42450.0   \n",
       "998             Боатенг, Жером 2009-07-02 09:42:00          5867      38986.0   \n",
       "241             Холанн, Эрлинг 2017-09-20 15:47:00          5478      37674.0   \n",
       "798     Тер Стеген, Марк-Андре 2011-08-07 21:31:00          6615      37094.0   \n",
       "\n",
       "     year  month  \n",
       "851  2010      7  \n",
       "934  2009      8  \n",
       "836  2010      7  \n",
       "393  2017      1  \n",
       "824  2010      7  \n",
       "813  2011      7  \n",
       "951  2009      8  \n",
       "998  2009      7  \n",
       "241  2017      9  \n",
       "798  2011      8  "
      ]
     },
     "execution_count": 139,
     "metadata": {},
     "output_type": "execute_result"
    }
   ],
   "source": [
    "#самые крупные статьи из заведённых мной\n",
    "\n",
    "wiki.sort_values('last_volume', ascending=False).head(10)"
   ]
  },
  {
   "cell_type": "code",
   "execution_count": 140,
   "id": "f5e7266d",
   "metadata": {
    "scrolled": true
   },
   "outputs": [
    {
     "data": {
      "text/html": [
       "<div>\n",
       "<style scoped>\n",
       "    .dataframe tbody tr th:only-of-type {\n",
       "        vertical-align: middle;\n",
       "    }\n",
       "\n",
       "    .dataframe tbody tr th {\n",
       "        vertical-align: top;\n",
       "    }\n",
       "\n",
       "    .dataframe thead th {\n",
       "        text-align: right;\n",
       "    }\n",
       "</style>\n",
       "<table border=\"1\" class=\"dataframe\">\n",
       "  <thead>\n",
       "    <tr style=\"text-align: right;\">\n",
       "      <th></th>\n",
       "      <th>Заголовок страницы</th>\n",
       "      <th>date</th>\n",
       "      <th>first_volume</th>\n",
       "      <th>last_volume</th>\n",
       "      <th>year</th>\n",
       "      <th>month</th>\n",
       "    </tr>\n",
       "  </thead>\n",
       "  <tbody>\n",
       "    <tr>\n",
       "      <th>997</th>\n",
       "      <td>Влахина</td>\n",
       "      <td>2009-07-03 06:31:00</td>\n",
       "      <td>931</td>\n",
       "      <td>1737.0</td>\n",
       "      <td>2009</td>\n",
       "      <td>7</td>\n",
       "    </tr>\n",
       "    <tr>\n",
       "      <th>911</th>\n",
       "      <td>Хасселькопф</td>\n",
       "      <td>2010-06-06 08:42:00</td>\n",
       "      <td>1427</td>\n",
       "      <td>1744.0</td>\n",
       "      <td>2010</td>\n",
       "      <td>6</td>\n",
       "    </tr>\n",
       "    <tr>\n",
       "      <th>236</th>\n",
       "      <td>Давинкопф</td>\n",
       "      <td>2018-07-26 18:34:00</td>\n",
       "      <td>1724</td>\n",
       "      <td>1831.0</td>\n",
       "      <td>2018</td>\n",
       "      <td>7</td>\n",
       "    </tr>\n",
       "    <tr>\n",
       "      <th>916</th>\n",
       "      <td>Бёртон, Роберт (политик)</td>\n",
       "      <td>2009-09-15 18:35:00</td>\n",
       "      <td>1265</td>\n",
       "      <td>2297.0</td>\n",
       "      <td>2009</td>\n",
       "      <td>9</td>\n",
       "    </tr>\n",
       "    <tr>\n",
       "      <th>872</th>\n",
       "      <td>The Wolves Go Hunt Their Prey</td>\n",
       "      <td>2010-07-04 20:39:00</td>\n",
       "      <td>2478</td>\n",
       "      <td>2449.0</td>\n",
       "      <td>2010</td>\n",
       "      <td>7</td>\n",
       "    </tr>\n",
       "    <tr>\n",
       "      <th>365</th>\n",
       "      <td>Ван де Берг, Тим</td>\n",
       "      <td>2017-07-12 08:34:00</td>\n",
       "      <td>3098</td>\n",
       "      <td>2522.0</td>\n",
       "      <td>2017</td>\n",
       "      <td>7</td>\n",
       "    </tr>\n",
       "    <tr>\n",
       "      <th>235</th>\n",
       "      <td>Парзайершпитце</td>\n",
       "      <td>2018-07-28 05:34:00</td>\n",
       "      <td>2283</td>\n",
       "      <td>2527.0</td>\n",
       "      <td>2018</td>\n",
       "      <td>7</td>\n",
       "    </tr>\n",
       "    <tr>\n",
       "      <th>960</th>\n",
       "      <td>Хорниг, Хайнц</td>\n",
       "      <td>2009-07-23 08:55:00</td>\n",
       "      <td>3184</td>\n",
       "      <td>2636.0</td>\n",
       "      <td>2009</td>\n",
       "      <td>7</td>\n",
       "    </tr>\n",
       "    <tr>\n",
       "      <th>880</th>\n",
       "      <td>Set Sail to Mystery</td>\n",
       "      <td>2010-07-02 13:25:00</td>\n",
       "      <td>2599</td>\n",
       "      <td>2652.0</td>\n",
       "      <td>2010</td>\n",
       "      <td>7</td>\n",
       "    </tr>\n",
       "    <tr>\n",
       "      <th>136</th>\n",
       "      <td>Жуан Виктор (футболист, 2002)</td>\n",
       "      <td>2020-11-15 09:22:00</td>\n",
       "      <td>2599</td>\n",
       "      <td>2659.0</td>\n",
       "      <td>2020</td>\n",
       "      <td>11</td>\n",
       "    </tr>\n",
       "  </tbody>\n",
       "</table>\n",
       "</div>"
      ],
      "text/plain": [
       "                Заголовок страницы                date  first_volume  \\\n",
       "997                        Влахина 2009-07-03 06:31:00           931   \n",
       "911                    Хасселькопф 2010-06-06 08:42:00          1427   \n",
       "236                      Давинкопф 2018-07-26 18:34:00          1724   \n",
       "916       Бёртон, Роберт (политик) 2009-09-15 18:35:00          1265   \n",
       "872  The Wolves Go Hunt Their Prey 2010-07-04 20:39:00          2478   \n",
       "365               Ван де Берг, Тим 2017-07-12 08:34:00          3098   \n",
       "235                 Парзайершпитце 2018-07-28 05:34:00          2283   \n",
       "960                  Хорниг, Хайнц 2009-07-23 08:55:00          3184   \n",
       "880            Set Sail to Mystery 2010-07-02 13:25:00          2599   \n",
       "136  Жуан Виктор (футболист, 2002) 2020-11-15 09:22:00          2599   \n",
       "\n",
       "     last_volume  year  month  \n",
       "997       1737.0  2009      7  \n",
       "911       1744.0  2010      6  \n",
       "236       1831.0  2018      7  \n",
       "916       2297.0  2009      9  \n",
       "872       2449.0  2010      7  \n",
       "365       2522.0  2017      7  \n",
       "235       2527.0  2018      7  \n",
       "960       2636.0  2009      7  \n",
       "880       2652.0  2010      7  \n",
       "136       2659.0  2020     11  "
      ]
     },
     "execution_count": 140,
     "metadata": {},
     "output_type": "execute_result"
    }
   ],
   "source": [
    "#самые короткие статьи из заведённых мною\n",
    "\n",
    "wiki.sort_values('last_volume', ascending=True).head(10)"
   ]
  },
  {
   "cell_type": "markdown",
   "id": "a2047c33",
   "metadata": {},
   "source": [
    "Первичные и текущие объёмы созданных статей не обладают валидностью в должной мере. Первичные учитывают лишь начальное сохранение, что с учётом необходимости сохраняться как можно чаще, дабы не допустить потерю информации, не обладает необходимыми свойствами для оценки вклада участника в развитие Википедии. \n",
    "\n",
    "Текущие объёмы созданных статей также не могут говорить о вкладе пользователя - после его действий без требуемых уровней защиты Википедию может править любой. С другой стороны, конечный показатель чуть более информативен: он показывает приобретённые знания портала, интерес статьи для автора или иных пользователей.\n",
    "\n",
    "Показатели среднего объёма статей сокращались с каждым годом. Объяснить это можно двумя фактами:\n",
    "\n",
    "- сократилось количество потраченного времени на создание статей (~уменьшилось их качество);\n",
    "- тема статей сконцентрировалась исключительно на юных футболистах, которые только начали собственную карьеру и биография которых не обладает достаточными фактами и достижениями.\n",
    "\n",
    "Наибольший объём статей, которые были заведены мною, приходится на двух чемпионов мира - немцев **Марио Гётце** и **Томаса Мюллера**. Оба имеют текущий объём более **100000 байт**. Худшие показатели у гор **Влахина**, **Хасселькопф** и **Давинкопф**, которые представляют из себя краткие заметки с основными географическими показателями. \n",
    "\n",
    "Во всех графиках заметны выбросы, т.е. в каждом из годов создания появлялись статьи, которые могут оказаться крупными в рамках проекта. Поскольку большая часть страниц - это биографии футболистов, можно ожидать, что величина статьи будет зависеть от его карьеры. С другой стороны, начиная **с 2018 года**, не появилось ни одной статьи, которая могла бы дотянуть до 20000 байт.\n",
    "\n",
    "Есть мнение, что текущий объём - не значит конечный.\n",
    "Однако ныне его картина такова."
   ]
  }
 ],
 "metadata": {
  "kernelspec": {
   "display_name": "Python 3",
   "language": "python",
   "name": "python3"
  },
  "language_info": {
   "codemirror_mode": {
    "name": "ipython",
    "version": 3
   },
   "file_extension": ".py",
   "mimetype": "text/x-python",
   "name": "python",
   "nbconvert_exporter": "python",
   "pygments_lexer": "ipython3",
   "version": "3.8.8"
  }
 },
 "nbformat": 4,
 "nbformat_minor": 5
}
